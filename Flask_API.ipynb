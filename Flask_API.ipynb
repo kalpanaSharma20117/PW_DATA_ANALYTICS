{
  "nbformat": 4,
  "nbformat_minor": 0,
  "metadata": {
    "colab": {
      "provenance": [],
      "authorship_tag": "ABX9TyMLej6BseIBL1M/vayDGaau",
      "include_colab_link": true
    },
    "kernelspec": {
      "name": "python3",
      "display_name": "Python 3"
    },
    "language_info": {
      "name": "python"
    }
  },
  "cells": [
    {
      "cell_type": "markdown",
      "metadata": {
        "id": "view-in-github",
        "colab_type": "text"
      },
      "source": [
        "<a href=\"https://colab.research.google.com/github/kalpanaSharma20117/PW_DATA_ANALYTICS/blob/main/Flask_API.ipynb\" target=\"_parent\"><img src=\"https://colab.research.google.com/assets/colab-badge.svg\" alt=\"Open In Colab\"/></a>"
      ]
    },
    {
      "cell_type": "markdown",
      "source": [
        "# Assignment- Restful API & Flask\n"
      ],
      "metadata": {
        "id": "ENNNgsVr2aUm"
      }
    },
    {
      "cell_type": "markdown",
      "source": [
        "### Ques1. What is a RESTful API?\n"
      ],
      "metadata": {
        "id": "ztcsXEqz2mVU"
      }
    },
    {
      "cell_type": "markdown",
      "source": [
        "A RESTful API (Representational State Transfer API) is a way for two computer systems (like your web browser and a server) to communicate over the internet using HTTP requests (like GET, POST, PUT, DELETE) in a structured and consistent way.\n"
      ],
      "metadata": {
        "id": "y2hvlGWF3rwb"
      }
    },
    {
      "cell_type": "markdown",
      "source": [
        "### Ques2. Explain the concept of API specification.\n"
      ],
      "metadata": {
        "id": "pM0QlmNV3uFT"
      }
    },
    {
      "cell_type": "markdown",
      "source": [
        "An API specification is like a blueprint that clearly defines how an API behaves, what requests it expects, and what responses it will return. It helps developers understand how to interact with an API without needing to read the backend code.\n",
        "#### What API Specification Includes:\n",
        "Feature\tDescription  \n",
        "Endpoints\t-URLs where API can be accessed (e.g., /users, /products/:id)  \n",
        "Methods-\tHTTP methods allowed (GET, POST, PUT, DELETE, etc.)  \n",
        "Request -Parameters\tRequired/optional inputs (like headers, query params, body data)  \n",
        "Request Format-\tExpected format of input (e.g., JSON, XML)  \n",
        "Response Format\t-What the API sends back (status code, response body format)  \n",
        "Status Codes-\tE.g., 200 OK, 404 Not Found, 500 Server Error  \n",
        "Authentication-\tIf and how to provide tokens, API keys, etc.  "
      ],
      "metadata": {
        "id": "2inBh_4o4C6X"
      }
    },
    {
      "cell_type": "markdown",
      "source": [
        "#### Ques3. What is Flask, and why is it popular for building APIs?\n"
      ],
      "metadata": {
        "id": "2x6775YP4501"
      }
    },
    {
      "cell_type": "markdown",
      "source": [
        "Flask is a lightweight web framework written in Python, used for building web applications and RESTful APIs quickly and easily.\n",
        "Flask is popular for building APIs because it’s simple, fast, and flexible, especially for beginners and small-to-medium projects.\n",
        "1.  Built-in Development Server\twe can run and test our API easily on our local machine.\n",
        "2.  Simplicity\tVery easy to understand and write. Few lines of code can build an API.\n",
        "3.  Easily Extendable\tAdd features like authentication, databases, etc., using extensions."
      ],
      "metadata": {
        "id": "CMUaDCUw5Mvc"
      }
    },
    {
      "cell_type": "markdown",
      "source": [
        "#### Ques4.What is routing in Flask?\n"
      ],
      "metadata": {
        "id": "wLJ9RtOu5GBk"
      }
    },
    {
      "cell_type": "markdown",
      "source": [
        "Routing in Flask is the process of connecting URLs (routes) to functions in your Python code. When a user visits a specific URL, Flask knows which function to run based on the route.\n",
        "\n"
      ],
      "metadata": {
        "id": "86n7t7d87Ud-"
      }
    },
    {
      "cell_type": "code",
      "source": [
        "from flask import Flask\n",
        "\n",
        "app = Flask(__name__)\n",
        "\n",
        "@app.route('/')\n",
        "def home():\n",
        "    return \"Welcome to the homepage!\"\n",
        "\n",
        "@app.route('/about')\n",
        "def about():\n",
        "    return \"This is the about page.\"\n"
      ],
      "metadata": {
        "id": "AbKnHeuK7dTo"
      },
      "execution_count": 1,
      "outputs": []
    },
    {
      "cell_type": "markdown",
      "source": [
        "#### Ques5.How do you create a simple Flask application.\n"
      ],
      "metadata": {
        "id": "rqGplc797j3E"
      }
    },
    {
      "cell_type": "code",
      "source": [
        "!pip install flask\n"
      ],
      "metadata": {
        "colab": {
          "base_uri": "https://localhost:8080/"
        },
        "id": "Q1aZGIlX2sHt",
        "outputId": "ed6332ca-2852-43e2-b3e2-872627527c83"
      },
      "execution_count": 2,
      "outputs": [
        {
          "output_type": "stream",
          "name": "stdout",
          "text": [
            "Requirement already satisfied: flask in /usr/local/lib/python3.11/dist-packages (3.1.1)\n",
            "Requirement already satisfied: blinker>=1.9.0 in /usr/local/lib/python3.11/dist-packages (from flask) (1.9.0)\n",
            "Requirement already satisfied: click>=8.1.3 in /usr/local/lib/python3.11/dist-packages (from flask) (8.2.0)\n",
            "Requirement already satisfied: itsdangerous>=2.2.0 in /usr/local/lib/python3.11/dist-packages (from flask) (2.2.0)\n",
            "Requirement already satisfied: jinja2>=3.1.2 in /usr/local/lib/python3.11/dist-packages (from flask) (3.1.6)\n",
            "Requirement already satisfied: markupsafe>=2.1.1 in /usr/local/lib/python3.11/dist-packages (from flask) (3.0.2)\n",
            "Requirement already satisfied: werkzeug>=3.1.0 in /usr/local/lib/python3.11/dist-packages (from flask) (3.1.3)\n"
          ]
        }
      ]
    },
    {
      "cell_type": "code",
      "source": [
        "from flask import Flask\n",
        "\n",
        "app = Flask(__name__)  # Initialize the app\n",
        "\n",
        "@app.route('/')  # Define the route for the homepage\n",
        "def home():\n",
        "    return \"Hello, Flask!\"  # Response for this route\n",
        "\n",
        "# Run the app\n",
        "if __name__ == '__main__':\n",
        "    app.run(debug=True)\n"
      ],
      "metadata": {
        "id": "_D2wRPy29PAc"
      },
      "execution_count": null,
      "outputs": []
    },
    {
      "cell_type": "code",
      "source": [
        "python app.py #(In terminal)\n"
      ],
      "metadata": {
        "id": "WgZbgd758_B8"
      },
      "execution_count": null,
      "outputs": []
    },
    {
      "cell_type": "markdown",
      "source": [
        "#### Ques6. What are HTTP methods used in RESTful APIs?\n"
      ],
      "metadata": {
        "id": "RzBvDZ6Y9WcB"
      }
    },
    {
      "cell_type": "markdown",
      "source": [
        "RESTful APIs use HTTP methods to define the type of action to be performed on a resource. These methods map to CRUD operations (Create, Read, Update, Delete).\n",
        "for ex:  \n",
        "Let’s say you're working with a /users resource.\n",
        "\n",
        "GET /users → List all users\n",
        "\n",
        "GET /users/1 → Get user with ID = 1\n",
        "\n",
        "POST /users → Create a new user\n",
        "\n",
        "PUT /users/1 → Replace user 1’s entire data\n",
        "\n",
        "PATCH /users/1 → Modify only part of user 1’s data\n",
        "\n",
        "DELETE /users/1 → Remove user 1"
      ],
      "metadata": {
        "id": "K5Cj-O9S9erD"
      }
    },
    {
      "cell_type": "markdown",
      "source": [
        "#### Ques7. What is the purpose of the @app.route() decorator in Flask\n"
      ],
      "metadata": {
        "id": "4oJiTVEZ9qKk"
      }
    },
    {
      "cell_type": "markdown",
      "source": [
        "The @app.route() decorator in Flask is used to map a specific URL to a Python function. This function becomes a view function, and it handles requests sent to that URL.It tells Flask:  \n",
        "“When someone visits this URL, run this function.”"
      ],
      "metadata": {
        "id": "1YmqqQTr9w9r"
      }
    },
    {
      "cell_type": "code",
      "source": [
        "@app.route('/hello')\n",
        "def hello():\n",
        "    return 'Hello, World!'\n"
      ],
      "metadata": {
        "id": "AU3r2pe7-DIf"
      },
      "execution_count": null,
      "outputs": []
    },
    {
      "cell_type": "markdown",
      "source": [
        "#### Ques8.What is the difference between GET and POST HTTP methods?\n"
      ],
      "metadata": {
        "id": "jVMtsnZd99YL"
      }
    },
    {
      "cell_type": "markdown",
      "source": [
        "1. GET:  \n",
        "  Retrieve data from the server,  \n",
        "  Data in Request: Sent via URL parameters (query string)  \n",
        "  Data visible in URL (less secure)    \n",
        "  Limited by URL length (usually ~2000 chars)  \n",
        "  Possible to bookmark the URL with parameters  \n",
        "  Use Case: Getting/fetching data without side effects  \n",
        "\n",
        "2. POST:  \n",
        "  Send data to the server (usually to create/update resources)\n",
        "  Data in Request: Data in Request\n",
        "  Data not shown in URL (more secure)\n",
        "  No practical limit of data length (depends on server configuration)\n",
        "  use case: Submitting form data, uploading files, changing server state\n",
        "\n",
        "GET: Used to fetch data; parameters are in the URL; safe and idempotent.  \n",
        "POST: Used to send data; data is in the request body; changes server state; not idempotent"
      ],
      "metadata": {
        "id": "kyvuCZ2l-HL8"
      }
    },
    {
      "cell_type": "markdown",
      "source": [
        "#### Ques 9. How do you handle errors in Flask APIs?\n"
      ],
      "metadata": {
        "id": "hO33c7Mu_aGD"
      }
    },
    {
      "cell_type": "markdown",
      "source": [
        "1. Using Flask’s @app.errorhandler Decorator"
      ],
      "metadata": {
        "id": "VQgTFaid_jYT"
      }
    },
    {
      "cell_type": "code",
      "source": [
        "from flask import Flask, jsonify\n",
        "\n",
        "app = Flask(__name__)\n",
        "\n",
        "# Handle 404 Not Found error\n",
        "@app.errorhandler(404)\n",
        "def not_found(error):\n",
        "    return jsonify({\"error\": \"Resource not found\"}), 404\n",
        "\n",
        "# Handle 500 Internal Server Error\n",
        "@app.errorhandler(500)\n",
        "def internal_error(error):\n",
        "    return jsonify({\"error\": \"Internal server error\"}), 500\n"
      ],
      "metadata": {
        "id": "tQOFU4sq_sCk"
      },
      "execution_count": null,
      "outputs": []
    },
    {
      "cell_type": "markdown",
      "source": [
        "2. Raising HTTP Exceptions"
      ],
      "metadata": {
        "id": "4O58XblB_zD3"
      }
    },
    {
      "cell_type": "code",
      "source": [
        "from flask import abort\n",
        "\n",
        "@app.route('/item/<int:item_id>')\n",
        "def get_item(item_id):\n",
        "    item = find_item(item_id)\n",
        "    if not item:\n",
        "        abort(404)  # Raises 404 error\n",
        "    return jsonify(item)\n"
      ],
      "metadata": {
        "id": "rDlmUk6v_8d9"
      },
      "execution_count": null,
      "outputs": []
    },
    {
      "cell_type": "markdown",
      "source": [
        "#### Ques10. How do you connect Flask to a SQL database?\n"
      ],
      "metadata": {
        "id": "tCwPmR91_95L"
      }
    },
    {
      "cell_type": "markdown",
      "source": [
        "SQLAlchemy is a powerful ORM (Object Relational Mapper) that makes it easy to interact with SQL databases."
      ],
      "metadata": {
        "id": "bcJ36calAPx4"
      }
    },
    {
      "cell_type": "code",
      "source": [
        "pip install Flask\n",
        "pip install Flask-SQLAlchemy"
      ],
      "metadata": {
        "id": "TsfFI4kBAEBT"
      },
      "execution_count": null,
      "outputs": []
    },
    {
      "cell_type": "code",
      "source": [
        "app = Flask(__name__)\n",
        "# For SQLite database (file-based)\n",
        "app.config['SQLALCHEMY_DATABASE_URI'] = 'sqlite:///mydatabase.db'\n",
        "db = SQLAlchemy(app)\n",
        "\n",
        "#Define database models (tables) using Python classes:\n",
        "class User(db.Model):\n",
        "    id = db.Column(db.Integer, primary_key=True)\n",
        "    username = db.Column(db.String(80), unique=True, nullable=False)\n",
        "    email = db.Column(db.String(120), unique=True, nullable=False)\n",
        "\n",
        "    def __repr__(self):\n",
        "        return f'<User {self.username}>'\n",
        "\n",
        "with app.app_context():\n",
        "    db.create_all()\n",
        "\n",
        "# Adding a new user\n",
        "new_user = User(username='john', email='john@example.com')\n",
        "db.session.add(new_user)\n",
        "db.session.commit()\n",
        "\n",
        "# Query users\n",
        "users = User.query.all()\n",
        "print(users)\n"
      ],
      "metadata": {
        "id": "uX1mOCMc9V3k"
      },
      "execution_count": null,
      "outputs": []
    },
    {
      "cell_type": "markdown",
      "source": [
        "#### Ques11. What is the role of Flask-SQLAlchemy?\n"
      ],
      "metadata": {
        "id": "d7OqaBj1BH8b"
      }
    },
    {
      "cell_type": "markdown",
      "source": [
        "Flask-SQLAlchemy is an extension for Flask that simplifies working with SQL databases using SQLAlchemy, a powerful Object Relational Mapper (ORM).\n",
        "You only need to set the connection string (SQLALCHEMY_DATABASE_URI) in the app config.\n",
        "Instead of writing raw SQL queries, you define Python classes that map to database tables.\n",
        "class User(db.Model):\n",
        "    id = db.Column(db.Integer, primary_key=True)\n",
        "    username = db.Column(db.String(80))\n",
        "Feature and Role of Flask-SQLAlchemy  \n",
        "DB -- connection\tSimplifies URI setup for various databases  \n",
        "ORM --\tUse Python classes instead of SQL queries  \n",
        "Table creation --\tdb.create_all() creates tables automatically  \n",
        "CRUD operations\t-- Easy insert, update, delete using db.session  \n",
        "Querying\t-- Use .query.filter_by() instead of SQL  \n"
      ],
      "metadata": {
        "id": "b1y2cAzmBMzs"
      }
    },
    {
      "cell_type": "markdown",
      "source": [
        "#### Ques12. What are Flask blueprints, and how are they useful?\n"
      ],
      "metadata": {
        "id": "r4bfomosCRLt"
      }
    },
    {
      "cell_type": "markdown",
      "source": [
        "A Blueprint in Flask is a way to organize your application into modular, reusable components.\n"
      ],
      "metadata": {
        "id": "YaiFrsDSCXM0"
      }
    },
    {
      "cell_type": "code",
      "source": [
        "#Step 1: Create a Blueprint\n",
        "# user.py\n",
        "from flask import Blueprint\n",
        "\n",
        "user_bp = Blueprint('user', __name__)\n",
        "\n",
        "@user_bp.route('/profile')\n",
        "def profile():\n",
        "    return \"User Profile Page\"\n",
        "\n",
        "#step2: Register the Blueprint in Your Main App\n",
        "# app.py\n",
        "from flask import Flask\n",
        "from user import user_bp\n",
        "\n",
        "app = Flask(__name__)\n",
        "app.register_blueprint(user_bp, url_prefix='/user')\n",
        "\n",
        "if __name__ == '__main__':\n",
        "    app.run(debug=True)\n",
        "\n"
      ],
      "metadata": {
        "id": "Va3FWj2rClad"
      },
      "execution_count": null,
      "outputs": []
    },
    {
      "cell_type": "markdown",
      "source": [
        "Blueprints are very Useful:\n",
        "1. Modular Code\n",
        "2. Reusability\n",
        "3. Separation of Concerns: Separate logic like user auth, admin panel, etc.\n",
        "\n"
      ],
      "metadata": {
        "id": "yACV2TqbCxNL"
      }
    },
    {
      "cell_type": "markdown",
      "source": [
        "#### Ques13. What is the purpose of Flask's request object?\n"
      ],
      "metadata": {
        "id": "wZAc96IYDEIk"
      }
    },
    {
      "cell_type": "markdown",
      "source": [
        "Flask's request object (imported from flask) is used to access incoming request data sent by the client (like a browser or API call).\n",
        "\n",
        "It helps you retrieve information such as:\n",
        "Form data  \n",
        "Query parameters  \n",
        "JSON payloads  \n",
        "Headers  \n",
        "HTTP methods  \n",
        "Files  \n",
        "When a user sends data (via a form, API request, etc.), Flask stores this data in the request object. This allows your application to process user input."
      ],
      "metadata": {
        "id": "kXOmcVpEDKmO"
      }
    },
    {
      "cell_type": "markdown",
      "source": [
        "#### Ques14. How do you create a RESTful API endpoint using Flask?\n"
      ],
      "metadata": {
        "id": "XEn1zWAADdgS"
      }
    },
    {
      "cell_type": "markdown",
      "source": [
        "To create a RESTful API endpoint in Flask, you define routes that correspond to HTTP methods like GET, POST, PUT, DELETE.\n"
      ],
      "metadata": {
        "id": "ynHQQ-YMF4zt"
      }
    },
    {
      "cell_type": "code",
      "source": [
        "from flask import Flask, request, jsonify\n",
        "\n",
        "app = Flask(__name__)\n",
        "books = [\n",
        "    {'id': 1, 'title': 'The Alchemist', 'author': 'Paulo Coelho'},\n",
        "    {'id': 2, 'title': '1984', 'author': 'George Orwell'}\n",
        "]\n",
        "# GET: Fetch all books\n",
        "@app.route('/books', methods=['GET'])\n",
        "def get_books():\n",
        "    return jsonify(books)\n",
        "\n",
        "# GET by ID: Get a specific book\n",
        "@app.route('/books/<int:book_id>', methods=['GET'])\n",
        "def get_book(book_id):\n",
        "    for book in books:\n",
        "        if book['id'] == book_id:\n",
        "            return jsonify(book)\n",
        "    return jsonify({'error': 'Book not found'}), 404\n",
        "\n",
        "# POST: Add a new book\n",
        "@app.route('/books', methods=['POST'])\n",
        "def add_book():\n",
        "    data = request.get_json()\n",
        "    books.append(data)\n",
        "    return jsonify({'message': 'Book added successfully!'}), 201"
      ],
      "metadata": {
        "id": "bvHGwHSYGFWW"
      },
      "execution_count": null,
      "outputs": []
    },
    {
      "cell_type": "markdown",
      "source": [
        "#### Ques15. What is the purpose of Flask's jsonify() function?\n"
      ],
      "metadata": {
        "id": "afuNZRiVGOnm"
      }
    },
    {
      "cell_type": "markdown",
      "source": [
        "Flask’s jsonify() function is used to convert Python data structures (like dict, list) into JSON format, which is the standard data format for APIs.\n",
        "* It automatically sets the correct Content-Type header to application/json.\n",
        "* Ensures the response is properly serialized JSON.\n",
        "* Works well with HTTP clients like Postman, JavaScript, etc.\n",
        "\n"
      ],
      "metadata": {
        "id": "HDbD-ePwGU1V"
      }
    },
    {
      "cell_type": "markdown",
      "source": [
        "#### Ques. 16 Explain Flask’s url_for() function.\n"
      ],
      "metadata": {
        "id": "5U9G8WceG0kN"
      }
    },
    {
      "cell_type": "markdown",
      "source": [
        "Flask’s url_for() function is used to dynamically build URLs for a given function name (i.e., endpoint), rather than hardcoding URLs manually in your code.\n",
        "* Automatically generates correct URLs even if routes change.\n",
        "* Avoids hardcoding paths → easier to maintain.\n",
        "* Useful for linking to other views or for redirects."
      ],
      "metadata": {
        "id": "4K5epQ9hG6nl"
      }
    },
    {
      "cell_type": "markdown",
      "source": [
        "#### Ques 17. How does Flask handle static files (CSS, JavaScript, etc.)?\n"
      ],
      "metadata": {
        "id": "kudF_bXEHd1V"
      }
    },
    {
      "cell_type": "markdown",
      "source": [
        "Flask handles static files (like CSS, JavaScript, images) using a special folder named static/ in your project directory.\n",
        "Best practice is to Keep your CSS, JS, images inside the static/ folder.\n",
        "Always use url_for('static', filename='...') for linking to static files in templates."
      ],
      "metadata": {
        "id": "zQwe1_gZHkad"
      }
    },
    {
      "cell_type": "markdown",
      "source": [
        "#### Ques18. What is an API specification, and how does it help in building a Flask API?\n"
      ],
      "metadata": {
        "id": "0u75aVUVHyiU"
      }
    },
    {
      "cell_type": "markdown",
      "source": [
        "An API specification is a blueprint or contract that defines how your API works. It describes:\n",
        "* What endpoints are available (URLs)\n",
        "* What HTTP methods are supported (GET, POST, etc.)\n",
        "* What parameters should be passed (query, path, body)\n",
        "* What data is returned (response format)\n",
        "* What errors can occur and how they are reported.\n",
        "\n",
        "API Specification is like a contract that defines how an API behaves.\n",
        "It helps make Flask API development faster, clearer, and easier to maintain and test.\n",
        "\n"
      ],
      "metadata": {
        "id": "uzulKfPSH4lg"
      }
    },
    {
      "cell_type": "markdown",
      "source": [
        "#### Ques19. What are HTTP status codes, and why are they important in a Flask API?\n"
      ],
      "metadata": {
        "id": "ZXYAxFB9IOHs"
      }
    },
    {
      "cell_type": "markdown",
      "source": [
        "HTTP status codes are three-digit numbers returned by a server in response to an API request.\n",
        "They indicate whether the request was successful, failed, or resulted in an error, and what kind of issue it was.\n",
        "\n",
        "Code Range And it's meaning:\n",
        "1xx\tInformational\t100 Continue\n",
        "2xx\tSuccess\t200 OK, 201 Created\n",
        "3xx\tRedirection\t301 Moved Permanently\n",
        "4xx\t Client Errors\t400 Bad Request, 404 Not Found\n",
        "5xx\t Server Errors\t500 Internal Server Error.\n",
        "\n",
        "It is important in:\n",
        "*  Security & Validation: Helps to inform if access is denied (e.g., 403 Forbidden) or input is wrong (400).\n",
        "* Help in Debugging: \tDifferent status codes help identify what went wrong — client mistake or server error.\n",
        "\n",
        "\n",
        "\n"
      ],
      "metadata": {
        "id": "ml82hkmPITTs"
      }
    },
    {
      "cell_type": "markdown",
      "source": [
        "#### Ques20. How do you handle POST requests in Flask?"
      ],
      "metadata": {
        "id": "DxqXzhORKr59"
      }
    },
    {
      "cell_type": "markdown",
      "source": [
        "In Flask, you handle POST requests by:  \n",
        "Creating a route that accepts POST method.  \n",
        "Using Flask’s request object to access incoming data from the request body.  \n"
      ],
      "metadata": {
        "id": "OjyGaBoyK0TX"
      }
    },
    {
      "cell_type": "code",
      "source": [
        "from flask import Flask, request, jsonify\n",
        "\n",
        "app = Flask(__name__)\n",
        "\n",
        "@app.route('/submit', methods=['POST'])  # Step 1: Allow POST\n",
        "def submit_data():\n",
        "    data = request.get_json()  # Step 2: Get JSON data from POST body\n",
        "    name = data.get('name')    # Step 3: Access individual fields\n",
        "    return jsonify(message=f\"Hello, {name}! Your data was received.\"), 200\n"
      ],
      "metadata": {
        "id": "9OA0lYWiLKU6"
      },
      "execution_count": null,
      "outputs": []
    },
    {
      "cell_type": "markdown",
      "source": [
        "#### Ques 21.How would you secure a Flask API?\n"
      ],
      "metadata": {
        "id": "1K6E_NkZLVF3"
      }
    },
    {
      "cell_type": "markdown",
      "source": [
        "Securing a Flask API involves several layers of protection to ensure that only authorized users can access the API, data is safe, and the system is resilient against attacks.\n",
        "Key Techniques to Secure a Flask API:\n",
        "*  Authentication & Authorization: we can use token based authentication like JWT.\n",
        "* Use HTTPS:\n",
        "Always deploy your API behind HTTPS to encrypt data in transit.\n",
        "* Error Handling:\n",
        "Avoid revealing sensitive info in error messages.\n",
        "* Secure Headers:\n",
        "Set HTTP headers to protect against common vulnerabilities:\n",
        "Content-Security-Policy  \n",
        "X-Content-Type-Options  \n",
        "X-Frame-Options  \n"
      ],
      "metadata": {
        "id": "ihkjoNh7LfGE"
      }
    },
    {
      "cell_type": "markdown",
      "source": [
        "#### Ques22. What is the significance of the Flask-RESTful extension?\n"
      ],
      "metadata": {
        "id": "HY29bOmsNTxX"
      }
    },
    {
      "cell_type": "markdown",
      "source": [
        "Flask-RESTful is an extension for Flask that simplifies building RESTful APIs. It provides tools and abstractions to make API development faster, cleaner, and more organized.\n",
        "Key Significance / Benefits of Flask-RESTful:\n",
        "Simplifies API Development  \n",
        "Automatic Request Parsing  \n",
        "Built-in Support for HTTP Methods  \n",
        "Error Handling and Customization  \n"
      ],
      "metadata": {
        "id": "9KGchuz0NYHs"
      }
    },
    {
      "cell_type": "markdown",
      "source": [
        "#### Ques23. What is the role of Flask’s session object?\n"
      ],
      "metadata": {
        "id": "uxfM52ydNzbk"
      }
    },
    {
      "cell_type": "markdown",
      "source": [
        "The session object in Flask is used to store data specific to a user across multiple requests. It allows us to keep information between different pages or visits during a user's session on our web application.\n",
        "Key Points About Flask’s session:\n",
        "* User-specific storage:\n",
        "Data stored in session is unique to each user and lasts until the browser is closed or the session expires.\n",
        "* Works like a dictionary:\n",
        "We can store key-value pairs, e.g., session['username'] = 'kalpi'.\n",
        "* Securely stored: Flask signs the session data cryptographically, so it can be stored client-side (in cookies) but cannot be tampered with."
      ],
      "metadata": {
        "id": "jlyDYw9DN2Y9"
      }
    },
    {
      "cell_type": "markdown",
      "source": [
        "# Practical Questions"
      ],
      "metadata": {
        "id": "iZxRv-wCOgWk"
      }
    },
    {
      "cell_type": "markdown",
      "source": [
        "#### Ques1. How do you create a basic Flask application?\n"
      ],
      "metadata": {
        "id": "4PCFkwGLOonD"
      }
    },
    {
      "cell_type": "code",
      "source": [
        "# Step 1: Import the Flask class\n",
        "from flask import Flask\n",
        "\n",
        "# Step 2: Create a Flask application instance\n",
        "app = Flask(__name__)\n",
        "\n",
        "# Step 3: Define a route (URL) and its associated view function\n",
        "@app.route('/')\n",
        "def home():\n",
        "    return \"Hello, Flask!\"\n",
        "\n",
        "# Step 4: Run the application\n",
        "if __name__ == '__main__':\n",
        "    app.run(debug=True)\n"
      ],
      "metadata": {
        "id": "g9-z54JNO1Qc"
      },
      "execution_count": null,
      "outputs": []
    },
    {
      "cell_type": "markdown",
      "source": [
        "Ques2. How do you serve static files like images or CSS in Flask?\n"
      ],
      "metadata": {
        "id": "EBwWRF6NPIMV"
      }
    },
    {
      "cell_type": "markdown",
      "source": [
        "In Flask, static files such as CSS, JavaScript, images, etc., are served from a special folder named static/ by default.\n",
        "Steps to Serve Static Files:\n",
        "Create a folder named static in your Flask project directory.\n",
        "\n",
        "Place your static files (like style.css, logo.png, etc.) inside this folder.\n",
        "\n",
        "In your HTML templates, reference these static files using url_for('static', filename='yourfile.ext')."
      ],
      "metadata": {
        "id": "jFl16pfpOyv_"
      }
    },
    {
      "cell_type": "markdown",
      "source": [
        "#### Ques3. How do you define different routes with different HTTP methods in Flask?\n"
      ],
      "metadata": {
        "id": "XbwN_aPqPj6d"
      }
    },
    {
      "cell_type": "code",
      "source": [
        "from flask import Flask, request\n",
        "\n",
        "app = Flask(__name__)\n",
        "\n",
        "@app.route('/login', methods=['GET', 'POST'])\n",
        "def login():\n",
        "    if request.method == 'GET':\n",
        "        return '''\n",
        "            <form action=\"/login\" method=\"post\">\n",
        "                <input type=\"text\" name=\"username\" placeholder=\"Enter username\"/>\n",
        "                <input type=\"submit\"/>\n",
        "            </form>\n",
        "        '''\n",
        "    elif request.method == 'POST':\n",
        "        username = request.form['username']\n",
        "        return f'Hello, {username}!'\n",
        "\n",
        "if __name__ == '__main__':\n",
        "    app.run(debug=True)\n"
      ],
      "metadata": {
        "id": "kgLJQ9oGPqQe"
      },
      "execution_count": null,
      "outputs": []
    },
    {
      "cell_type": "markdown",
      "source": [
        "#### Ques4.  How do you render HTML templates in Flask?"
      ],
      "metadata": {
        "id": "GxKPGlMxP2hk"
      }
    },
    {
      "cell_type": "code",
      "source": [
        "#In Flask, you can render HTML templates using the render_template() function. Flask uses Jinja2 templating engine to embed dynamic data into HTML.\n"
      ],
      "metadata": {
        "id": "SB_N6k_bOjHS"
      },
      "execution_count": null,
      "outputs": []
    },
    {
      "cell_type": "markdown",
      "source": [
        " Basic Steps to Render HTML Template:\n",
        "1. Create a templates/ folder in your Flask project directory.\n",
        "2. Place your HTML files (e.g., home.html) inside this folder.\n",
        "3. Use render_template(\"home.html\") in your Flask route."
      ],
      "metadata": {
        "id": "Kw4majlzQIi8"
      }
    },
    {
      "cell_type": "code",
      "source": [
        "#home.html (inside templates/ folder):\n",
        "<!DOCTYPE html>\n",
        "<html>\n",
        "<head>\n",
        "    <title>Flask Home</title>\n",
        "</head>\n",
        "<body>\n",
        "    <h1>Hello, {{ name }}!</h1>\n",
        "</body>\n",
        "</html>\n"
      ],
      "metadata": {
        "id": "lXrayFWXQQyr"
      },
      "execution_count": null,
      "outputs": []
    },
    {
      "cell_type": "code",
      "source": [
        "#app.py>>\n",
        "from flask import Flask, render_template\n",
        "\n",
        "app = Flask(__name__)\n",
        "\n",
        "@app.route('/')\n",
        "def home():\n",
        "    return render_template('home.html', name='Alice')\n",
        "\n",
        "if __name__ == '__main__':\n",
        "    app.run(debug=True)\n",
        "\n"
      ],
      "metadata": {
        "id": "WN8rOmdaQVct"
      },
      "execution_count": null,
      "outputs": []
    },
    {
      "cell_type": "markdown",
      "source": [
        "#### Ques5. How can you generate URLs for routes in Flask using url_for?"
      ],
      "metadata": {
        "id": "owfc9CFwQba9"
      }
    },
    {
      "cell_type": "code",
      "source": [
        "#Flask's url_for() function dynamically generates URLs based on the function name associated with a route.\n",
        "#This makes your application more maintainable, especially when routes change.\n",
        "from flask import Flask, url_for\n",
        "\n",
        "app = Flask(__name__)\n",
        "\n",
        "@app.route('/about')\n",
        "def about():\n",
        "    return 'About Page'\n",
        "\n",
        "@app.route('/')\n",
        "def home():\n",
        "    # This generates: '/about'\n",
        "    return f\"The about page is at: {url_for('about')}\"\n"
      ],
      "metadata": {
        "id": "7fOxTjWvQgwL"
      },
      "execution_count": null,
      "outputs": []
    },
    {
      "cell_type": "markdown",
      "source": [
        "#### Ques6.  How do you handle forms in Flask?\n"
      ],
      "metadata": {
        "id": "Dk7NTlIrQsGL"
      }
    },
    {
      "cell_type": "code",
      "source": [
        "#Flask allows you to handle HTML forms using the request object.\n",
        "#Forms are typically submitted using POST or GET methods, and Flask provides tools to access and validate that data.\n",
        "\n",
        "#app.py>>\n",
        "from flask import Flask, request, render_template\n",
        "\n",
        "app = Flask(__name__)\n",
        "\n",
        "@app.route('/form', methods=['GET', 'POST'])\n",
        "def handle_form():\n",
        "    if request.method == 'POST':\n",
        "        username = request.form['username']\n",
        "        return f'Hello, {username}!'\n",
        "    return render_template('form.html')\n"
      ],
      "metadata": {
        "id": "K2zCyjDlQwzb"
      },
      "execution_count": null,
      "outputs": []
    },
    {
      "cell_type": "code",
      "source": [
        "#templates/form.html\n",
        "<!doctype html>\n",
        "<html>\n",
        "<head><title>Form</title></head>\n",
        "<body>\n",
        "  <form method=\"POST\">\n",
        "    <label>Username:</label>\n",
        "    <input type=\"text\" name=\"username\">\n",
        "    <input type=\"submit\" value=\"Submit\">\n",
        "  </form>\n",
        "</body>\n",
        "</html>\n",
        "\n",
        "request.form['username']  # Access value of the form input\n"
      ],
      "metadata": {
        "id": "8tsVMe4uRDTG"
      },
      "execution_count": null,
      "outputs": []
    },
    {
      "cell_type": "markdown",
      "source": [
        "#### Ques7. How can you validate form data in Flask?\n"
      ],
      "metadata": {
        "id": "5UB56kbnRKY0"
      }
    },
    {
      "cell_type": "code",
      "source": [
        "#Flask-WTF>> Flask extension that integrates with WTForms and adds form rendering, validation, and CSRF protection.\n",
        "pip install flask-wtf\n",
        "\n",
        "from flask import Flask, render_template, redirect\n",
        "from flask_wtf import FlaskForm\n",
        "from wtforms import StringField, PasswordField\n",
        "from wtforms.validators import InputRequired, Length\n",
        "\n"
      ],
      "metadata": {
        "id": "QHqZpYXERPhT"
      },
      "execution_count": null,
      "outputs": []
    },
    {
      "cell_type": "code",
      "source": [
        "app = Flask(__name__)\n",
        "app.secret_key = 'your_secret_key'\n",
        "\n",
        "class LoginForm(FlaskForm):\n",
        "    username = StringField('Username', validators=[InputRequired()])\n",
        "    password = PasswordField('Password', validators=[InputRequired(), Length(min=6)])\n",
        "\n",
        "@app.route('/login', methods=['GET', 'POST'])\n",
        "def login():\n",
        "    form = LoginForm()\n",
        "    if form.validate_on_submit():\n",
        "        return f\"Welcome, {form.username.data}!\"\n",
        "    return render_template('login.html', form=form)"
      ],
      "metadata": {
        "id": "Dxcx8TaqRlz3"
      },
      "execution_count": null,
      "outputs": []
    },
    {
      "cell_type": "code",
      "source": [
        "#templates/login.html\n",
        "<form method=\"POST\">\n",
        "    {{ form.hidden_tag() }}\n",
        "    {{ form.username.label }} {{ form.username }} <br>\n",
        "    {{ form.password.label }} {{ form.password }} <br>\n",
        "    <input type=\"submit\" value=\"Login\">\n",
        "</form>\n"
      ],
      "metadata": {
        "id": "ANP45RUkRoZM"
      },
      "execution_count": null,
      "outputs": []
    },
    {
      "cell_type": "markdown",
      "source": [
        "#### Ques8. How do you manage sessions in Flask?\n"
      ],
      "metadata": {
        "id": "3TLsQirIRs_m"
      }
    },
    {
      "cell_type": "code",
      "source": [
        "#Flask provides a simple, secure way to manage user sessions using the session object.\n",
        "#A session stores information (like user login status) across multiple requests for the same user.\n",
        "\n",
        "from flask import Flask, session, redirect, url_for, request\n",
        "\n",
        "app = Flask(__name__)\n",
        "app.secret_key = 'secret123'\n",
        "\n",
        "@app.route('/login', methods=['GET', 'POST'])\n",
        "def login():\n",
        "    if request.method == 'POST':\n",
        "        session['username'] = request.form['username']\n",
        "        return redirect(url_for('profile'))\n",
        "    return '''<form method=\"post\"><input name=\"username\"><input type=\"submit\"></form>'''\n",
        "\n",
        "@app.route('/profile')\n",
        "def profile():\n",
        "    if 'username' in session:\n",
        "        return f\"Welcome {session['username']}!\"\n",
        "    return redirect(url_for('login'))\n",
        "\n",
        "@app.route('/logout')\n",
        "def logout():\n",
        "    session.pop('username', None)\n",
        "    return redirect(url_for('login'))\n"
      ],
      "metadata": {
        "id": "x82p27lPRzhO"
      },
      "execution_count": null,
      "outputs": []
    },
    {
      "cell_type": "markdown",
      "source": [
        "Flask sessions are client-side cookies, but they are signed for integrity using the secret_key.\n",
        "\n",
        "For more secure storage, you can use server-side session extensions like Flask-Session."
      ],
      "metadata": {
        "id": "jHHPR3YGSHEN"
      }
    },
    {
      "cell_type": "markdown",
      "source": [
        "#### Ques9. How do you redirect to a different route in Flask?"
      ],
      "metadata": {
        "id": "Fep8Cz2qSHz2"
      }
    },
    {
      "cell_type": "code",
      "source": [
        "from flask import Flask, redirect, url_for\n",
        "\n",
        "app = Flask(__name__)\n",
        "\n",
        "@app.route('/')\n",
        "def home():\n",
        "    return 'Home Page'\n",
        "\n",
        "@app.route('/login')\n",
        "def login():\n",
        "    return 'Login Page'\n",
        "\n",
        "@app.route('/go-to-login')\n",
        "def go_to_login():\n",
        "    return redirect(url_for('login'))\n"
      ],
      "metadata": {
        "id": "-jxR_qt9SORs"
      },
      "execution_count": null,
      "outputs": []
    },
    {
      "cell_type": "markdown",
      "source": [
        "we can also redirect wirh parameters::"
      ],
      "metadata": {
        "id": "LmhBqx9DSWaF"
      }
    },
    {
      "cell_type": "code",
      "source": [
        "from flask import Flask, redirect, url_for\n",
        "\n",
        "@app.route('/welcome/<username>')\n",
        "def welcome(username):\n",
        "    return f\"Welcome {username}\"\n",
        "\n",
        "@app.route('/redirect-user')\n",
        "def redirect_user():\n",
        "    return redirect(url_for('welcome', username='Alice'))\n"
      ],
      "metadata": {
        "id": "sLyPjDjAScDm"
      },
      "execution_count": null,
      "outputs": []
    },
    {
      "cell_type": "markdown",
      "source": [
        "#### Ques10. How do you handle errors in Flask (e.g., 404)?"
      ],
      "metadata": {
        "id": "3pzdka4WShtz"
      }
    },
    {
      "cell_type": "code",
      "source": [
        "#Flask provides a simple way to handle errors gracefully using the @app.errorhandler() decorator.\n",
        "\n",
        "from flask import Flask, render_template\n",
        "\n",
        "app = Flask(__name__)\n",
        "\n",
        "@app.errorhandler(404)\n",
        "def page_not_found(e):\n",
        "    return render_template('404.html'), 404\n",
        "\n",
        "@app.errorhandler(500)\n",
        "def internal_error(e):\n",
        "    return render_template('500.html'), 500\n",
        "\n",
        "@app.errorhandler(Exception)\n",
        "def handle_exception(e):\n",
        "    return \"An unexpected error occurred: \" + str(e), 500\n"
      ],
      "metadata": {
        "id": "7oM4sv7jSreF"
      },
      "execution_count": null,
      "outputs": []
    },
    {
      "cell_type": "markdown",
      "source": [
        "#### Ques11. How do you structure a Flask app using Blueprints?\n"
      ],
      "metadata": {
        "id": "CMJmoZArTGHW"
      }
    },
    {
      "cell_type": "code",
      "source": [
        "#Blueprints in Flask allow you to organize your application into reusable, modular components.\n",
        "#This helps manage larger applications by splitting the app into smaller parts (like modules).\n",
        "\n",
        "#Create a blueprint (auth/__init__.py):\n",
        "\n",
        "from flask import Blueprint\n",
        "auth = Blueprint('auth', __name__)\n",
        "from . import routes  # Import routes after blueprint creation\n"
      ],
      "metadata": {
        "id": "3P_IDg6iTK8f"
      },
      "execution_count": null,
      "outputs": []
    },
    {
      "cell_type": "code",
      "source": [
        "#Define routes inside the blueprint (auth/routes.py):\n",
        "\n",
        "from . import auth\n",
        "\n",
        "@auth.route('/login')\n",
        "def login():\n",
        "    return \"Login Page\"\n",
        "\n",
        "@auth.route('/logout')\n",
        "def logout():\n",
        "    return \"Logout Page\""
      ],
      "metadata": {
        "id": "DLqR3ju-Tm3U"
      },
      "execution_count": null,
      "outputs": []
    },
    {
      "cell_type": "code",
      "source": [
        "# last step m register blueprint in main app>\n",
        "\n",
        "from flask import Flask\n",
        "from auth import auth  # import the blueprint\n",
        "\n",
        "app = Flask(__name__)\n",
        "\n",
        "app.register_blueprint(auth, url_prefix='/auth')  # register blueprint with prefix\n",
        "\n",
        "if __name__ == '__main__':\n",
        "    app.run(debug=True)\n",
        "\n"
      ],
      "metadata": {
        "id": "iHVwW6J3TpDb"
      },
      "execution_count": null,
      "outputs": []
    },
    {
      "cell_type": "markdown",
      "source": [
        "#### Ques12. How do you define a custom Jinja filter in Flask?\n"
      ],
      "metadata": {
        "id": "xqIaCakET0ir"
      }
    },
    {
      "cell_type": "code",
      "source": [
        "#Jinja filters let you modify or format variables inside templates.\n",
        "# Flask uses Jinja2 as its template engine, and you can create your own custom filters to use in templates.\n",
        "\n",
        "from flask import Flask, render_template_string\n",
        "\n",
        "app = Flask(__name__)\n",
        "\n",
        "def reverse_string(s):\n",
        "    return s[::-1]\n",
        "\n",
        "app.jinja_env.filters['reverse'] = reverse_string\n",
        "\n",
        "@app.route('/')\n",
        "def index():\n",
        "    return render_template_string('{{ \"Flask\" | reverse }}')\n",
        "\n",
        "if __name__ == '__main__':\n",
        "    app.run(debug=True)\n"
      ],
      "metadata": {
        "id": "RQQYldsxT5k0"
      },
      "execution_count": null,
      "outputs": []
    },
    {
      "cell_type": "markdown",
      "source": [
        "#### Ques13. How can you redirect with query parameters in Flask?\n"
      ],
      "metadata": {
        "id": "eqFJh-mPUaW8"
      }
    },
    {
      "cell_type": "code",
      "source": [
        "#To redirect with query parameters in Flask, you can use the redirect() function combined with url_for() where you pass the query parameters as keyword arguments.\n",
        "#Flask will automatically add these as URL query strings."
      ],
      "metadata": {
        "id": "RMtO2SnRUfrl"
      },
      "execution_count": null,
      "outputs": []
    },
    {
      "cell_type": "code",
      "source": [
        "from flask import Flask, redirect, url_for, request\n",
        "\n",
        "app = Flask(__name__)\n",
        "\n",
        "@app.route('/search')\n",
        "def search():\n",
        "    query = request.args.get('q')\n",
        "    return f'Search results for: {query}'\n",
        "\n",
        "@app.route('/go-to-search')\n",
        "def go_to_search():\n",
        "    # Redirect to /search?q=flask\n",
        "    return redirect(url_for('search', q='flask'))\n",
        "\n",
        "if __name__ == '__main__':\n",
        "    app.run(debug=True)\n"
      ],
      "metadata": {
        "id": "H2iTfP7wSAIF"
      },
      "execution_count": null,
      "outputs": []
    },
    {
      "cell_type": "markdown",
      "source": [
        "#### Ques14. How do you return JSON responses in Flask?\n"
      ],
      "metadata": {
        "id": "b4tdttrlUoks"
      }
    },
    {
      "cell_type": "code",
      "source": [
        "from flask import Flask, jsonify\n",
        "\n",
        "app = Flask(__name__)\n",
        "\n",
        "@app.route('/api/data')\n",
        "def get_data():\n",
        "    data = {\n",
        "        \"name\": \"John\",\n",
        "        \"age\": 30,\n",
        "        \"city\": \"New York\"\n",
        "    }\n",
        "    return jsonify(data)\n",
        "\n",
        "if __name__ == '__main__':\n",
        "    app.run(debug=True)\n"
      ],
      "metadata": {
        "id": "l7Cs28JXUuAs"
      },
      "execution_count": null,
      "outputs": []
    },
    {
      "cell_type": "markdown",
      "source": [
        "#### Ques15. How do you capture URL parameters in Flask?"
      ],
      "metadata": {
        "id": "3jq70yHpUwxr"
      }
    },
    {
      "cell_type": "code",
      "source": [
        "from flask import Flask\n",
        "\n",
        "app = Flask(__name__)\n",
        "\n",
        "# Route with a dynamic URL parameter 'username'\n",
        "@app.route('/user/<username>')\n",
        "def show_user_profile(username):\n",
        "    return f\"User: {username}\"\n",
        "\n",
        "if __name__ == '__main__':\n",
        "    app.run(debug=True)\n"
      ],
      "metadata": {
        "id": "4YbT7N-0U9Ug"
      },
      "execution_count": null,
      "outputs": []
    },
    {
      "cell_type": "markdown",
      "source": [
        "<username> in the route means Flask will capture whatever string is in that position of the URL.\n",
        "\n",
        "This value is passed as the username argument to the show_user_profile function.\n",
        "\n",
        "Example: If you visit /user/kalpi, the response will be User: kalpi.\n",
        "\n"
      ],
      "metadata": {
        "id": "UIqEAk-_VAq0"
      }
    },
    {
      "cell_type": "code",
      "source": [],
      "metadata": {
        "id": "DXzDyf_nVGLJ"
      },
      "execution_count": null,
      "outputs": []
    }
  ]
}