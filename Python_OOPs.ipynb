{
  "nbformat": 4,
  "nbformat_minor": 0,
  "metadata": {
    "colab": {
      "provenance": [],
      "authorship_tag": "ABX9TyPbhrHFDtzt6hjTXmNnZ5vJ",
      "include_colab_link": true
    },
    "kernelspec": {
      "name": "python3",
      "display_name": "Python 3"
    },
    "language_info": {
      "name": "python"
    }
  },
  "cells": [
    {
      "cell_type": "markdown",
      "metadata": {
        "id": "view-in-github",
        "colab_type": "text"
      },
      "source": [
        "<a href=\"https://colab.research.google.com/github/kalpanaSharma20117/Python_PW/blob/main/Python_OOPs.ipynb\" target=\"_parent\"><img src=\"https://colab.research.google.com/assets/colab-badge.svg\" alt=\"Open In Colab\"/></a>"
      ]
    },
    {
      "cell_type": "markdown",
      "source": [
        "# Assignment - Python OOPs"
      ],
      "metadata": {
        "id": "boupvnY77tvH"
      }
    },
    {
      "cell_type": "markdown",
      "source": [
        "### Ques1.What is Object-Oriented Programming (OOP)?\n",
        "\n",
        "Ans. Object-Oriented Programming is a programming paradigm that organizes code into objects, which bundle together data(attributes) and behavior(methods).\n",
        "Main Ideas of OOP:\n",
        "1. Class\n",
        "2. Object\n",
        "3. Encapsulation\n",
        "4. Abstraction\n",
        "5. Polymorphism\n",
        "\n",
        "### Ques2.What is a class in OOP?\n",
        "Ans. Class is like a blueprint to craete objects.It defines properties(Attributes) and actions (methods) that object will have.\n",
        "Example: A Car class defines features like brand, model, and speed but doesn’t create an actual car.\n",
        "\n",
        "###Ques3.What is an object in OOP?\n",
        "Ans. Object is an instance of class, it has actual values assigned to the properties defined in the class.Example: A Toyota Corolla is an object of the Car class with specific values like brand = Toyota and model = Corolla.\n",
        "\n",
        "###Ques4.What is the difference between abstraction and encapsulation?\n",
        "Ans.Abstraction is the process of hiding unnecessary details and also show important details to user. In this way, we can hide complex implementation and exposing the required details. Abstraction can be achieved using abstract class(which can't be instaniated, means can't have its own objects) , abstract class may contain methods that are just declared and not implemented in abstract class itself, subclasses are responsible for implementing the abstract method.\n",
        "\n",
        "Encapsulation is the process of bundling of the data and methods. It gave us concept of Access Modifiers , hides the internal data and restricts direct access.\n",
        "Focus on how Data is protected.  \n",
        "\n",
        "###Ques5. Explain the concept of inheritance in OOPH\n",
        "Ans. Inheritence allows us to inherit  the variables and methods of parent class into child class. With the concept of inheritance, one child class can reuse or extend the properties and methods of parent class.\n",
        "It avoid code duplication, Allows modification in one place instead of many.\n",
        "There are 5 types of inheritence::\n",
        "1. Single: One Child inherits from one parent.\n",
        "2. Multiple inheritance: A child inherit from multiple parents.\n",
        "3. Multilevel Inheritance :A child inherits from a parent, which itself inherits from another parent.\n",
        "4. Hierarchical Inheritance: Multiple children inherit from one parent.\n",
        "5. Hybrid Inheritance :A combination of multiple types.\n",
        "\n",
        "### Ques6.What are dunder methods in Python?\n",
        "Ans.(Double Underscore) methods, also called magic mrthids, are special methods in python that start and end with double underscores(__method__). We use Dunder method to Customize object behavior , Make classes act like built-in types and it enables operator overloading.\n",
        "foe ex. __init__, __str__, __repr__, __len__, __add__, __delitem__.\n",
        "Dunder methods automate and customize object behavior.\n",
        "They help define how objects interact with built-in operations.\n",
        "\n",
        "### Ques7.What is polymorphism in OOP?\n",
        "Ans. Polymorphism means \"many forms.\" In OOP, it allows the same function, method, or operator to behave differently based on the object using it.Supports method overloading and method overriding.\n",
        "Types of Polymorphism\n",
        "1. Method Overriding (Runtime Polymorphism)\n",
        "A child class provides a new definition for a method from the parent class.\n",
        "2. Method Overloading (Compile-time Polymorphism)\n",
        "Defining multiple methods with the same name but different parameters (Not directly supported in Python).Instead, we can achieve it using default arguments or *args.\n",
        "3. Operator Overloading\n",
        "Using operators (+, *, ==, etc.) for custom behavior in objects.\n",
        "\n",
        "### Ques8.How is encapsulation achieved in Python?\n",
        "Ans.Encapsulation is a concept in OOP that hides data inside a class and only allows controlled access through methods.\n",
        "\n",
        "Python provides three types of access modifiers:\n",
        "\n",
        "1. Public: Accessible everywhere\n",
        "2. Protected : Can be accessed, but should be treated as private\n",
        "3. Private: variable\tNot directly accessible outside the class.\n",
        "For ex. Encapsulation using Private Variables ::\n",
        "The __balance variable is hidden and can only be accessed using the get_balance() method in BankAccount class. In this way, Encapsulation protects data by restricting direct access.Private (__variable) and protected (_variable) attributes control access.Getter & setter methods provide controlled access.\n",
        "\n",
        "### Ques9.What is a constructor in Python?\n",
        "Ans.A constructor is a special method in a class that gets automatically called when an object is created. In Python, the constructor method is named __init__().\n",
        "Initializes object properties\n",
        "Avoids manually setting attributes for every object\n",
        "Ensures every object starts with default values\n",
        "\n",
        "\n",
        "\n"
      ],
      "metadata": {
        "id": "Jo1PM_nTD7yO"
      }
    },
    {
      "cell_type": "code",
      "source": [
        "class Car:\n",
        "    def __init__(self, brand, model):  # Constructor\n",
        "        self.brand = brand\n",
        "        self.model = model\n",
        "\n",
        "    def show_info(self):\n",
        "        return f\"{self.brand} {self.model}\"\n",
        "\n",
        "# Creating Objects (Constructor gets called automatically)\n",
        "car1 = Car(\"Toyota\", \"Corolla\")\n",
        "car2 = Car(\"Honda\", \"Civic\")\n",
        "\n",
        "print(car1.show_info())  # Output: Toyota Corolla\n",
        "print(car2.show_info())  # Output: Honda Civic\n"
      ],
      "metadata": {
        "colab": {
          "base_uri": "https://localhost:8080/"
        },
        "id": "MoschS3gODNH",
        "outputId": "68d9844e-86dc-4584-980f-4977c76449ab"
      },
      "execution_count": null,
      "outputs": [
        {
          "output_type": "stream",
          "name": "stdout",
          "text": [
            "Toyota Corolla\n",
            "Honda Civic\n"
          ]
        }
      ]
    },
    {
      "cell_type": "markdown",
      "source": [
        "### Ques10. What are class and static methods in Python?\n",
        "Ans. Python provides two special types of methods inside a class:\n",
        "1. Class Methods (@classmethod):\n",
        "Uses the class itself as a parameter (cls).Can modify class-level attributes, not just instance attributes.\n",
        "2. Static Methods (@staticmethod):\n",
        "Does NOT access class or instance attributes.\n",
        "Used for utility/helper functions inside a class.\n",
        "Defined using the @staticmethod decorator.\n",
        "Example of Class Method:\n",
        "\n"
      ],
      "metadata": {
        "id": "G7wGtdlsOHFO"
      }
    },
    {
      "cell_type": "code",
      "source": [
        "class Car:\n",
        "    wheels = 4  # Class attribute\n",
        "\n",
        "    @classmethod\n",
        "    def change_wheels(cls, new_wheels):\n",
        "        cls.wheels = new_wheels  # Modifies class attribute\n",
        "\n",
        "print(Car.wheels)  # Output: 4\n",
        "Car.change_wheels(6)\n",
        "print(Car.wheels)  # Output: 6\n"
      ],
      "metadata": {
        "colab": {
          "base_uri": "https://localhost:8080/"
        },
        "id": "oRhimPCePCAl",
        "outputId": "af9696ac-92b1-4cd9-e2b2-07feae162c6f"
      },
      "execution_count": null,
      "outputs": [
        {
          "output_type": "stream",
          "name": "stdout",
          "text": [
            "4\n",
            "6\n"
          ]
        }
      ]
    },
    {
      "cell_type": "markdown",
      "source": [
        "### Ques11.What is method overloading in Python?\n",
        "Ans. It means definig methods with same name but different parameters.\n",
        "Python does not support true method overloading like Java or C++.\n",
        "Instead, we can simulate it using default arguments or *args.\n",
        "\n",
        "\n",
        "\n"
      ],
      "metadata": {
        "id": "mWfw04RHPKC6"
      }
    },
    {
      "cell_type": "code",
      "source": [
        "class MathOperations:\n",
        "    def add(self, *numbers):  # Accepts any number of arguments\n",
        "        return sum(numbers)\n",
        "\n",
        "math = MathOperations()\n",
        "print(math.add(5))         # Output: 5\n",
        "print(math.add(5, 10))     # Output: 15\n",
        "print(math.add(5, 10, 15)) # Output: 30\n"
      ],
      "metadata": {
        "id": "uJKOh6UYQ_t_"
      },
      "execution_count": null,
      "outputs": []
    },
    {
      "cell_type": "markdown",
      "source": [
        "### Ques12.What is method overriding in OOP?\n",
        "Ans. Method overriding allows child class to modify a method from its parent class.\n",
        "The method name and parameters remain the same, but the behavior changes.\n",
        "This is an example of runtime polymorphism.\n"
      ],
      "metadata": {
        "id": "mgYLw9_1RH-r"
      }
    },
    {
      "cell_type": "code",
      "source": [
        "class Animal:\n",
        "    def speak(self):  # Parent class method\n",
        "        return \"Some generic animal sound\"\n",
        "\n",
        "class Dog(Animal):\n",
        "    def speak(self):  # Overriding the method\n",
        "        return \"Woof!\"\n",
        "\n",
        "class Cat(Animal):\n",
        "    def speak(self):  # Overriding the method\n",
        "        return \"Meow!\"\n",
        "\n",
        "dog = Dog()\n",
        "cat = Cat()\n",
        "\n",
        "print(dog.speak())\n",
        "print(cat.speak())\n"
      ],
      "metadata": {
        "colab": {
          "base_uri": "https://localhost:8080/"
        },
        "id": "VqW4mPOgSZU1",
        "outputId": "3ee705fe-eda8-40bd-ec50-6eaba0a62e34"
      },
      "execution_count": null,
      "outputs": [
        {
          "output_type": "stream",
          "name": "stdout",
          "text": [
            "Woof!\n",
            "Meow!\n"
          ]
        }
      ]
    },
    {
      "cell_type": "markdown",
      "source": [
        "### Ques 13.What is a property decorator in Python?\n",
        "Ans. Property decorator , @property makes a method act like an attribute, It helps in data encapsulationand validation.\n",
        "@property.setter allows controlled updates, @property.deleter customizes deletion of attributes"
      ],
      "metadata": {
        "id": "P5nccJcPSgj8"
      }
    },
    {
      "cell_type": "code",
      "source": [
        "class Circle:\n",
        "  def __init__(self, radius):\n",
        "    self.__radius = radius\n",
        "\n",
        "  @property\n",
        "  def area(self):\n",
        "    return 3.14 * self.__radius * self.__radius\n",
        "\n",
        "circle = Circle(5)\n",
        "print(circle.area)"
      ],
      "metadata": {
        "colab": {
          "base_uri": "https://localhost:8080/"
        },
        "id": "d-4MhY3STwMh",
        "outputId": "cef69d43-b6f3-4980-9da6-45ae35de3cc4"
      },
      "execution_count": null,
      "outputs": [
        {
          "output_type": "stream",
          "name": "stdout",
          "text": [
            "78.5\n"
          ]
        }
      ]
    },
    {
      "cell_type": "markdown",
      "source": [
        "### Ques14.Why is polymorphism important in OOP?\n",
        "Ans. Polymorphism means \"many forms\" – it allows the same method or function to work differently based on the object calling it.It's important because:\n",
        "1. Code Reusability: Same function name works for different types of objects.\n",
        "2. Flexibility & Scalability: New classes can be added without modifying existing code.\n",
        "3. Improves Readability :Makes the code simpler and cleaner.\n",
        "4. Supports OOP Principles: Works with inheritance & encapsulation for better design.\n",
        "\n",
        "### Ques15.What is an abstract class in Python?\n",
        "Ans. An abstract class is a class that cannot be instantiated directly. It acts as a blueprint for other classes and contains abstract methods that must be implemented by subclasses.\n",
        "Why we Use Abstract Classes, because:\n",
        "Forces subclasses to implement certain methods\n",
        "Ensures consistency across multiple classes\n",
        "Supports abstraction and polymorphism\n",
        "\n",
        "### Ques16.What are the advantages of OOP?\n",
        "Ans.OOP is a programming technique based on objects and classes. It provides a structured way to organize and manage code efficiently. It's Advantages-\n",
        "1. Code Reusability:\n",
        "Write once, use multiple times with inheritance.\n",
        "2. Encapsulation(Data Hiding And Security):\n",
        "It Protect sensitive data using private variables and methods.\n",
        "3. Polymorphism (Same Interface, Different Behavior):\n",
        "same method name, but different behavior in different classes.Improves flexibility and scalability.\n",
        "4. Inheritance(Avoids Code Duplication)\n",
        "child class reuse parent parent class code.\n",
        "5. Real-World Mapping:\n",
        "OOP is based on real-world entities like Car, Person, BankAccount.Makes problem-solving intuitive and closer to real-life objects.\n",
        "\n",
        "### Ques17. What is the difference between a class variable and an instance variable?\n",
        "Ans. Both class variables and instance variables are used to store data in a class, but they have different behaviors.\n",
        "Shared by all objects of the class.\n",
        "Defined inside the class but outside methods.Changes affect all instances.\n"
      ],
      "metadata": {
        "id": "TGVEsGgOUwdF"
      }
    },
    {
      "cell_type": "code",
      "source": [
        "class Car:\n",
        "    wheels = 4  # Class variable\n",
        "\n",
        "car1 = Car()\n",
        "car2 = Car()\n",
        "\n",
        "print(car1.wheels)  # Output: 4\n",
        "print(car2.wheels)  # Output: 4\n",
        "\n",
        "Car.wheels = 6  # Changing class variable\n",
        "print(car1.wheels)  # Output: 6\n",
        "print(car2.wheels)  # Output: 6\n"
      ],
      "metadata": {
        "colab": {
          "base_uri": "https://localhost:8080/"
        },
        "id": "KbmQGOfpaFS3",
        "outputId": "e4a3f9d5-109b-479b-e47c-67969f70f05d"
      },
      "execution_count": null,
      "outputs": [
        {
          "output_type": "stream",
          "name": "stdout",
          "text": [
            "4\n",
            "4\n",
            "6\n",
            "6\n"
          ]
        }
      ]
    },
    {
      "cell_type": "markdown",
      "source": [
        "Instance Variable: Unique to each object (instance-specific).\n",
        "Defined inside the constructor (__init__()) using self.\n",
        "Changes affect only that instance."
      ],
      "metadata": {
        "id": "iC4viRWDFg7h"
      }
    },
    {
      "cell_type": "code",
      "source": [
        "class Car:\n",
        "    def __init__(self, color):\n",
        "        self.color = color  # Instance variable\n",
        "\n",
        "car1 = Car(\"Red\")\n",
        "\n",
        "print(car1.color)  # Output: Red\n",
        "car1.color = \"Green\"  # Changing instance variable\n",
        "print(car1.color)  # Output: Green\n"
      ],
      "metadata": {
        "id": "ceqQyi__aT4a"
      },
      "execution_count": null,
      "outputs": []
    },
    {
      "cell_type": "markdown",
      "source": [
        "### Ques18.What is multiple inheritance in Python?\n",
        "Ans. Multiple Inheritance allows a class to inherit from more than one parent class. This means a child class can have features from multiple base classes.\n",
        "We use Multiple instance to Promote reusability , combining features and promote flexibility.\n",
        "\n"
      ],
      "metadata": {
        "id": "ZsQ5dmlUajqi"
      }
    },
    {
      "cell_type": "code",
      "source": [
        "class Parent1:\n",
        "  def method1(self):\n",
        "    return \"Method from Parent1\"\n",
        "\n",
        "class Parent2:\n",
        "  def method2(self):\n",
        "    return \"Method from Parent2\"\n",
        "\n",
        "class Child(Parent1, Parent2):\n",
        "  pass\n",
        "\n",
        "child1 = Child()\n",
        "print(child1.method1())\n",
        "print(child1.method2())"
      ],
      "metadata": {
        "colab": {
          "base_uri": "https://localhost:8080/"
        },
        "id": "OUfpvQALbGO0",
        "outputId": "d3967b15-3e88-48ff-a265-c5b56d253c5a"
      },
      "execution_count": null,
      "outputs": [
        {
          "output_type": "stream",
          "name": "stdout",
          "text": [
            "Method from Parent1\n",
            "Method from Parent2\n"
          ]
        }
      ]
    },
    {
      "cell_type": "markdown",
      "source": [
        "### Ques 19.Explain the purpose of ‘’__str__’ and ‘__repr__’ ‘ methods in Python.\n",
        "Ans.Both __str__ and __repr__ are dunder methods in Python that define how an object is represented as a string.\n",
        "1. __str__() : used for creating an human readable string representation of an object. Called when you print(obj) or str(obj).Should return a user-friendly description.\n",
        "\n",
        "\n"
      ],
      "metadata": {
        "id": "kaHozJfCcPMh"
      }
    },
    {
      "cell_type": "code",
      "source": [
        "class Person:\n",
        "  def __init__(self, name, age):\n",
        "    self.name = name\n",
        "    self.age = age\n",
        "\n",
        "  def __str__(self):\n",
        "    return f\"Person(name = {self.name}, age ={self.age})\"\n",
        "\n",
        "p = Person(\"Kalpana\", 23)\n",
        "print(str(p))\n",
        "print(p)"
      ],
      "metadata": {
        "colab": {
          "base_uri": "https://localhost:8080/"
        },
        "id": "lIC7F5uvfKi7",
        "outputId": "16263d6a-be4e-4c20-da0e-16fdc8b739c4"
      },
      "execution_count": 2,
      "outputs": [
        {
          "output_type": "stream",
          "name": "stdout",
          "text": [
            "Person(name = Kalpana, age =23)\n",
            "Person(name = Kalpana, age =23)\n"
          ]
        }
      ]
    },
    {
      "cell_type": "markdown",
      "source": [
        "2. __repr__ (): used to give an unambiguous and precise represenation of an object.Best for developers who need an accurate representation of the object.\n",
        "\n",
        "\n"
      ],
      "metadata": {
        "id": "MqM4IQPVe5gp"
      }
    },
    {
      "cell_type": "code",
      "source": [
        "class Person:\n",
        "    def __init__(self, name, age):\n",
        "        self.name = name\n",
        "        self.age = age\n",
        "\n",
        "    def __repr__(self):\n",
        "        return f\"Person('{self.name}', {self.age})\"  # Developer-friendly output\n",
        "\n",
        "p = Person(\"Alice\", 30)\n",
        "print(repr(p))  # Accurate representation of the object.\n"
      ],
      "metadata": {
        "id": "8SSIrq5igm7o"
      },
      "execution_count": null,
      "outputs": []
    },
    {
      "cell_type": "markdown",
      "source": [
        "#### Ques20.What is the significance of the ‘super()’ function in Python?\n",
        "Ans.The super() function in Python is used to call methods from the parent class inside a child class. It helps in code reuse and supports multiple inheritance.Avoids manual parent class reference (no need to use Parent.method(self)).\n",
        "\n"
      ],
      "metadata": {
        "id": "9SrO8YSCgyK3"
      }
    },
    {
      "cell_type": "code",
      "source": [
        "class Parent:\n",
        "  def show(self):\n",
        "    return \"Method from Parent\"\n",
        "\n",
        "class Child(Parent):\n",
        "  def show(self):\n",
        "    return super().show() + \" And Child\"\n",
        "\n",
        "c = Child()\n",
        "print(c.show())"
      ],
      "metadata": {
        "colab": {
          "base_uri": "https://localhost:8080/"
        },
        "id": "G4MPPEgghIRV",
        "outputId": "9186c066-3cce-468c-92d5-17572c2e4c26"
      },
      "execution_count": 7,
      "outputs": [
        {
          "output_type": "stream",
          "name": "stdout",
          "text": [
            "Method from Parent And Child\n"
          ]
        }
      ]
    },
    {
      "cell_type": "markdown",
      "source": [
        "#### Ques21.What is the significance of the __del__ method in Python?\n",
        "Ans. __del__ method in python is also called as destructor and is used to free up resources, it is called when an object is about to be destroyed. __del__ is called when When an object goes out of scope or is deleted using del.\n"
      ],
      "metadata": {
        "id": "yEH8k01yhcR_"
      }
    },
    {
      "cell_type": "code",
      "source": [
        "class Student:\n",
        "  def __init__(self, name):\n",
        "    self.name = name\n",
        "    print(f\"Object {self.name} is created !!\")\n",
        "\n",
        "  def __del__(self):\n",
        "    print(f\" Object {self.name} is being deleted!!\")\n",
        "\n",
        "stud1 = Student(\"Kalpana\")\n",
        "del stud1\n",
        "#When del stud1 is executed, __del__() is called automatically."
      ],
      "metadata": {
        "colab": {
          "base_uri": "https://localhost:8080/"
        },
        "id": "QMmP5NYpjZQg",
        "outputId": "d4dd0719-9163-45c0-f112-61f43581211a"
      },
      "execution_count": 10,
      "outputs": [
        {
          "output_type": "stream",
          "name": "stdout",
          "text": [
            "Object Kalpana is created !!\n",
            " Object Kalpana is being deleted!!\n"
          ]
        }
      ]
    },
    {
      "cell_type": "markdown",
      "source": [
        "#### Ques22.What is the difference between @staticmethod and @classmethod in Python.\n",
        "Ans. Both @staticmethod and @classmethod is used inside a class but have different functionalities. class method(@classmethod) are methods associated with class itself, and not any specific instance of class,They take cls as thier first parameter, which represent the class, and it can be accessed by both class and instance objects\n",
        "Staticmethod is like a normal function defined inside the class, They does not take self or cls as thier first parameter are not associated with either the class or instance of class.\n"
      ],
      "metadata": {
        "id": "OjbMph13kJ7L"
      }
    },
    {
      "cell_type": "code",
      "source": [
        "class Student:\n",
        "\n",
        "  student_created = 0 #class variable\n",
        "\n",
        "  def __init__(self, name):\n",
        "    self.name = name\n",
        "    Student.student_created += 1\n",
        "\n",
        "  @classmethod\n",
        "  def Show_info(cls):\n",
        "    return f\"Number of Students created are {cls.student_created}\"\n",
        "\n",
        "  @staticmethod\n",
        "  def static_method():\n",
        "    return \"I'm a static method, i don't need self or cls\"\n",
        "\n",
        "stud1 = Student(\"Kalpana\")\n",
        "stud2 = Student(\"Nobbi\")\n",
        "print(stud1.Show_info())\n",
        "print(stud2.Show_info())\n",
        "\n",
        "print(stud1.static_method())"
      ],
      "metadata": {
        "colab": {
          "base_uri": "https://localhost:8080/"
        },
        "id": "mmTJtk1wmCAj",
        "outputId": "2398089c-311a-4d8d-990a-545c820967e6"
      },
      "execution_count": 18,
      "outputs": [
        {
          "output_type": "stream",
          "name": "stdout",
          "text": [
            "Number of Students created are 2\n",
            "Number of Students created are 2\n",
            "I'm a static method, i don't need self or cls\n"
          ]
        }
      ]
    },
    {
      "cell_type": "markdown",
      "source": [
        "#### Ques23.How does polymorphism work in Python with inheritance.\n",
        "Ans. It allows same function, method or operator to behave differently based on the object using it, It Supports Method Overloading and Method Overriding(Which is useful concept wrt inheritance).When used with inheritance, it enables a child class to override methods from the parent class.\n"
      ],
      "metadata": {
        "id": "f7KbRuPDo-kf"
      }
    },
    {
      "cell_type": "code",
      "source": [
        "class Animal:\n",
        "    def sound(self):\n",
        "        return \"Some generic animal sound\"\n",
        "\n",
        "class Dog(Animal):\n",
        "    def sound(self):  # Overriding the parent method\n",
        "        return \"Bark\"\n",
        "\n",
        "class Cat(Animal):\n",
        "    def sound(self):  # Overriding the parent method\n",
        "        return \"Meow\"\n",
        "\n",
        "# Using Polymorphism\n",
        "animals = [Dog(), Cat(), Animal()]  # Different objects with the same method\n",
        "\n",
        "for animal in animals:\n",
        "    print(animal.sound())\n"
      ],
      "metadata": {
        "colab": {
          "base_uri": "https://localhost:8080/"
        },
        "id": "m3H5yKJrp24Y",
        "outputId": "213bd0ba-4dd3-4d65-9ca1-18ae4769761f"
      },
      "execution_count": 19,
      "outputs": [
        {
          "output_type": "stream",
          "name": "stdout",
          "text": [
            "Bark\n",
            "Meow\n",
            "Some generic animal sound\n"
          ]
        }
      ]
    },
    {
      "cell_type": "markdown",
      "source": [
        "#### Ques24. What is method chaining in Python OOP?\n",
        "Ans.Method Chaining in Python OOP allows calling multiple methods on the same object in a single statement.It is achieved by making each method return self, so that the next method can be called on the returned object.\n"
      ],
      "metadata": {
        "id": "ImhrYemtqFyy"
      }
    },
    {
      "cell_type": "code",
      "source": [
        "class Student:\n",
        "  def __init__(self, name):\n",
        "    self.name = name\n",
        "    self.subjects = []\n",
        "\n",
        "  def add_subjects(self, subject):\n",
        "    self.subjects.append(subject)\n",
        "    return self\n",
        "\n",
        "  def show_subjects(self):\n",
        "    print(f\"{self.name} has enrolled in : {', '.join(self.subjects)}\")\n",
        "    return self\n",
        "\n",
        "stud1 = Student(\"Aman\")\n",
        "stud1.add_subjects(\"Maths\").add_subjects(\"Science\").show_subjects()\n",
        "#Instead of writing multiple lines, we chain the methods together!"
      ],
      "metadata": {
        "colab": {
          "base_uri": "https://localhost:8080/"
        },
        "id": "G9tjGNPAquUP",
        "outputId": "f4be594e-ce70-4d7d-a18e-21be5e2f3555"
      },
      "execution_count": 21,
      "outputs": [
        {
          "output_type": "stream",
          "name": "stdout",
          "text": [
            "Aman has enrolled in : Maths, Science\n"
          ]
        },
        {
          "output_type": "execute_result",
          "data": {
            "text/plain": [
              "<__main__.Student at 0x79699815da90>"
            ]
          },
          "metadata": {},
          "execution_count": 21
        }
      ]
    },
    {
      "cell_type": "markdown",
      "source": [
        "#### Ques25.What is the purpose of the __call__ method in Python?\n",
        "Ans.The __call__ method in Python allows an instance of a class to be called like a function. This means you can use object_name() just like calling a normal function.\n",
        "Normally, you call a function using function_name().\n",
        "When a class has a __call__ method, its instances can be called like functions.\n",
        "It allows objects to store state and behave like functions."
      ],
      "metadata": {
        "id": "rFo6hHzssRKe"
      }
    },
    {
      "cell_type": "code",
      "source": [
        "class Greet:\n",
        "  def __call__(self, name):\n",
        "    return f\"Hello, {name}!\"\n",
        "\n",
        "greeting = Greet()\n",
        "print(greeting(\"Kalpana\"))"
      ],
      "metadata": {
        "colab": {
          "base_uri": "https://localhost:8080/"
        },
        "id": "C23pfHwOtbRP",
        "outputId": "9ba8e61c-d354-4ce1-c0cb-6ee64399bbd6"
      },
      "execution_count": 22,
      "outputs": [
        {
          "output_type": "stream",
          "name": "stdout",
          "text": [
            "Hello, Kalpana!\n"
          ]
        }
      ]
    },
    {
      "cell_type": "markdown",
      "source": [
        "## Practical Questions\n",
        "#### Ques1.Create a parent class Animal with a method speak() that prints a generic message. Create a child class Dog that overrides the speak() method to print \"Bark!\"."
      ],
      "metadata": {
        "id": "6RnygYZFl-gz"
      }
    },
    {
      "cell_type": "code",
      "source": [
        "class Animal:\n",
        "    def speak():\n",
        "       print(\"Speaks\")\n",
        "class Dog(Animal):\n",
        "    def speak():\n",
        "        print(\"Bark!\") #Here, speak() method is overriding the speak() method of parent class\n",
        "\n",
        "Dog.speak()"
      ],
      "metadata": {
        "colab": {
          "base_uri": "https://localhost:8080/"
        },
        "id": "zSVqhX44mPU3",
        "outputId": "65839479-0eb3-4e66-c4dc-35e03f8e7d37"
      },
      "execution_count": null,
      "outputs": [
        {
          "output_type": "stream",
          "name": "stdout",
          "text": [
            "Bark!\n"
          ]
        }
      ]
    },
    {
      "cell_type": "markdown",
      "source": [
        "#### Ques2.Write a program to create an abstract class Shape with a method area(). Derive classes Circle and Rectangle from it and implement the area() method in both.\n",
        "\n",
        "\n"
      ],
      "metadata": {
        "id": "HyiPFGjCnR2u"
      }
    },
    {
      "cell_type": "code",
      "source": [
        "import abc\n",
        "\n",
        "class Shape:\n",
        "  @abc.abstractmethod\n",
        "  def calculate_area(self):\n",
        "    pass\n",
        "\n",
        "class Rectangle(Shape):\n",
        "  def __init__(self, length, breadth):\n",
        "    self.length = length\n",
        "    self.breadth = breadth\n",
        "\n",
        "  def calculate_area(self):\n",
        "     return self.length * self.breadth\n",
        "\n",
        "class Circle(Shape):\n",
        "  def __init__(self, radius):\n",
        "    self.radius = radius\n",
        "\n",
        "  def calculate_area(self):\n",
        "    return 3.14 * self.radius * self.radius\n",
        "\n",
        "rect= Rectangle(4,5)\n",
        "print(\"Area of Rectangle is \", rect.calculate_area())\n",
        "\n",
        "circ = Circle(5)\n",
        "print(\"Area of Circle is\", circ.calculate_area())\n"
      ],
      "metadata": {
        "colab": {
          "base_uri": "https://localhost:8080/"
        },
        "id": "t-pzbv4kncBu",
        "outputId": "6cf563a5-8cda-4ff0-c8cd-f37810ed7f18"
      },
      "execution_count": null,
      "outputs": [
        {
          "output_type": "stream",
          "name": "stdout",
          "text": [
            "Area of Rectangle is  20\n",
            "Area of Circle is 78.5\n"
          ]
        }
      ]
    },
    {
      "cell_type": "markdown",
      "source": [
        "#### Q3. Implement a multi-level inheritance scenario where a class Vehicle has an attribute type. Derive a class Car and further derive a class ElectricCar that adds a battery attribute."
      ],
      "metadata": {
        "id": "JqY6wkzYyaqI"
      }
    },
    {
      "cell_type": "code",
      "source": [
        "class Vehicle:\n",
        "  def __init__(self, type):\n",
        "    self.type = type\n",
        "\n",
        "  def show_type(self):\n",
        "    return f\"Vehicle Type: {self.type}\"\n",
        "\n",
        "class Car(Vehicle):\n",
        "  def __init__(self,type, brand):\n",
        "    super().__init__(type)\n",
        "    self.brand = brand\n",
        "\n",
        "  def show_car_info(self):\n",
        "    return f\"{self.brand} is a {self.type}\"\n",
        "\n",
        "class ElectricCar(Car):\n",
        "  def __init__(self,type, brand,  battery):\n",
        "    super().__init__(type, brand)\n",
        "    self.battery = battery\n",
        "\n",
        "  def show_electric_car_info(self):\n",
        "        return f\"{self.brand} is an {self.type} with a {self.battery} kWh battery\"\n",
        "\n",
        "\n",
        "car1 = ElectricCar(\"Electric Car\", \"Tesla\", 65)\n",
        "print(car1.show_type())\n",
        "print(car1.show_car_info())\n",
        "print(car1.show_electric_car_info())\n"
      ],
      "metadata": {
        "colab": {
          "base_uri": "https://localhost:8080/"
        },
        "id": "uT0HN-WVnZBY",
        "outputId": "c4629084-4437-44f2-d134-9abcb19cd396"
      },
      "execution_count": null,
      "outputs": [
        {
          "output_type": "stream",
          "name": "stdout",
          "text": [
            "Vehicle Type: Electric Car\n",
            "Tesla is a Electric Car\n",
            "Tesla is an Electric Car with a 65 kWh battery\n"
          ]
        }
      ]
    },
    {
      "cell_type": "markdown",
      "source": [
        "#### Q4. Demonstrate polymorphism by creating a base class Bird with a method fly(). Create two derived classes Sparrow and Penguin that override the fly() method.\n"
      ],
      "metadata": {
        "id": "2mPqCZzIgKNO"
      }
    },
    {
      "cell_type": "code",
      "source": [
        "class Bird:\n",
        "  def fly(self):\n",
        "    print(\"Birds can fly\")\n",
        "\n",
        "class Sparrow(Bird):\n",
        "  def fly(self):\n",
        "    print(\"Sparrow can fly\")\n",
        "\n",
        "class Penguin():\n",
        "  def fly(self):\n",
        "    print(\"Penguin can fly\")\n",
        "\n",
        "\n",
        "bird = Bird()\n",
        "bird.fly()\n",
        "\n",
        "penguin = Penguin()\n",
        "penguin.fly()  # This Method is overriding the fly() method of base class"
      ],
      "metadata": {
        "colab": {
          "base_uri": "https://localhost:8080/"
        },
        "id": "zzHOcF1MgUBm",
        "outputId": "b051a89b-1fc4-4b12-a59d-ac3bfa369eda"
      },
      "execution_count": null,
      "outputs": [
        {
          "output_type": "stream",
          "name": "stdout",
          "text": [
            "Birds can fly\n",
            "Penguin can fly\n"
          ]
        }
      ]
    },
    {
      "cell_type": "markdown",
      "source": [
        "Method Overriding ::  allows us to change the implementation of a function in the child class which is defined in the parent class.Method overriding cannot be done within a class. The method must have the same name as in the parent class and the same number of parameters as in the parent class.So,we need to derive a child class from a parent class. Hence Inheritance is mandatory."
      ],
      "metadata": {
        "id": "1mOnl-iyiO0_"
      }
    },
    {
      "cell_type": "markdown",
      "source": [
        "#### Q5.Write a program to demonstrate encapsulation by creating a class BankAccount with private attributes balance and methods to deposit, withdraw, and check balance."
      ],
      "metadata": {
        "id": "jReV73hFjmZw"
      }
    },
    {
      "cell_type": "code",
      "source": [
        "class BankAccount:\n",
        "  def __init__(self, balance):\n",
        "    self.__balance = balance\n",
        "\n",
        "  def deposit(self, amount):\n",
        "      self.__balance = amount + self.__balance\n",
        "\n",
        "  def withdraw(self, amount):\n",
        "      if self.__balance> amount:\n",
        "        self.__balance = self.__balance - amount\n",
        "        return True\n",
        "      else:\n",
        "        return False\n",
        "\n",
        "  def check_balance(self):\n",
        "    return self.__balance\n",
        "\n",
        "account1 = BankAccount(1000)\n",
        "\n",
        "print(\"Balance is:\", account1.check_balance())\n",
        "account1.deposit(500)\n",
        "print(\"Balance is:\",account1.check_balance())\n",
        "print(account1.withdraw(200))\n",
        "\n",
        "account1.check_balance()\n"
      ],
      "metadata": {
        "colab": {
          "base_uri": "https://localhost:8080/"
        },
        "id": "scM-EnedjwnJ",
        "outputId": "153b20f4-b764-48a2-a545-b673f749cc67"
      },
      "execution_count": null,
      "outputs": [
        {
          "output_type": "stream",
          "name": "stdout",
          "text": [
            "Balance is: 1000\n",
            "Balance is: 1500\n",
            "True\n"
          ]
        },
        {
          "output_type": "execute_result",
          "data": {
            "text/plain": [
              "1300"
            ]
          },
          "metadata": {},
          "execution_count": 21
        }
      ]
    },
    {
      "cell_type": "markdown",
      "source": [
        "#### Q6.Demonstrate runtime polymorphism using a method play() in a base class Instrument. Derive classes Guitar and Piano that implement their own version of play()."
      ],
      "metadata": {
        "id": "Y239o3DhpH-t"
      }
    },
    {
      "cell_type": "code",
      "source": [
        "class Instrument:\n",
        "  def play(self):\n",
        "    print(\"You should learn to play Instruments\")\n",
        "\n",
        "class Guitar(Instrument):\n",
        "  def play(self):\n",
        "    print(\"You should try guitar, It's Awesome\")\n",
        "\n",
        "class Piano(Instrument):\n",
        "  def play(self):\n",
        "    print(\"You should try Piano, it's trending now-a-days\")\n",
        "\n",
        "instrument = Instrument()\n",
        "instrument.play()\n",
        "\n",
        "guitar = Guitar()\n",
        "guitar.play()\n",
        "\n",
        "piano = Piano()\n",
        "piano.play()\n"
      ],
      "metadata": {
        "colab": {
          "base_uri": "https://localhost:8080/"
        },
        "id": "za3e-hLxpcyL",
        "outputId": "82a7945a-aaf8-48d2-98fb-3a7ff68e1fe8"
      },
      "execution_count": null,
      "outputs": [
        {
          "output_type": "stream",
          "name": "stdout",
          "text": [
            "You should learn to play Instruments\n",
            "You should try guitar, It's Awesome\n",
            "You should try Piano, it's trending now-a-days\n"
          ]
        }
      ]
    },
    {
      "cell_type": "markdown",
      "source": [
        "In OOP (Object-Oriented Programming), polymorphism allows different classes to have methods with the same name but different behaviors.\n",
        "**Compile-time Polymorphism** (Method Overloading) Python doesn’t support method overloading like Java or C++, But we can achieve it using default arguments or  **args/kwargs**.   \n",
        "**Runtime Polymorphism** (Method Overriding) Python automatically decides which method to execute at runtime based on the object type.\n"
      ],
      "metadata": {
        "id": "ZE1D6p6CpXil"
      }
    },
    {
      "cell_type": "markdown",
      "source": [
        "#### Q7.Create a class MathOperations with a class method add_numbers() to add two numbers and a static method subtract_numbers() to subtract two numbers."
      ],
      "metadata": {
        "id": "IitrfG3pt2d7"
      }
    },
    {
      "cell_type": "code",
      "source": [
        "class MathOperation:\n",
        "  @classmethod\n",
        "  def add_numbers(cls, a, b):\n",
        "    return a + b\n",
        "\n",
        "  def subtract_numbers(a, b):\n",
        "    return a-b\n",
        "\n",
        "print(MathOperation.subtract_numbers(50,10))\n",
        "MathOperation.add_numbers(50, 10)"
      ],
      "metadata": {
        "id": "6JQjSjqtmqBK",
        "colab": {
          "base_uri": "https://localhost:8080/"
        },
        "outputId": "5f0be202-443c-4dbc-b324-65d614ce9ead"
      },
      "execution_count": null,
      "outputs": [
        {
          "output_type": "stream",
          "name": "stdout",
          "text": [
            "40\n"
          ]
        },
        {
          "output_type": "execute_result",
          "data": {
            "text/plain": [
              "60"
            ]
          },
          "metadata": {},
          "execution_count": 34
        }
      ]
    },
    {
      "cell_type": "markdown",
      "source": [
        "#### Q8. Implement a class Person with a class method to count the total number of persons created."
      ],
      "metadata": {
        "id": "LLuRKzNCLQer"
      }
    },
    {
      "cell_type": "code",
      "source": [
        "class Person:\n",
        "\n",
        "  Total_person = 0\n",
        "\n",
        "  @classmethod\n",
        "  def add_person(cls, Name):\n",
        "    cls.Name = Name\n",
        "    cls.Total_person += 1\n",
        "    print(\"Congratulations, person added Successfully\")\n",
        "\n",
        "Person.add_person(\"Kalpana\")\n",
        "Person.add_person(\"Divya\")\n",
        "\n",
        "Person.Total_person\n",
        "\n",
        "\n"
      ],
      "metadata": {
        "colab": {
          "base_uri": "https://localhost:8080/"
        },
        "id": "MauFRCR-u2BK",
        "outputId": "46fa3d7d-f354-43b7-a632-8cc65e611587"
      },
      "execution_count": null,
      "outputs": [
        {
          "output_type": "stream",
          "name": "stdout",
          "text": [
            "Congratulations, person added Successfully\n",
            "Congratulations, person added Successfully\n"
          ]
        },
        {
          "output_type": "execute_result",
          "data": {
            "text/plain": [
              "2"
            ]
          },
          "metadata": {},
          "execution_count": 6
        }
      ]
    },
    {
      "cell_type": "markdown",
      "source": [
        "#### Q.9. Write a class Fraction with attributes numerator and denominator. Override the str method to display the fraction as \"numerator/denominator\".\n"
      ],
      "metadata": {
        "id": "_L2ivm3qV9Vf"
      }
    },
    {
      "cell_type": "code",
      "source": [
        "class Fraction:\n",
        "  def __init__(self, numerator, denominator):\n",
        "    self.numerator = numerator\n",
        "    self.denominator = denominator\n",
        "\n",
        "  def __str__(self):\n",
        "    return f\"{self.numerator}/{self.denominator}\"\n",
        "\n",
        "Fract1 = Fraction(3,4)\n",
        "print(Fract1)\n",
        "\n",
        "Fract2 = Fraction(10,100)\n",
        "print(Fract2)"
      ],
      "metadata": {
        "colab": {
          "base_uri": "https://localhost:8080/"
        },
        "id": "bX-nIWTZWGn_",
        "outputId": "483a0789-4469-4ce2-fef2-9b6bccfe4fd4"
      },
      "execution_count": null,
      "outputs": [
        {
          "output_type": "stream",
          "name": "stdout",
          "text": [
            "3/4\n",
            "10/100\n"
          ]
        }
      ]
    },
    {
      "cell_type": "markdown",
      "source": [
        "#### Q10.Demonstrate operator overloading by creating a class Vector and overriding the add method to add two vectors.\n",
        "\n",
        "\n"
      ],
      "metadata": {
        "id": "zjYg8JxrX5Ru"
      }
    },
    {
      "cell_type": "code",
      "source": [
        "class Vector:\n",
        "  def __init__(self,x, y):\n",
        "    self.x = x\n",
        "    self.y = y\n",
        "\n",
        "  def __add__(self, other):\n",
        "      return Vector(self.x + other.x , self.y + other.y)\n",
        "\n",
        "  def __str__(self):\n",
        "    return f\"({self.x}, {self.y})\"\n",
        "\n",
        "\n",
        "v1 = Vector(3,4)\n",
        "v2 = Vector(10,3)\n",
        "\n",
        "v3 = v1 + v2\n",
        "print(v3)\n"
      ],
      "metadata": {
        "colab": {
          "base_uri": "https://localhost:8080/"
        },
        "id": "ad_Hsr22L7iV",
        "outputId": "cce2782d-01f4-44e4-c4ad-8003c25c360b"
      },
      "execution_count": null,
      "outputs": [
        {
          "output_type": "stream",
          "name": "stdout",
          "text": [
            "(13, 7)\n"
          ]
        }
      ]
    },
    {
      "cell_type": "markdown",
      "source": [
        "#### Q11.Create a class Person with attributes name and age. Add a method greet() that prints \"Hello, my name is {name} and I am {age} years old.\""
      ],
      "metadata": {
        "id": "LygiBKD0ccs_"
      }
    },
    {
      "cell_type": "code",
      "source": [
        "class Person:\n",
        "  def __init__(self, name, age):\n",
        "    self.age = age\n",
        "    self.name = name\n",
        "\n",
        "  def greet(self):\n",
        "    print(f\"Hello , my name is {self.name} and I am {self.age} years old\")\n",
        "\n",
        "person1 = Person(\"Kalpana\", \"23\")\n",
        "person1.greet()"
      ],
      "metadata": {
        "colab": {
          "base_uri": "https://localhost:8080/"
        },
        "id": "7sn9887XZxLh",
        "outputId": "da82a77f-afff-441a-8ce8-29133aad92e4"
      },
      "execution_count": null,
      "outputs": [
        {
          "output_type": "stream",
          "name": "stdout",
          "text": [
            "Hello , my name is Kalpana and I am 23 years old\n"
          ]
        }
      ]
    },
    {
      "cell_type": "markdown",
      "source": [
        "#### Q12.  Implement a class Student with attributes name and grades. Create a method average_grade() to compute the average of the grades."
      ],
      "metadata": {
        "id": "vaZkf9zBdSLi"
      }
    },
    {
      "cell_type": "code",
      "source": [
        "class Student:\n",
        "  def __init__(self, name, grades):\n",
        "    self.name = name\n",
        "    self.grades = grades\n",
        "\n",
        "  def average_grade(self):\n",
        "    return sum(self.grades)/ len(self.grades) if self.grades else 0\n",
        "\n",
        "  def __str__(self):\n",
        "    return (f\"student: {self.name} , Average_Marks: {self.average_grade()}\")\n",
        "\n",
        "stud1 = Student(\"Kalpana\", [8,9,7,8])\n",
        "print(stud1)\n"
      ],
      "metadata": {
        "colab": {
          "base_uri": "https://localhost:8080/"
        },
        "id": "u7ebMELcdkt7",
        "outputId": "37a39a16-71bc-498d-c23c-96cc8a79f52f"
      },
      "execution_count": null,
      "outputs": [
        {
          "output_type": "stream",
          "name": "stdout",
          "text": [
            "student: Kalpana , Average_Marks: 8.0\n"
          ]
        }
      ]
    },
    {
      "cell_type": "markdown",
      "source": [
        "#### Q13.Create a class Rectangle with methods set_dimensions() to set the dimensions and area() to calculate the area."
      ],
      "metadata": {
        "id": "jVHJtDPNm0o8"
      }
    },
    {
      "cell_type": "code",
      "source": [
        "class Rectangle:\n",
        "  def __init__(self, l, b):\n",
        "    self.l = l\n",
        "    self.b = b\n",
        "\n",
        "  def set_dimensions(self, l, b):  # Set new dimensions, it will allow modifications later\n",
        "        self.l = l\n",
        "        self.b = b\n",
        "\n",
        "  def area(self):\n",
        "    return self.l * self.b\n",
        "\n",
        "rec1 = Rectangle(3, 5)\n",
        "print(f\"Initial Area: {rec1.area()}\")\n",
        "\n",
        "# Updating dimensions\n",
        "rec1.set_dimensions(4, 6)\n",
        "print(f\"Updated Area: {rec1.area()}\")\n",
        "\n"
      ],
      "metadata": {
        "colab": {
          "base_uri": "https://localhost:8080/"
        },
        "id": "wx4w52zCdLHz",
        "outputId": "b397653b-dfff-441d-910e-a70779e883bf"
      },
      "execution_count": null,
      "outputs": [
        {
          "output_type": "stream",
          "name": "stdout",
          "text": [
            "Initial Area: 15\n",
            "Updated Area: 24\n"
          ]
        }
      ]
    },
    {
      "cell_type": "markdown",
      "source": [
        "#### Q14.Create a class Employee with a method calculate_salary() that computes the salary based on hours worked and hourly rate. Create a derived class Manager that adds a bonus to the salary."
      ],
      "metadata": {
        "id": "KD-3IcYAqY1K"
      }
    },
    {
      "cell_type": "code",
      "source": [
        "class Employee:\n",
        "  def __init__(self,name, hours, rate):\n",
        "    self.name = name\n",
        "    self.hours = hours\n",
        "    self.rate = rate\n",
        "\n",
        "  def calculate_salary(self):\n",
        "    return self.hours * self.rate\n",
        "\n",
        "class Manager(Employee):\n",
        "  def __init__(self,name, hours, rate, bonus):\n",
        "    super().__init__(name, hours, rate)\n",
        "    self.bonus = bonus\n",
        "\n",
        "  def calculate_salary(self):\n",
        "    return super().calculate_salary() + self.bonus\n",
        "\n",
        "emp1 = Employee(\"Kalpana\", 10, 35)\n",
        "mngr1 = Manager(\"Nobbi\", 10, 40, 500)\n",
        "\n",
        "print(f\"{emp1.name}'s Salary: ${emp1.calculate_salary()}\")\n",
        "print(f\"{mngr1.name}'s Salary: ${mngr1.calculate_salary()}\")\n"
      ],
      "metadata": {
        "colab": {
          "base_uri": "https://localhost:8080/"
        },
        "id": "Wys294KVn0S8",
        "outputId": "2153d47f-7cd8-4214-e402-f199f1c872d0"
      },
      "execution_count": null,
      "outputs": [
        {
          "output_type": "stream",
          "name": "stdout",
          "text": [
            "Kalpana's Salary: $350\n",
            "Nobbi's Salary: $900\n"
          ]
        }
      ]
    },
    {
      "cell_type": "markdown",
      "source": [
        "#### Q15.Create a class Product with attributes name, price, and quantity. Implement a method total_price() that calculates the total price of the product."
      ],
      "metadata": {
        "id": "eQq652BHzkw-"
      }
    },
    {
      "cell_type": "code",
      "source": [
        "class Product:\n",
        "  def __init__(self, name, price, quantity):\n",
        "    self.name = name\n",
        "    self.price = price\n",
        "    self.quantity = quantity\n",
        "\n",
        "  def total_price(self):\n",
        "    return self.price * self.quantity\n",
        "\n",
        "product1 = Product(\"Pencils\", 5, 100)\n",
        "print(f\"Total Price of product is {product1.total_price()} \")"
      ],
      "metadata": {
        "colab": {
          "base_uri": "https://localhost:8080/"
        },
        "id": "TBT8vCPtzrTx",
        "outputId": "ac13e690-67b0-400b-d705-585c148e3da4"
      },
      "execution_count": null,
      "outputs": [
        {
          "output_type": "stream",
          "name": "stdout",
          "text": [
            "Total Price of product is 500 \n"
          ]
        }
      ]
    },
    {
      "cell_type": "markdown",
      "source": [
        "#### Q16. Create a class Animal with an abstract method sound(). Create two derived classes Cow and Sheep that implement the sound() method."
      ],
      "metadata": {
        "id": "ucYTKHFP0pBV"
      }
    },
    {
      "cell_type": "code",
      "source": [
        "import abc\n",
        "\n",
        "class Animal: #Contains @abstractmethod sound() that must be implemented in child classes.\n",
        "  @abc.abstractmethod\n",
        "  def sound(self):\n",
        "    pass\n",
        "\n",
        "class Cow(Animal):\n",
        "  def sound(self):\n",
        "    return \"cow do Mooo!\"\n",
        "\n",
        "class Sheep(Animal):\n",
        "  def sound(self):\n",
        "    return \"sheep do Baa Baa!\"\n",
        "\n",
        "cow = Cow()\n",
        "sheep = Sheep()\n",
        "\n",
        "print(f\"Cow: {cow.sound()}\")\n",
        "print(f\"Sheep: {sheep.sound()}\")\n",
        "\n",
        "\n"
      ],
      "metadata": {
        "colab": {
          "base_uri": "https://localhost:8080/"
        },
        "id": "ZHnwz-insLSK",
        "outputId": "c610d5b0-6aca-4268-d5fa-ef5b05f2f02a"
      },
      "execution_count": null,
      "outputs": [
        {
          "output_type": "stream",
          "name": "stdout",
          "text": [
            "Cow: cow do Mooo!\n",
            "Sheep: sheep do Baa Baa!\n"
          ]
        }
      ]
    },
    {
      "cell_type": "markdown",
      "source": [
        "#### Q17.Create a class Book with attributes title, author, and year_published. Add a method get_book_info() that returns a formatted string with the book's details."
      ],
      "metadata": {
        "id": "jAsVD0su3t-7"
      }
    },
    {
      "cell_type": "code",
      "source": [
        "class Book:\n",
        "  def __init__(self, title , author, published_year):\n",
        "    self.title = title\n",
        "    self.author = author\n",
        "    self.published_year = published_year\n",
        "\n",
        "  def get_book_info(self):\n",
        "    return (f\"Title of the book is '{self.title}' by Author {self.author} and published in {self.published_year}\")\n",
        "\n",
        "book1 = Book(\"The Laws of Human Nature\", \"Robert Greene\", 2001)\n",
        "print(book1.get_book_info())\n",
        "\n",
        "book2 = Book(\"1984\", \"George Orwell\", 1949)\n",
        "print(book2.get_book_info())"
      ],
      "metadata": {
        "colab": {
          "base_uri": "https://localhost:8080/"
        },
        "id": "P3-4vxIC2HeS",
        "outputId": "3112194d-abfd-435c-ec49-808f01e3b055"
      },
      "execution_count": null,
      "outputs": [
        {
          "output_type": "stream",
          "name": "stdout",
          "text": [
            "Title of the book is 'The Laws of Human Nature' by Author Robert Greene and published in 2001\n",
            "Title of the book is '1984' by Author George Orwell and published in 1949\n"
          ]
        }
      ]
    },
    {
      "cell_type": "markdown",
      "source": [
        "#### Q18.Create a class House with attributes address and price. Create a derived class Mansion that adds an attribute number_of_rooms."
      ],
      "metadata": {
        "id": "3IVTUZIO5VKD"
      }
    },
    {
      "cell_type": "code",
      "source": [
        "class House:\n",
        "  def __init__(self, address, price):\n",
        "    self.address = address\n",
        "    self.price = price\n",
        "\n",
        "  def get_house_info(self):\n",
        "    return (f\"Address of House is {self.address} and price of House is {self.price}\")\n",
        "\n",
        "class Mansion(House):\n",
        "  def __init__(self, address, price, no_of_rooms):\n",
        "    super().__init__(address, price)\n",
        "    self.no_of_rooms = no_of_rooms\n",
        "\n",
        "  def get_house_info(self):  # Overriding method to include number of rooms\n",
        "    return f\"Address: {self.address}, Price: ${self.price}, Rooms: {self.no_of_rooms}\"\n",
        "\n",
        "House1 = House(\"123 street\", 100000)\n",
        "House2 = Mansion(\"124 street\", 200000, 7)\n",
        "\n",
        "print(House1.get_house_info())\n",
        "\n",
        "print(House2.get_house_info())"
      ],
      "metadata": {
        "colab": {
          "base_uri": "https://localhost:8080/"
        },
        "id": "rn_rtXrW4uAG",
        "outputId": "dc1509ee-98d9-4b00-8d4e-bdd11d8dd92d"
      },
      "execution_count": null,
      "outputs": [
        {
          "output_type": "stream",
          "name": "stdout",
          "text": [
            "Address of House is 123 street and price of House is 100000\n",
            "Address: 124 street, Price: $200000, Rooms: 7\n"
          ]
        }
      ]
    },
    {
      "cell_type": "code",
      "source": [],
      "metadata": {
        "id": "mj-S8fZN7eXq"
      },
      "execution_count": null,
      "outputs": []
    }
  ]
}