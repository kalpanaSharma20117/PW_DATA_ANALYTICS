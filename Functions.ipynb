{
  "nbformat": 4,
  "nbformat_minor": 0,
  "metadata": {
    "colab": {
      "provenance": [],
      "authorship_tag": "ABX9TyMjINGJcOpRk3lTptUNK+0l",
      "include_colab_link": true
    },
    "kernelspec": {
      "name": "python3",
      "display_name": "Python 3"
    },
    "language_info": {
      "name": "python"
    }
  },
  "cells": [
    {
      "cell_type": "markdown",
      "metadata": {
        "id": "view-in-github",
        "colab_type": "text"
      },
      "source": [
        "<a href=\"https://colab.research.google.com/github/kalpanaSharma20117/Python_Basics/blob/main/Functions.ipynb\" target=\"_parent\"><img src=\"https://colab.research.google.com/assets/colab-badge.svg\" alt=\"Open In Colab\"/></a>"
      ]
    },
    {
      "cell_type": "markdown",
      "source": [
        "# Assignment Questions"
      ],
      "metadata": {
        "id": "x74R1MU8PBK5"
      }
    },
    {
      "cell_type": "markdown",
      "source": [
        "#### Q1.What is the difference between A function and a Method.\n",
        "Ans.A function is an independent block of code that performs a specific task.\n",
        "It can be called by its name directly (if it’s in the same scope).\n",
        "It can live anywhere in the  code.\n",
        "def greet(name):\n",
        "    return \"Hello, \" + name\n",
        "\n",
        "print(greet(\"Kalpana\"))  # Output: Hello, Kalpana\n",
        "\n",
        "But Methods are functions that are defined in a class and is called using object of class.\n",
        "They takes an object instance as it's first parameter and thier usual purpose is to interact with object data.\n",
        "\n",
        "#### Q2. Explain the concept of function arguments and parameters in Python.\n",
        "Ans.In Python, both arguments and paramters are used to set value into a function.\n",
        "Parameter are the placeholder in at the time of function definition.\n",
        "They define what kind of input a function can take.\n",
        "def greet(name):   # this \"name\" is a parameter passed into a function\n",
        "    return \"Hello, \" + name\n",
        "\n",
        "print(greet(\"Kalpana\"))\n",
        "\n",
        "Arguments are the actual value when you calling a function .\n",
        "in the above example,  \"Kalpana\" is passed while calling the function , so it's a argument.\n",
        "\n",
        "#### Q3.What are the different ways to define and call a function in Python?\n",
        "Ans. There are various ways to define a fucntion .\n",
        "1.Normal way (using \"def\" keyword)\n",
        "def Greet():\n",
        "    print(\"Hello, Welcome to my page\")\n",
        "\n",
        "print(Greet)\n",
        "\n",
        "2.Functions with paramters\n",
        "def Greet(name):  \n",
        "    print (f\"Welcome, {name})\"\n",
        "\n",
        "Greet(\"Kalpana\")\n",
        "\n",
        "3.Functions with Return value\n",
        "def addition(a,b):  \n",
        "   return a + b\n",
        "\n",
        "print(addition(7,8))\n",
        "\n",
        "4.Lamnda Function: It is an anonymous function with no name and it is short comapred to normal function, it's a one-line function.\n",
        "add= lambda x, y: x+y  \n",
        "print(add(6,7))\n",
        "\n",
        "And there are many ways to define a function like defaut parameter function, where we can set default values to parameters, using *args (Multiple Argumrnts)\n",
        "*args is used when we don't know the number of argument that is to be passed.\n",
        "another is using *kwargs , when we need to pass multiple key-value pairs.\n",
        "\n",
        "#### Q4. What is the purpose of the `return` statement in a Python function?\n",
        "Ans.The return statement in Python is used to send back a value from a function to the place where it was called. It ends the function and returns a result that can be stored or used later. BAsic use of return is to return a value instead of printing it using print().for ex.  \n",
        "def addition(a,b):  \n",
        "   return a + b\n",
        "\n",
        "print(addition(7,8))\n",
        "\n",
        "Otherwise , if we don't use return , function will automatically returns None.\n",
        "We also use return statement to exist a function early as return statement will stop a fucntion before it completes.\n",
        "def check_age(age):  \n",
        "if age < 18:  \n",
        "  return \"Not allowed\"  # Function stops here if age < 18  \n",
        "return \"Welcome!\"  \n",
        "\n",
        "print(check_age(16))  # Output: Not allowed  \n",
        "print(check_age(20))  # Output: Welcome!\n",
        "\n",
        "We can use print also but difference is that return gives back a value to be used later, whereas print only display output but do not store it.  \n",
        "def func1():  \n",
        "    return \"Hello\"  \n",
        "\n",
        "def func2():  \n",
        "    print(\"Hello\")  \n",
        "\n",
        "print(func1())  # Output: Hello (returned value)  \n",
        "print(func2())  # Output: Hello (but returns None)\n",
        "\n",
        "#### Q5. What are iterators in Python and how do they differ from iterables?\n",
        "Ans. Both Iterable and Iterators are used for looping but there are some differences:  \n",
        "1. Iterable is any object that can be looped over (like \"list\", \"tuple\", \"string\", \"dict\")  \n",
        "It contains multiple values and can give an iterator when needed.\n",
        "It has a special method __iter__() that returns an iterator.  \n",
        "numbers = [1, 2, 3]  # List is an iterable  \n",
        "for num in numbers:  \n",
        "    print(num)  \n",
        "in this case, Python automatically gets an iterator from \"numbers\" to loop through it.\n",
        "2. Iterator is an object that remembers it's position while looping. It produces one value at a time when we call next()\n",
        "It must have 2 methods::   \n",
        "__iter__() → Returns the iterator itself.  \n",
        "__next__() → Returns the next value, and raises StopIteration when finished.  \n",
        "Foe ex:  \n",
        "numbers = iter([1, 2, 3])  # Getting an iterator from a list  \n",
        "\n",
        " print(next(numbers))  # Output: 1  \n",
        " print(next(numbers))  # Output: 2  \n",
        "print(next(numbers))  # Output: 3  \n",
        "print(next(numbers))  # Error: StopIteration (no more items)  \n",
        "\n",
        "#### Q6. Explain the concept of generators in Python and how they are defined.\n",
        "Ans.A generator is a special type of function that returns values one at a time using yield, instead of returning everything at once.\n",
        "Normal Function (return) → Returns a single value, stops execution.\n",
        "Generator (yield) → Returns a value but remembers where it left off and continues next time.\n",
        "\n",
        " For ex.  \n",
        " def powers_of_two(exponent):  \n",
        "  for i in range(exponent + 1):  \n",
        "    yield 2 ** i\n",
        "\n",
        "for num in powers_of_two(6):  \n",
        "  print(num, end = \" \")\n",
        "\n",
        "Advantages are::  Memory Efficient, FAster Execution, Keeps track of state.\n",
        "\n",
        "#### Q7.What are the advantages of using generators over regular functions?\n",
        "Ans. Generators provide several benefits over normal functions, especially when dealing with large datasets or streams of data.\n",
        "1. Memory Efficient : Regular finction returns the entire dataset at once, which uses a lot of memory. whereas generators returns value one at a time(no list storage in memory, value will executed one at a time)\n",
        "2. Faster Execution : Regular function computes all result before returning.\n",
        "wheras generator computes value when needed, reducing execution time.\n",
        "3. regular function can't return infinite values (they may run out of memory), whereas generator function can generate infinite values as they generate values one by one  \n",
        "def fibonacci():  \n",
        "    a, b = 0, 1  \n",
        "    while True:  # Infinite loop\n",
        "    yield a\n",
        "    a , b = b , a + b\n",
        "\n",
        " gen = fibonacci()  \n",
        "print(next(gen))  # Output: 0  \n",
        "print(next(gen))  # Output: 1  \n",
        "print(next(gen))  # Output: 1  \n",
        "\n",
        "#### Q8.What is a lambda function in Python and when is it typically used?\n",
        "Ans. Lambda Function is a small, anonymous function in python , it is used when we need a simple function for shorter period of time.\n",
        "Syntax::  lambda arguments: expression\n",
        "Example ::   \n",
        "square = lambda x: x * x  \n",
        "print(square(5))  # Output: 25  \n",
        "Lambdas are useful when we need a small, one-time function without defining a full def function.  \n",
        "Key areas where we can use lambda,  \n",
        "1.using with map :: map() applies a function to each item in an iterable.\n",
        "numbers = [1, 2, 3, 4]  \n",
        "squared = list(map(lambda x: x*x, numbers))  \n",
        "print(squared)  # Output: [1, 4, 9, 16]  \n",
        "2.using with filter():: filter() keeps only the values that meet a condition.\n",
        "numbers = [1, 2, 3, 4, 5, 6]  \n",
        "even_numbers = list(filter(lambda x: x % 2 == 0, numbers))  \n",
        "print(even_numbers)  # Output: [2, 4, 6]  \n",
        "\n",
        "we can also use lambda with sorted() and reduce()\n",
        "\n",
        "#### Q9.Explain the purpose and usage of the `map()` function in Python.\n",
        "Ans.The map() function is used to apply a function to each item in an iterable (like a list or tuple) and return a new iterable with the modified values.\n",
        "Syntax :: map(function, iterable)  \n",
        "Examples::   \n",
        "1. numbers = [1, 2, 3, 4]  \n",
        "squared = list(map(lambda x: x * x, numbers))  \n",
        "print(squared)  # Output: [1, 4, 9, 16]  \n",
        "2. def square(x):  \n",
        "    return x * x  \n",
        "numbers = [1, 2, 3, 4]  \n",
        "squared = list(map(square, numbers))  \n",
        "print(squared)  # Output: [1, 4, 9, 16]\n",
        "\n",
        "We can use map()\n",
        "When applying the same function to each item in an iterable.  \n",
        "When working with predefined functions (e.g., int, str).  \n",
        "When performance matters for large datasets.  \n",
        "\n",
        "#### Q\n",
        "Ans.All three functions—map(), filter(), and reduce()—are part of functional programming in Python. They are used for processing iterables like lists and tuples.\n",
        "1. map(): Applies a function to each item in an iterable and returns a new iterable.\n",
        "for example:   \n",
        "numbers = [1, 2, 3, 4]  \n",
        "squared = list(map(lambda x: x * x, numbers))  \n",
        "print(squared)  # Output: [1, 4, 9, 16]  \n",
        "2. filter(): Keep only certain elements who passes the conditions and satisfy it.  \n",
        "for example:  \n",
        "numbers = [1, 2, 3, 4, 5, 6]  \n",
        "even_numbers = list(filter(lambda x: x % 2 == 0, numbers))  \n",
        "print(even_numbers)  # Output: [2, 4, 6]  \n",
        "3. reduce(): Reduces an iterable to a single value by applying a function cumulatively. reduce() is available in functools module.\n",
        "for example:\n",
        "from functools import reduce  \n",
        "\n",
        " numbers = [1, 2, 3, 4]  \n",
        "product = reduce(lambda x, y: x * y, numbers)  \n",
        "print(product)  # Output: 24  \n",
        "\n",
        "\n"
      ],
      "metadata": {
        "id": "Mg51rcwEPGja"
      }
    },
    {
      "cell_type": "markdown",
      "source": [
        "#### Q.11. Using pen & Paper write the internal mechanism for sum operation using  reduce function on this given list:[47,11,42,13];\n",
        "Ans. ![Ques11.jpg](data:image/jpeg;base64,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)"
      ],
      "metadata": {
        "id": "9MzG5aHPpiWB"
      }
    },
    {
      "cell_type": "markdown",
      "source": [
        "# Practical Questions"
      ],
      "metadata": {
        "id": "jLnGeU2SfPrh"
      }
    },
    {
      "cell_type": "markdown",
      "source": [
        "#### Q1.Write a Python function that takes a list of numbers an input and return the sum of all even numbers in the list."
      ],
      "metadata": {
        "id": "Ko0l4CRDe0dj"
      }
    },
    {
      "cell_type": "code",
      "source": [
        "num = [1,2,4,6,8,9,3,5,7,8,2,4]\n",
        "\n",
        "def check_even(numbers):\n",
        "  total = 0\n",
        "  for i in numbers:\n",
        "    if i%2 == 0:\n",
        "      total += i\n",
        "  return total\n",
        "check_even(num)"
      ],
      "metadata": {
        "colab": {
          "base_uri": "https://localhost:8080/"
        },
        "id": "Mj5uCDIFexP4",
        "outputId": "5d44c4fa-6828-4a0b-9a94-48546f116b82"
      },
      "execution_count": null,
      "outputs": [
        {
          "output_type": "execute_result",
          "data": {
            "text/plain": [
              "34"
            ]
          },
          "metadata": {},
          "execution_count": 14
        }
      ]
    },
    {
      "cell_type": "markdown",
      "source": [
        "#### Q2. Create a Python function that accepts a string and returns the reverse of that string."
      ],
      "metadata": {
        "id": "xFyso5CMkHZE"
      }
    },
    {
      "cell_type": "code",
      "source": [
        "def reverse_string(my_s):\n",
        "  if len(my_s)==0:\n",
        "    return my_s\n",
        "  return reverse_string(my_s[1: ]) + my_s[0]\n",
        "\n",
        "print(reverse_string(\"Chandiagrh\"))\n",
        "\n"
      ],
      "metadata": {
        "colab": {
          "base_uri": "https://localhost:8080/"
        },
        "id": "GiF-tZlJhOi0",
        "outputId": "cef2ad77-3309-417a-a9cb-3b70cc2bc295"
      },
      "execution_count": null,
      "outputs": [
        {
          "output_type": "stream",
          "name": "stdout",
          "text": [
            "hrgaidnahC\n"
          ]
        }
      ]
    },
    {
      "cell_type": "markdown",
      "source": [
        "#### Q3.Implement a Python function that takes a list of integers and returns a new list containing the squares of each number."
      ],
      "metadata": {
        "id": "3RerP-VFlslL"
      }
    },
    {
      "cell_type": "code",
      "source": [
        "l = [1,2,3,4,5]\n",
        "list(map(lambda x: x**2, l))\n"
      ],
      "metadata": {
        "colab": {
          "base_uri": "https://localhost:8080/"
        },
        "id": "JeIkhIU9l6HZ",
        "outputId": "afc655d7-7456-43f8-fb37-9fcab60a0b1f"
      },
      "execution_count": null,
      "outputs": [
        {
          "output_type": "execute_result",
          "data": {
            "text/plain": [
              "[1, 4, 9, 16, 25]"
            ]
          },
          "metadata": {},
          "execution_count": 16
        }
      ]
    },
    {
      "cell_type": "markdown",
      "source": [
        "Q4. Write a Python function that checks if a given number is prime or not from 1 to 200."
      ],
      "metadata": {
        "id": "FZL_ACQQmiDO"
      }
    },
    {
      "cell_type": "code",
      "source": [
        "def check_prime(num):\n",
        "  if num<2:\n",
        "    return False\n",
        "  if num<200:\n",
        "    for i in range(2, (int(num ** 0.5) + 1)):\n",
        "      if num % i == 0:\n",
        "        return False\n",
        "    return True\n",
        "\n",
        "print(check_prime(7))\n",
        "print(check_prime(43))\n",
        "print(check_prime(77))\n",
        "print(check_prime(5))\n",
        "print(check_prime(15))\n",
        "print(check_prime(11))\n"
      ],
      "metadata": {
        "colab": {
          "base_uri": "https://localhost:8080/"
        },
        "id": "EEhVhJWOmmJ2",
        "outputId": "0a081563-e691-4805-ec55-55cbfd536455"
      },
      "execution_count": null,
      "outputs": [
        {
          "output_type": "stream",
          "name": "stdout",
          "text": [
            "True\n",
            "True\n",
            "False\n",
            "True\n",
            "False\n",
            "True\n"
          ]
        }
      ]
    },
    {
      "cell_type": "markdown",
      "source": [
        "#### Q5. Create an iterator class in Python that generates the Fibonacci sequence up to a specified number of terms."
      ],
      "metadata": {
        "id": "eGiNzqRPtUAq"
      }
    },
    {
      "cell_type": "code",
      "source": [
        "def fib(n):\n",
        "  a = 0\n",
        "  b = 1\n",
        "  for i in range(n):\n",
        "    yield a\n",
        "    a, b = b, a+b\n",
        "\n",
        "f = fib(8)\n",
        "print(next(f))\n",
        "print(next(f))\n",
        "print(next(f))\n",
        "print(next(f))\n",
        "print(next(f))\n"
      ],
      "metadata": {
        "colab": {
          "base_uri": "https://localhost:8080/"
        },
        "id": "rVEck6IvmgDJ",
        "outputId": "0cddfa7f-1bd9-4565-b091-54851e16ac31"
      },
      "execution_count": null,
      "outputs": [
        {
          "output_type": "stream",
          "name": "stdout",
          "text": [
            "0\n",
            "1\n",
            "1\n",
            "2\n",
            "3\n"
          ]
        }
      ]
    },
    {
      "cell_type": "markdown",
      "source": [
        "#### Q6.Write a generator function in Python that yields the powers of 2 up to a given exponent."
      ],
      "metadata": {
        "id": "cnkcYRjN4fGu"
      }
    },
    {
      "cell_type": "code",
      "source": [
        "def powers_of_two(exponent):\n",
        "  for i in range(exponent + 1):\n",
        "    yield 2 ** i\n",
        "\n",
        "for num in powers_of_two(6):\n",
        "  print(num, end = \" \")"
      ],
      "metadata": {
        "colab": {
          "base_uri": "https://localhost:8080/"
        },
        "id": "cEXDUnMJxcUz",
        "outputId": "6d29c51a-0ca0-4079-a7e9-ea011e963587"
      },
      "execution_count": null,
      "outputs": [
        {
          "output_type": "stream",
          "name": "stdout",
          "text": [
            "1 2 4 8 16 32 64 "
          ]
        }
      ]
    },
    {
      "cell_type": "markdown",
      "source": [
        "#### Q7. Implement a generator function that reads a file line by line and yields each line as a string."
      ],
      "metadata": {
        "id": "leanF7vL8X7l"
      }
    },
    {
      "cell_type": "code",
      "source": [
        "files = [\"My Name is Kalpana\", \"I'm from Chandigarh\", \"I'm pursuing Masters\"]\n",
        "\n",
        "def func(files):\n",
        "  for i in files:\n",
        "    yield i\n",
        "\n",
        "s = func(files)\n",
        "print(next(s))\n",
        "print(next(s))\n",
        "print(next(s))\n"
      ],
      "metadata": {
        "colab": {
          "base_uri": "https://localhost:8080/"
        },
        "id": "8ufrPwL75mmt",
        "outputId": "9cc082e6-8f55-4254-ffb7-a669ee3513a6"
      },
      "execution_count": 3,
      "outputs": [
        {
          "output_type": "stream",
          "name": "stdout",
          "text": [
            "My Name is Kalpana\n",
            "I'm from Chandigarh\n",
            "I'm pursuing Masters\n"
          ]
        }
      ]
    },
    {
      "cell_type": "markdown",
      "source": [
        "#### Q8.Use a lambda function in Python to sort a list of tuples based on the second element of each tuple."
      ],
      "metadata": {
        "id": "tIPA289EAF2z"
      }
    },
    {
      "cell_type": "code",
      "source": [
        "l = [(1, 4), (7, 2), (9, 8), (4, 1), (6, 3)]\n",
        "\n",
        "sorted_data = sorted(l, key=lambda x: x[1])\n",
        "\n",
        "print(sorted_data)\n"
      ],
      "metadata": {
        "colab": {
          "base_uri": "https://localhost:8080/"
        },
        "id": "Swt2eUts_zW6",
        "outputId": "ca0c1807-cc91-471a-ac8c-21de4cafed3a"
      },
      "execution_count": null,
      "outputs": [
        {
          "output_type": "stream",
          "name": "stdout",
          "text": [
            "[(4, 1), (7, 2), (6, 3), (1, 4), (9, 8)]\n"
          ]
        }
      ]
    },
    {
      "cell_type": "markdown",
      "source": [
        "#### Q9. Write a Python program that uses `map()` to convert a list of temperatures from Celsius to Fahrenheit."
      ],
      "metadata": {
        "id": "WsebSYSKGp7j"
      }
    },
    {
      "cell_type": "code",
      "source": [
        "data = [22, 34, 22, 43, 21, 44]\n",
        "\n",
        "fahrenheit_temps = list(map(lambda x : x * 9/5 + 32 , data))\n",
        "print(fahrenheit_temps)"
      ],
      "metadata": {
        "colab": {
          "base_uri": "https://localhost:8080/"
        },
        "id": "KRPzg3haGnNV",
        "outputId": "6013e8af-61e1-43ea-ff6e-63e26d427e67"
      },
      "execution_count": null,
      "outputs": [
        {
          "output_type": "stream",
          "name": "stdout",
          "text": [
            "[71.6, 93.2, 71.6, 109.4, 69.8, 111.2]\n"
          ]
        }
      ]
    },
    {
      "cell_type": "markdown",
      "source": [
        "#### Q10. Create a Python program that uses `filter()` to remove all the vowels from a given string."
      ],
      "metadata": {
        "id": "2h8rTn0rIRm9"
      }
    },
    {
      "cell_type": "code",
      "source": [
        "text = \"Chandigarh University\"\n",
        "result = \"\".join(filter(lambda ch: ch.lower() not in \"aeiou\", text))\n",
        "print(result)\n"
      ],
      "metadata": {
        "colab": {
          "base_uri": "https://localhost:8080/"
        },
        "id": "C-DmUrMjHpmU",
        "outputId": "f89c579f-d9ef-4966-d5e6-04190254756b"
      },
      "execution_count": null,
      "outputs": [
        {
          "output_type": "stream",
          "name": "stdout",
          "text": [
            "Chndgrh nvrsty\n"
          ]
        }
      ]
    },
    {
      "cell_type": "markdown",
      "source": [
        "Q11.Imagine an accounting routine used in a book shop. It works on a list with sublists, which look like this:"
      ],
      "metadata": {
        "id": "GKrG7465KljH"
      }
    },
    {
      "cell_type": "code",
      "source": [
        "orders = [\n",
        "    (34587, \"Learning Python\" , \"Mark Lutz\", 4, 40.95),\n",
        "    (98762, \"Programming Python\", \"Mark Lutz\" ,5, 56.80),\n",
        "    (77226, \"Head First Python\", \"Paul barry\",3,32.95 ),\n",
        "    (88112, \"Einfuhrung in Python3\", \"Bernd Klein\", 3, 24.99)\n",
        "]\n",
        "\n",
        "final_orders = list(map(lambda order: (order[0], order[3] * order[4] + (10 if order[3] * order[4]<100 else 0)), orders))\n",
        "print(final_orders)\n"
      ],
      "metadata": {
        "colab": {
          "base_uri": "https://localhost:8080/"
        },
        "id": "XgKyrD7PKSWA",
        "outputId": "90649abb-a252-4bbb-ebb4-321c0119afde"
      },
      "execution_count": null,
      "outputs": [
        {
          "output_type": "stream",
          "name": "stdout",
          "text": [
            "[(34587, 163.8), (98762, 284.0), (77226, 108.85000000000001), (88112, 84.97)]\n"
          ]
        }
      ]
    },
    {
      "cell_type": "code",
      "source": [],
      "metadata": {
        "id": "bs9oNT3ENfwV"
      },
      "execution_count": null,
      "outputs": []
    }
  ]
}