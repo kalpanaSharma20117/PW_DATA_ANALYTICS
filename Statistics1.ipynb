{
  "nbformat": 4,
  "nbformat_minor": 0,
  "metadata": {
    "colab": {
      "provenance": [],
      "authorship_tag": "ABX9TyPXyc0o18ZfSt+S2Eu7ctCI",
      "include_colab_link": true
    },
    "kernelspec": {
      "name": "python3",
      "display_name": "Python 3"
    },
    "language_info": {
      "name": "python"
    }
  },
  "cells": [
    {
      "cell_type": "markdown",
      "metadata": {
        "id": "view-in-github",
        "colab_type": "text"
      },
      "source": [
        "<a href=\"https://colab.research.google.com/github/kalpanaSharma20117/Python_PW/blob/main/Statistics1.ipynb\" target=\"_parent\"><img src=\"https://colab.research.google.com/assets/colab-badge.svg\" alt=\"Open In Colab\"/></a>"
      ]
    },
    {
      "cell_type": "markdown",
      "source": [
        "# Assignmnet- Statistics Basic"
      ],
      "metadata": {
        "id": "U_lunEjlOVG5"
      }
    },
    {
      "cell_type": "markdown",
      "source": [
        "#### Ques1. What is statistics, and why is it important.\n",
        "\n"
      ],
      "metadata": {
        "id": "LgrqkbzgOMEc"
      }
    },
    {
      "cell_type": "markdown",
      "source": [
        "Statistics is a branch of mathematics that deals with collecting, organizing, analyzing, interpreting, and presenting data. It provides tools and techniques to understand data patterns and make informed decisions based on that data.\n",
        "It is Important for:\n",
        "1. Informed Decision-Making: Helps businesses, governments, and individuals make decisions based on evidence and trends.\n",
        "\n",
        "2. Data Summarization: Simplifies large amounts of data into understandable formats like graphs, charts, and averages.\n",
        "\n",
        "3. Prediction and Forecasting: Enables predictions about future events based on past data (e.g., weather forecasts, stock trends).\n",
        "\n",
        "4. Scientific Research: Essential in designing experiments, analyzing results, and validating hypotheses."
      ],
      "metadata": {
        "id": "f97ISLzOOxuH"
      }
    },
    {
      "cell_type": "markdown",
      "source": [
        "#### Ques2.What are the two main types of statistics.\n",
        "\n"
      ],
      "metadata": {
        "id": "j4c5p4SFPcBo"
      }
    },
    {
      "cell_type": "markdown",
      "source": [
        "Ans. Statistics is of two types:-\n",
        "1. Descriptive Statistics : As it's name suggests, It describes data, It consist of organising and summarising the complete data/population .\n",
        "Example: Avg Weight of students in the class, Avg delay of flights of a airline.\n",
        "2. Inferential Statistics: It Consists of using sample data that has been measured to form conclusion about the population .\n",
        "example: Average salary of India."
      ],
      "metadata": {
        "id": "h-7cS7ucPmRB"
      }
    },
    {
      "cell_type": "markdown",
      "source": [
        "#### Ques3. What are descriptive statistics?\n"
      ],
      "metadata": {
        "id": "5Vc758kNQr6o"
      }
    },
    {
      "cell_type": "markdown",
      "source": [
        "Ans. Descriptive Statistics are methods used to summarize and describe the main features of a dataset in a clear and simple way. Instead of drawing conclusions or making predictions (like inferential statistics), descriptive statistics focus only on what the data shows.\n",
        "Example: Calculate the average score (mean),Find the most common score (mode).\n",
        "Key Types of Descriptive Statistics:\n",
        "1. Measures of Central Tendency: Indicate the center of the data:Mean (average), Median (middle value), Mode (most frequent value)\n",
        "2. Measures of Dispersion (speed): Indicate how spread out the data is:\n",
        "Range (difference between max and min)\n",
        "Variance (average of squared deviations)\n",
        "Standard Deviation (spread of data from the mean)\n",
        "3. Measures of Symmetry and Skewness:\n",
        "These measures help us understand the shape of the data distribution — whether it's symmetrical (like a bell curve) or skewed (leaning to one side).It has main 3 types:\n",
        "1. Zero Skewness (Symmetrical)\n",
        "2. Positive Skew (Right-Skewed)\n",
        "3. Negative Skew (Left-Skewed)\n"
      ],
      "metadata": {
        "id": "lTKRCjlEQydB"
      }
    },
    {
      "cell_type": "markdown",
      "source": [
        "#### Ques4. What is inferential statistics?\n"
      ],
      "metadata": {
        "id": "hicj_XbASy6p"
      }
    },
    {
      "cell_type": "markdown",
      "source": [
        "Ans. Inferential statistics is a branch of statistics that involves using a sample of data to make predictions, generalizations, or decisions about a larger population.\n",
        "\n",
        "Unlike descriptive statistics, which simply summarizes data, inferential statistics draws conclusions and tests hypotheses using probability theory.\n",
        "\n",
        "Why it is important:\n",
        "1. Saves time and cost: We don't need to study the whole population.\n",
        "2. Guides decision-making: In business, healthcare, elections, etc.\n",
        "3. Tests theories: Essential in scientific and academic research."
      ],
      "metadata": {
        "id": "lFuCJLM8S4sR"
      }
    },
    {
      "cell_type": "markdown",
      "source": [
        "#### Ques5. What is sampling in statistics?\n",
        "\n"
      ],
      "metadata": {
        "id": "5sU82XAmTTIP"
      }
    },
    {
      "cell_type": "markdown",
      "source": [
        "Ans. Sampling is the process of selecting a subset (sample) from a larger group (population) in order to analyze and draw conclusions about the entire population without studying every member.\n"
      ],
      "metadata": {
        "id": "C4azaI6vTZor"
      }
    },
    {
      "cell_type": "markdown",
      "source": [
        "#### Ques6.What are the different types of sampling methods?\n",
        "\n"
      ],
      "metadata": {
        "id": "78UFTW97UMqc"
      }
    },
    {
      "cell_type": "markdown",
      "source": [
        "Types of Sampling:\n",
        "1. Probability Sampling (each member has a known chance of selection):\n",
        "     1. Simple Random Sampling: Every member has an equal chance.\n",
        "     2. Stratified Sampling: Population divided into subgroups (strata), and samples taken from each.\n",
        "     3. Systematic Sampling: Every kᵗʰ member is selected (e.g., every 10th person).\n",
        "     4. Cluster Sampling: Population divided into clusters, then random clusters are chosen.\n",
        "2. Non-Probability Sampling (not random; may involve bias):\n",
        "    1. Convenience Sampling: Chosen based on ease of access.\n",
        "    2. Judgmental Sampling: Based on the researcher's opinion."
      ],
      "metadata": {
        "id": "9ExMtYXMUTYY"
      }
    },
    {
      "cell_type": "markdown",
      "source": [
        "#### Ques7. What is the difference between random and non-random sampling?\n"
      ],
      "metadata": {
        "id": "F6a9HaaUUaIC"
      }
    },
    {
      "cell_type": "markdown",
      "source": [
        "Ans.\n",
        "1. Random Sampling:Every member of the population has a known, equal chance of being selected.Less biased (if done properly). Examples are Simple Random Sampling, Stratified Sampling, Systematic Sampling, Cluster Sampling.\tUsed in large-scale surveys and experiments where fairness and accuracy are important.\n",
        "2. \tNon-Random Sampling:\n",
        "Not all members have a chance of selection; selection is based on convenience or judgment. It's More prone to bias.May not represent the entire population accurately. Examples are Convenience Sampling, Judgmental Sampling.\n"
      ],
      "metadata": {
        "id": "6ZiQF144Uhmo"
      }
    },
    {
      "cell_type": "markdown",
      "source": [
        "#### Ques 8. Define and give examples of qualitative and quantitative data?\n"
      ],
      "metadata": {
        "id": "CtpzhW23VtUA"
      }
    },
    {
      "cell_type": "markdown",
      "source": [
        "Ans.\n",
        "1. Qualitative Data (Categorical Data):\n",
        "This type of data describes qualities, characteristics, or categories. It cannot be measured with numbers but can be observed or labeled.\n",
        "Examples:\n",
        "      1. Colors of cars: Red, Blue, Black\n",
        "      2. Gender: Male, Female, Other\n",
        "      3. Blood type: A, B, AB, O\n",
        "\n",
        "2. Quantitative Data (Numerical Data):\n",
        "This type of data consists of numbers and represents quantities. It can be measured and compared using mathematical operations.\n",
        "Examples:\n",
        "    1. Height: 165 cm, 180 cm\n",
        "    2. Age: 18, 25, 40\n",
        "    3. Number of students in a class: 45"
      ],
      "metadata": {
        "id": "GZrn1CsLVzu4"
      }
    },
    {
      "cell_type": "markdown",
      "source": [
        "#### Ques9. What are the different types of data in statistics?\n"
      ],
      "metadata": {
        "id": "WSR8J8rKWcjx"
      }
    },
    {
      "cell_type": "markdown",
      "source": [
        "Ans. In statistics, data is broadly classified into two major types:\n",
        "1. Qualitative Data (Categorical Data):\n",
        "This type of data represents categories or labels, not numbers.\n",
        "Types of Qualitative Data:\n",
        "  1. Nominal Data (No natural order)\n",
        "Examples: Gender (Male, Female), Blood Type (A, B, AB, O), Nationality.\n",
        "  2. Ordinal Data (With a meaningful order, but no fixed interval)Examples: Customer Satisfaction (Poor, Fair, Good, Excellent), Education Level (High School, Graduate, Postgraduate).\n",
        "\n",
        "2. Quantitative Data (Numerical Data):\n",
        "This data is measurable and expressed in numbers.\n",
        "Types of Quantitative Data:\n",
        "    1. Discrete Data (Countable, whole numbers).Examples: Number of students, Number of cars, Number of goals in a match.\n",
        "    2. Continuous Data (Measurable, can take any value within a range).Examples: Height, Weight, Temperature, Distance"
      ],
      "metadata": {
        "id": "AW-QWyHiWjAg"
      }
    },
    {
      "cell_type": "markdown",
      "source": [
        "#### Ques 10. Explain nominal, ordinal, interval, and ratio levels of measurement."
      ],
      "metadata": {
        "id": "OuPh_lNWXQWY"
      }
    },
    {
      "cell_type": "markdown",
      "source": [
        "Ans. In statistics, data can be classified into four levels of measurement.\n",
        "1. Nominal Level:\n",
        "Categorizes data without any order or ranking.No calculations can be performed..\n",
        "Examples:\n",
        "    1. Gender: Male, Female\n",
        "    2. Blood Type: A, B, AB, O\n",
        "    3. Colors: Red, Blue, Green\n",
        "\n",
        "2. Ordinal Level:\n",
        "Categorizes data with a meaningful order, but differences between values are not measurable.Can compare which is greater or lesser, but not by how much.\n",
        "Examples:\n",
        "      1. Movie ratings: Poor < Fair < Good < Excellent.\n",
        "      2. Education level: High School < Graduate < Postgraduate.\n",
        "      3. Customer satisfaction: Low, Medium, High.\n",
        "\n",
        "3.  Interval Level:\n",
        "Numeric scale with equal intervals between values, but no true zero.Can add and subtract, but ratios don’t make sense.\n",
        " Examples:\n",
        "      1. Temperature in Celsius or Fahrenheit (0°C doesn’t mean “no temperature”)\n",
        "      2. Dates(years)\n",
        "\n",
        "4. Ratio Level:\n",
        "Numeric data with equal intervals and an absolute zero. The most informative level.All operations (add, subtract, multiply, divide) are valid.\n",
        "Examples: Temperature in Kelvin (0 K = complete absence of heat)\n",
        "\n",
        "\n"
      ],
      "metadata": {
        "id": "-7SOCh1tXYS6"
      }
    },
    {
      "cell_type": "markdown",
      "source": [
        "#### Ques11. What is the measure of central tendency?\n"
      ],
      "metadata": {
        "id": "8z7j8X2EY894"
      }
    },
    {
      "cell_type": "markdown",
      "source": [
        "Ans. Measure of Central Tendency refers to the statistical methods used to identify a central or typical value in a set of data. It shows where most values in a dataset tend to fall — or the \"center\" of the data.\n",
        "\n"
      ],
      "metadata": {
        "id": "90jhCdmkZCGX"
      }
    },
    {
      "cell_type": "markdown",
      "source": [
        "#### Ques12. Define mean, median, and mode.\n"
      ],
      "metadata": {
        "id": "1NHqoj5aZItj"
      }
    },
    {
      "cell_type": "markdown",
      "source": [
        "Ams. Main Measures of Central Tendency:\n",
        "1. Mean (Average):\n",
        "The sum of all values divided by the number of values.\n",
        "Formula:\n",
        "Mean= sum of all values/ Number of values\n",
        "2. Median (Middle Value):\n",
        "The middle value when data is arranged in order.\n",
        "If even number of values: average of the two middle values.\n",
        "Example:  \n",
        "Odd: 10, 20, 30 → Median = 20  \n",
        "Even: 10, 20, 30, 40 → Median = (20 + 30) / 2 = 25\n",
        "3.  Mode (Most Frequent Value):\n",
        "The value that occurs most often.There can be no mode, one mode, or multiple modes.  \n",
        "Example:In 10, 20, 20, 30 → Mode = 20"
      ],
      "metadata": {
        "id": "UrSQwDk9ZPzn"
      }
    },
    {
      "cell_type": "markdown",
      "source": [
        "#### Ques13. What is the significance of the measure of central tendency?\n"
      ],
      "metadata": {
        "id": "PxtdMvpnZ7XC"
      }
    },
    {
      "cell_type": "markdown",
      "source": [
        "Ans. Helps summarize large data sets with a single value.\n",
        "\n",
        "Provides a quick understanding of the general trend.\n",
        "\n",
        "Used in almost every field — economics, education, psychology, etc."
      ],
      "metadata": {
        "id": "vUlQ4nE1aBkR"
      }
    },
    {
      "cell_type": "markdown",
      "source": [
        "#### Ques 14. What is variance, and how is it calculated?\n"
      ],
      "metadata": {
        "id": "POhxDOl4aK6A"
      }
    },
    {
      "cell_type": "markdown",
      "source": [
        "Ans. Variance is a measure of how much the data values spread out from the mean. It tells us whether the numbers in a dataset are closely clustered or widely scattered.\n",
        "If variance is low, data points are close to the mean.\n",
        "If variance is high, data points are more spread out.\n",
        "\n",
        "Variance is in squared units (like cm², kg²).For better interpretation, we often take the square root of variance → this is called Standard Deviation.\n"
      ],
      "metadata": {
        "id": "iSKwsgRFaQKg"
      }
    },
    {
      "cell_type": "markdown",
      "source": [
        "#### Ques15. What is standard deviation, and why is it important?\n"
      ],
      "metadata": {
        "id": "nztbQ86sakUf"
      }
    },
    {
      "cell_type": "markdown",
      "source": [
        "Ans. Standard Deviation (SD) is a statistical measure that shows how spread out the values in a data set are around the mean (average).It is the square root of variance, which makes it easier to interpret since it's in the same units as the original data.\n",
        "It is Important as:    \n",
        "1. Measures Consistency:  \n",
        "Low SD → data points are close to the mean (consistent)\n",
        "High SD → data points are spread out (less consistent)\n",
        "2. Helps in Comparison:\n",
        "Compare the variability between two datasets\n",
        "3. Used in Normal Distribution:\n",
        "68% of values lie within ±1 SD from the mean, 95% within ±2 SD, 99.7% within ±3 SD (Empirical Rule)"
      ],
      "metadata": {
        "id": "wMjdU-7Eao4Q"
      }
    },
    {
      "cell_type": "markdown",
      "source": [
        "#### Ques16. Define and explain the term range in statistics.\n"
      ],
      "metadata": {
        "id": "_IouCpIpbj6x"
      }
    },
    {
      "cell_type": "markdown",
      "source": [
        "Ans. The Range is the simplest measure of dispersion in a dataset. It tells you how spread out the values are by calculating the difference between the highest and lowest values.  \n",
        "Range=Maximum Value−Minimum Value"
      ],
      "metadata": {
        "id": "M8a9qWCAbrJh"
      }
    },
    {
      "cell_type": "markdown",
      "source": [
        "#### Ques 17.What is the difference between variance and standard deviation.\n"
      ],
      "metadata": {
        "id": "lDOIjz7dbwzD"
      }
    },
    {
      "cell_type": "markdown",
      "source": [
        "Ans.\n",
        "1. Variance: The average of the squared differences from the mean. It is the Squared units of original data (e.g., cm², kg²). It is harder to interpret directly. Variance tells how far data is spread out, but in squared units.\n",
        "2.\tStandard Deviation: Square root of the variance.Same units as original data (e.g., cm, kg).Easier to interpret in context. Standard deviation tells the same thing, but in the original units, so it’s more intuitive and widely used.\n"
      ],
      "metadata": {
        "id": "gRF1uH1Vb6Lw"
      }
    },
    {
      "cell_type": "markdown",
      "source": [
        "#### Ques18. What is skewness in a dataset?\n",
        "\n"
      ],
      "metadata": {
        "id": "fjbS2pApcmfQ"
      }
    },
    {
      "cell_type": "markdown",
      "source": [
        "Ans. Skewness is a measure of the asymmetry or lack of symmetry in the distribution of data.\n",
        "It tells us which side (left or right) the tail of the distribution is longer or heavier.\n",
        "Types of Skewness:\n",
        "1.  Symmetrical (Zero Skewness):Bell-shaped curve (normal distribution)\n",
        "2.  Positive Skewness (Right Skewed):\n",
        "Tail is longer on the right side.\n",
        "3. Negative Skewness (Left Skewed):\n",
        "Tail is longer on the left side\n",
        "\n",
        "Skewness helps decide which statistical methods to apply.Important in risk analysis, data modeling, and machine learning."
      ],
      "metadata": {
        "id": "nvjgJmshcsMV"
      }
    },
    {
      "cell_type": "markdown",
      "source": [
        "#### Ques 19. What does it mean if a dataset is positively or negatively skewed?\n"
      ],
      "metadata": {
        "id": "Lyo35OLXdJi7"
      }
    },
    {
      "cell_type": "markdown",
      "source": [
        "Ans.\n",
        "1. Positive Skewness (Right Skewed)\n",
        "Tail is longer on the right side  \n",
        "Mean > Median > Mode\n",
        "Most values are low, a few are very high.The average (mean) gets pulled higher than the middle value.\n",
        "Example: Income of people in a town:\n",
        "Most people earn ₹20k–₹50k.  \n",
        "A few rich people earn ₹10 lakhs or ₹1 crore.  \n",
        "So, the average income looks high, even though most earn much less.\n",
        "Result: Mean > Median.\n",
        "\n",
        "2. Negative Skewness (Left-Skewed):\n",
        "The graph is stretched to the left (long tail on the left).Most values are high, but a few are very small.The average (mean) is pulled lower than the middle value.\n",
        "Example:\n",
        "Age at retirement:\n",
        "Most people retire around age 60–65.  \n",
        "A few retire early at 40 or 45.  \n",
        "These few early retirees pull the average down.  \n",
        "Mean < Median"
      ],
      "metadata": {
        "id": "FyMgkusQdM16"
      }
    },
    {
      "cell_type": "markdown",
      "source": [
        "#### Ques20. Define and explain kurtosis5"
      ],
      "metadata": {
        "id": "hVZp9s5IfXY9"
      }
    },
    {
      "cell_type": "markdown",
      "source": [
        "Ans. Kurtosis is a statistical measure that describes the \"tailedness\" of a distribution — in other words, how sharp or flat the peak of a data distribution is and how heavy or light the tails are compared to a normal distribution.\n",
        "While skewness tells you which side the data leans to,\n",
        "kurtosis tells you how extreme the outliers are and how peaked or flat the distribution looks."
      ],
      "metadata": {
        "id": "dDTABEWsfcXJ"
      }
    },
    {
      "cell_type": "markdown",
      "source": [
        "#### Ques21What is the purpose of covariance?"
      ],
      "metadata": {
        "id": "z54Va7Jjfysn"
      }
    },
    {
      "cell_type": "markdown",
      "source": [
        "Ans. Covariance is a statistical tool that helps you understand the relationship between two variables — specifically, how they change together.\n",
        "Purpose of Covariance:\n",
        "1. To measure whether two variables increase or decrease together (whether they move in the same or opposite direction).\n",
        "2. It helps in identifying the direction of a relationship, though not the strength.\n",
        "When temperature increases, ice cream sales increase.\n",
        "This shows positive covariance.  \n",
        "When price increases, demand decreases, that’s negative covariance."
      ],
      "metadata": {
        "id": "MD-pltjyf2RI"
      }
    },
    {
      "cell_type": "markdown",
      "source": [
        "#### Ques22. What does correlation measure in statistics?"
      ],
      "metadata": {
        "id": "yCEPK6l_gXu_"
      }
    },
    {
      "cell_type": "markdown",
      "source": [
        "Ans.  It shows how closely two variables are related and whether they increase or decrease together.\n",
        "1. Correlation tells you how strong the relationship between two variables is — whether it's a weak, moderate, or strong relationship.\n",
        "2. It also tells you whether the variables move in the same direction (positive) or in opposite directions (negative).\n",
        "The correlation is typically measured by the correlation coefficient (r), which ranges from -1 to 1.\n",
        "+1\tPerfect positive correlation (both increase together).  \n",
        "-1\tPerfect negative correlation (one increases, the other decreases)"
      ],
      "metadata": {
        "id": "JRLQ3KVTgbOZ"
      }
    },
    {
      "cell_type": "markdown",
      "source": [
        "#### Ques23. What is the difference between covariance and correlation?"
      ],
      "metadata": {
        "id": "N9soD6_ug-LY"
      }
    },
    {
      "cell_type": "markdown",
      "source": [
        "Ans. Both covariance and correlation measure the relationship between two variables, but they differ in how they represent that relationship.\n",
        "1. Covariance:\n",
        "Measures how two variables vary together.  \n",
        "Range\t->Any real number; the value depends on the units of the variables.  \n",
        "Unit ->Depends on the units of the variables (e.g., if X is in kg and Y in meters, the covariance will be in kg-meters).  \n",
        "Shows whether the variables move together but not the strength of the relationship.\n",
        "2.Correlation:\n",
        "Measures both the strength and direction of the linear relationship.\n",
        "Range -> Between -1 and +1.\n",
        "Unit ->  No units; it's a normalized value.  \n",
        "1 or -1 means a perfect relationship, 0 means no linear relationship."
      ],
      "metadata": {
        "id": "JVxaD6iDhFhT"
      }
    },
    {
      "cell_type": "markdown",
      "source": [
        "#### Ques24. What are some real-world applications of statistics?\n"
      ],
      "metadata": {
        "id": "TySu46jLhyx_"
      }
    },
    {
      "cell_type": "markdown",
      "source": [
        "Ans.\n",
        "1 Business and Marketing:\n",
        "Market Research, Customer Segmentation,Sales Forecasting:\n",
        "2. Healthcare:\n",
        "Medical Research\n",
        "3. Finance:\n",
        "Risk Assessment, Stock Market Analysis, Fraud detection.\n",
        "4. Sports\n",
        "Performance Analysis, Predictive Models"
      ],
      "metadata": {
        "id": "B3r2dXb_h7bo"
      }
    },
    {
      "cell_type": "markdown",
      "source": [
        "# Practical Questions"
      ],
      "metadata": {
        "id": "_4fn-hZPicbp"
      }
    },
    {
      "cell_type": "markdown",
      "source": [
        "### Ques1. How do you calculate the mean, median, and mode of a dataset.\n"
      ],
      "metadata": {
        "id": "rIEbISkBifKv"
      }
    },
    {
      "cell_type": "code",
      "source": [
        "data= [4,8,6,5,3]\n",
        "data"
      ],
      "metadata": {
        "colab": {
          "base_uri": "https://localhost:8080/"
        },
        "id": "1B_d8X70cqyT",
        "outputId": "5381e717-11d8-4e51-c829-9df806137fe1"
      },
      "execution_count": null,
      "outputs": [
        {
          "output_type": "execute_result",
          "data": {
            "text/plain": [
              "[4, 8, 6, 5, 3]"
            ]
          },
          "metadata": {},
          "execution_count": 3
        }
      ]
    },
    {
      "cell_type": "code",
      "source": [
        "import statistics"
      ],
      "metadata": {
        "id": "jPZUJAF9c4NZ"
      },
      "execution_count": null,
      "outputs": []
    },
    {
      "cell_type": "code",
      "source": [
        "mean = statistics.mean(data)\n",
        "mean"
      ],
      "metadata": {
        "colab": {
          "base_uri": "https://localhost:8080/"
        },
        "id": "avHC8t-jdImC",
        "outputId": "6909ae4f-5ef7-41d2-9d5a-c5a2be09fb6b"
      },
      "execution_count": null,
      "outputs": [
        {
          "output_type": "execute_result",
          "data": {
            "text/plain": [
              "5.2"
            ]
          },
          "metadata": {},
          "execution_count": 5
        }
      ]
    },
    {
      "cell_type": "code",
      "source": [
        "mode = statistics.mode(data)\n",
        "mode"
      ],
      "metadata": {
        "colab": {
          "base_uri": "https://localhost:8080/"
        },
        "id": "wWg6hp4odQRa",
        "outputId": "f5295275-66ec-486d-924d-e8c4560d071b"
      },
      "execution_count": null,
      "outputs": [
        {
          "output_type": "execute_result",
          "data": {
            "text/plain": [
              "4"
            ]
          },
          "metadata": {},
          "execution_count": 6
        }
      ]
    },
    {
      "cell_type": "code",
      "source": [
        "median = statistics.median(data)\n",
        "median"
      ],
      "metadata": {
        "colab": {
          "base_uri": "https://localhost:8080/"
        },
        "id": "w04WaDk9dWF6",
        "outputId": "6995d70a-7534-4203-d8ca-be4ec8703518"
      },
      "execution_count": null,
      "outputs": [
        {
          "output_type": "execute_result",
          "data": {
            "text/plain": [
              "5"
            ]
          },
          "metadata": {},
          "execution_count": 7
        }
      ]
    },
    {
      "cell_type": "markdown",
      "source": [
        "#### Ques2. Write a Python program to compute the variance and standard deviation of a dataset.\n"
      ],
      "metadata": {
        "id": "d53Cy_Fce2vj"
      }
    },
    {
      "cell_type": "code",
      "source": [
        "import seaborn as sns\n",
        "sns.get_dataset_names()"
      ],
      "metadata": {
        "colab": {
          "base_uri": "https://localhost:8080/"
        },
        "id": "lZbYHRn1ei4X",
        "outputId": "bba82a03-ac2b-4b0a-bfcd-00dfc8ae4b81"
      },
      "execution_count": null,
      "outputs": [
        {
          "output_type": "execute_result",
          "data": {
            "text/plain": [
              "['anagrams',\n",
              " 'anscombe',\n",
              " 'attention',\n",
              " 'brain_networks',\n",
              " 'car_crashes',\n",
              " 'diamonds',\n",
              " 'dots',\n",
              " 'dowjones',\n",
              " 'exercise',\n",
              " 'flights',\n",
              " 'fmri',\n",
              " 'geyser',\n",
              " 'glue',\n",
              " 'healthexp',\n",
              " 'iris',\n",
              " 'mpg',\n",
              " 'penguins',\n",
              " 'planets',\n",
              " 'seaice',\n",
              " 'taxis',\n",
              " 'tips',\n",
              " 'titanic']"
            ]
          },
          "metadata": {},
          "execution_count": 8
        }
      ]
    },
    {
      "cell_type": "code",
      "source": [
        "tips = sns.load_dataset('tips')"
      ],
      "metadata": {
        "id": "iyGybf5kfL5o"
      },
      "execution_count": null,
      "outputs": []
    },
    {
      "cell_type": "code",
      "source": [
        "std_total_bill = tips['total_bill'].std()\n",
        "print('standard Deviation of total_bill:', std_total_bill)"
      ],
      "metadata": {
        "colab": {
          "base_uri": "https://localhost:8080/"
        },
        "id": "DgTvRkoofZvW",
        "outputId": "76c370cd-0d71-4c72-d3a2-d8138fb28e31"
      },
      "execution_count": null,
      "outputs": [
        {
          "output_type": "stream",
          "name": "stdout",
          "text": [
            "standard Deviation of total_bill: 8.902411954856856\n"
          ]
        }
      ]
    },
    {
      "cell_type": "code",
      "source": [
        "var_total_bill = tips['total_bill'].var()\n",
        "print(\"Variance of total_bill:\", var_total_bill)"
      ],
      "metadata": {
        "colab": {
          "base_uri": "https://localhost:8080/"
        },
        "id": "EUuqvlATf_me",
        "outputId": "160df200-fede-42ac-c88c-ec7d8571e1ad"
      },
      "execution_count": null,
      "outputs": [
        {
          "output_type": "stream",
          "name": "stdout",
          "text": [
            "Variance of total_bill: 79.25293861397826\n"
          ]
        }
      ]
    },
    {
      "cell_type": "markdown",
      "source": [
        "#### Ques3.Create a dataset and classify it into nominal, ordinal, interval, and ratio types.\n"
      ],
      "metadata": {
        "id": "Pml-2fp6gOk6"
      }
    },
    {
      "cell_type": "code",
      "source": [
        "import pandas as pd\n",
        "\n",
        "data= {\n",
        "    'Name': ['Riya', 'Arjun', 'Meera', 'Kabir'],                      # Nominal\n",
        "    'Education Level': ['Graduate', 'High School', 'Postgraduate', 'Undergraduate'],  # Ordinal\n",
        "    'Temperature (°C)': [22, 28, 31, 25],                             # Interval\n",
        "    'Age': [25, 18, 30, 22],                                          # Ratio\n",
        "    'Income': [30000, 15000, 45000, 25000]  #RAtio\n",
        "}\n",
        "df = pd.DataFrame(data)\n",
        "print(df)"
      ],
      "metadata": {
        "colab": {
          "base_uri": "https://localhost:8080/"
        },
        "id": "J29bkrDlgHJ1",
        "outputId": "01ab04f6-91fd-4781-a8da-dc2a70820ebd"
      },
      "execution_count": null,
      "outputs": [
        {
          "output_type": "stream",
          "name": "stdout",
          "text": [
            "    Name Education Level  Temperature (°C)  Age  Income\n",
            "0   Riya        Graduate                22   25   30000\n",
            "1  Arjun     High School                28   18   15000\n",
            "2  Meera    Postgraduate                31   30   45000\n",
            "3  Kabir   Undergraduate                25   22   25000\n"
          ]
        }
      ]
    },
    {
      "cell_type": "markdown",
      "source": [
        "#### Ques4.Implement sampling techniques like random sampling and stratified sampling."
      ],
      "metadata": {
        "id": "B_Uwm3Me3Uzi"
      }
    },
    {
      "cell_type": "code",
      "source": [
        "import pandas as pd\n",
        "import seaborn as sns\n",
        "\n",
        "tips = sns.load_dataset('tips')\n",
        "\n",
        "random_sample = tips.sample(n=10, random_state = 42)\n",
        "\n",
        "print(\"Random Sample\")\n",
        "print(random_sample)\n"
      ],
      "metadata": {
        "colab": {
          "base_uri": "https://localhost:8080/"
        },
        "id": "I57PZNKz2jvE",
        "outputId": "b8972eaa-8d77-4820-fd0a-4b5d8df370ee"
      },
      "execution_count": null,
      "outputs": [
        {
          "output_type": "stream",
          "name": "stdout",
          "text": [
            "Random Sample\n",
            "     total_bill   tip     sex smoker   day    time  size\n",
            "24        19.82  3.18    Male     No   Sat  Dinner     2\n",
            "6          8.77  2.00    Male     No   Sun  Dinner     2\n",
            "153       24.55  2.00    Male     No   Sun  Dinner     4\n",
            "211       25.89  5.16    Male    Yes   Sat  Dinner     4\n",
            "198       13.00  2.00  Female    Yes  Thur   Lunch     2\n",
            "176       17.89  2.00    Male    Yes   Sun  Dinner     2\n",
            "192       28.44  2.56    Male    Yes  Thur   Lunch     2\n",
            "124       12.48  2.52  Female     No  Thur   Lunch     2\n",
            "9         14.78  3.23    Male     No   Sun  Dinner     2\n",
            "101       15.38  3.00  Female    Yes   Fri  Dinner     2\n"
          ]
        }
      ]
    },
    {
      "cell_type": "code",
      "source": [
        "# Stratified sampling by 'sex' column\n",
        "# Sample 20% from each gender\n",
        "stratified_sample = tips.groupby('sex', group_keys=False).apply(lambda x: x.sample(frac=0.2, random_state=42))\n",
        "\n",
        "print(\"\\nStratified Sample by 'sex':\")\n",
        "print(stratified_sample.head())\n"
      ],
      "metadata": {
        "colab": {
          "base_uri": "https://localhost:8080/"
        },
        "id": "VZsv9lZ59rj8",
        "outputId": "440b25ca-19a1-4b33-d0f9-b157336834b8"
      },
      "execution_count": null,
      "outputs": [
        {
          "output_type": "stream",
          "name": "stdout",
          "text": [
            "\n",
            "Stratified Sample by 'sex':\n",
            "     total_bill   tip   sex smoker   day    time  size\n",
            "194       16.58  4.00  Male    Yes  Thur   Lunch     2\n",
            "60        20.29  3.21  Male    Yes   Sat  Dinner     2\n",
            "207       38.73  3.00  Male    Yes   Sat  Dinner     4\n",
            "216       28.15  3.00  Male    Yes   Sat  Dinner     5\n",
            "175       32.90  3.11  Male    Yes   Sun  Dinner     2\n"
          ]
        },
        {
          "output_type": "stream",
          "name": "stderr",
          "text": [
            "<ipython-input-14-087c910b9e5c>:3: FutureWarning: The default of observed=False is deprecated and will be changed to True in a future version of pandas. Pass observed=False to retain current behavior or observed=True to adopt the future default and silence this warning.\n",
            "  stratified_sample = tips.groupby('sex', group_keys=False).apply(lambda x: x.sample(frac=0.2, random_state=42))\n",
            "<ipython-input-14-087c910b9e5c>:3: DeprecationWarning: DataFrameGroupBy.apply operated on the grouping columns. This behavior is deprecated, and in a future version of pandas the grouping columns will be excluded from the operation. Either pass `include_groups=False` to exclude the groupings or explicitly select the grouping columns after groupby to silence this warning.\n",
            "  stratified_sample = tips.groupby('sex', group_keys=False).apply(lambda x: x.sample(frac=0.2, random_state=42))\n"
          ]
        }
      ]
    },
    {
      "cell_type": "markdown",
      "source": [
        "#### Ques5. Write a Python function to calculate the range of a dataset"
      ],
      "metadata": {
        "id": "FMShnnx1-zCy"
      }
    },
    {
      "cell_type": "code",
      "source": [
        "def cal_range(data):\n",
        "  return max(data)-min(data)\n",
        "\n",
        "numbers = [4,6,7,8,9,14,34,21,2]\n",
        "range_value = cal_range(numbers)\n",
        "print(\"Range\", range_value)\n"
      ],
      "metadata": {
        "colab": {
          "base_uri": "https://localhost:8080/"
        },
        "id": "ei9oyQu6-4Vj",
        "outputId": "8e130ade-9258-41f5-e55c-88895dbbcb37"
      },
      "execution_count": null,
      "outputs": [
        {
          "output_type": "stream",
          "name": "stdout",
          "text": [
            "Range 32\n"
          ]
        }
      ]
    },
    {
      "cell_type": "markdown",
      "source": [
        "####Ques6.Create a dataset and plot its histogram to visualize skewness."
      ],
      "metadata": {
        "id": "DSuFaYPs_YG7"
      }
    },
    {
      "cell_type": "code",
      "source": [
        "import matplotlib.pyplot as plt\n",
        "import seaborn as sns\n",
        "from scipy.stats import skew\n",
        "\n",
        "data = [1,1,1,1,1,1,1,1,1,1,1,1,1,1,2,3,2,2,2,2,2,4,5,2,6,7,8,9,8,7,6,5,10,12,12,12,13,15,16,17,20,21,22,23,26,2,3,1,1,3]\n",
        "\n",
        "sns.histplot(data,kde = True, color = 'skyblue')\n",
        "plt.title('Histogram showing skewness')\n",
        "plt.xlabel('Values')\n",
        "plt.ylabel('Frequency')\n",
        "plt.grid(True)\n",
        "plt.show()"
      ],
      "metadata": {
        "id": "auwquhJa_c00",
        "colab": {
          "base_uri": "https://localhost:8080/",
          "height": 472
        },
        "outputId": "359edbd5-1c85-4a8d-ef03-08dce7898880"
      },
      "execution_count": null,
      "outputs": [
        {
          "output_type": "display_data",
          "data": {
            "text/plain": [
              "<Figure size 640x480 with 1 Axes>"
            ],
            "image/png": "[encoded data removed]"
          },
          "metadata": {}
        }
      ]
    },
    {
      "cell_type": "code",
      "source": [
        "import numpy as np\n",
        "data1 = np.random.exponential(scale=2, size=1000)  # Positively skewed data\n",
        "sns.histplot(data1, kde = True, color = 'skyblue')\n",
        "plt.title('Histogram showing skewness')\n",
        "plt.xlabel('Values')\n",
        "plt.ylabel('Frequency')\n",
        "plt.grid(True)\n",
        "plt.show()"
      ],
      "metadata": {
        "colab": {
          "base_uri": "https://localhost:8080/",
          "height": 472
        },
        "id": "aVgkHoCmm0Aa",
        "outputId": "827a015f-f592-4f76-87c7-5e57536e2dd6"
      },
      "execution_count": null,
      "outputs": [
        {
          "output_type": "display_data",
          "data": {
            "text/plain": [
              "<Figure size 640x480 with 1 Axes>"
            ],
            "image/png": "[encoded data removed]"
          },
          "metadata": {}
        }
      ]
    },
    {
      "cell_type": "code",
      "source": [
        "import numpy as np\n",
        "data1 = -np.random.exponential(scale=2, size=1000)  # Positively skewed data\n",
        "sns.histplot(data1, kde = True, color = 'skyblue')\n",
        "plt.title('Histogram showing skewness')\n",
        "plt.xlabel('Values')\n",
        "plt.ylabel('Frequency')\n",
        "plt.grid(True)\n",
        "plt.show()"
      ],
      "metadata": {
        "colab": {
          "base_uri": "https://localhost:8080/",
          "height": 472
        },
        "id": "ipqVTT-TnwAA",
        "outputId": "5b33679c-f51e-46fd-b42c-4f23b48b7594"
      },
      "execution_count": null,
      "outputs": [
        {
          "output_type": "display_data",
          "data": {
            "text/plain": [
              "<Figure size 640x480 with 1 Axes>"
            ],
            "image/png": "[encoded data removed]"
          },
          "metadata": {}
        }
      ]
    },
    {
      "cell_type": "markdown",
      "source": [
        "#### Ques7.Calculate skewness and kurtosis of a dataset using Python libraries.\n"
      ],
      "metadata": {
        "id": "mza4OcRrxJj7"
      }
    },
    {
      "cell_type": "code",
      "source": [
        "from scipy.stats import kurtosis\n",
        "data = np.random.normal(loc=0, scale=1, size= 1000)\n",
        "\n",
        "skewness_scipy = skew(data)\n",
        "kurtosis_scipy = kurtosis(data)\n",
        "\n",
        "print(f\"Skewness (SciPy): {skewness_scipy}\")\n",
        "print(f\"Kurtosis (SciPy): {kurtosis_scipy}\")"
      ],
      "metadata": {
        "colab": {
          "base_uri": "https://localhost:8080/"
        },
        "id": "CIR_tN7Fw-4Q",
        "outputId": "c5bb91a3-1516-4bb8-9a60-dd0b14ae0173"
      },
      "execution_count": null,
      "outputs": [
        {
          "output_type": "stream",
          "name": "stdout",
          "text": [
            "Skewness (SciPy): 0.0568877684808967\n",
            "Kurtosis (SciPy): -0.09252150660000202\n"
          ]
        }
      ]
    },
    {
      "cell_type": "code",
      "source": [
        "#Skewness close to 0 indicates near symmetry. Has very mild heavy tails, almost negligible."
      ],
      "metadata": {
        "id": "2W3a51ay2hnY"
      },
      "execution_count": null,
      "outputs": []
    },
    {
      "cell_type": "markdown",
      "source": [
        "#### Ques8.Generate a dataset and demonstrate positive and negative skewness.\n"
      ],
      "metadata": {
        "id": "UjnQ7Wj63Ilj"
      }
    },
    {
      "cell_type": "code",
      "source": [
        "positive_skew_data = np.random.exponential(scale =2, size =1000)\n",
        "negative_skew_data = -np.random.exponential(scale=2, size =1000)\n",
        "\n",
        "plt.subplot(1,2,1)\n",
        "sns.histplot(positive_skew_data, kde = True , color = 'lightgreen')\n",
        "plt.title(f'Positive Skew(skewness = {skew(positive_skew_data):.2f})')\n",
        "plt.xlabel('Values')\n",
        "plt.ylabel('Frequency')\n",
        "\n",
        "plt.subplot(1,2,2)\n",
        "sns.histplot(negative_skew_data, kde = True, color = 'salmon')\n",
        "plt.title(f'Negative Skewness = {skew(negative_skew_data):.2f}')\n",
        "plt.xlabel('Values')\n",
        "plt.ylabel('Frequency')\n",
        "\n",
        "plt.tight_layout()\n",
        "plt.show()"
      ],
      "metadata": {
        "colab": {
          "base_uri": "https://localhost:8080/",
          "height": 487
        },
        "id": "PEKaoinI3NIr",
        "outputId": "13518db9-88bc-42f7-b4f8-e711a86dc1ea"
      },
      "execution_count": null,
      "outputs": [
        {
          "output_type": "display_data",
          "data": {
            "text/plain": [
              "<Figure size 640x480 with 2 Axes>"
            ],
            "image/png": "[encoded data removed]"
          },
          "metadata": {}
        }
      ]
    },
    {
      "cell_type": "markdown",
      "source": [
        "#### Ques9.Write a Python script to calculate covariance between two datasets\n"
      ],
      "metadata": {
        "id": "WsMS1gDX3Fvo"
      }
    },
    {
      "cell_type": "code",
      "source": [
        "x = np.array([2,4,6,8,10])\n",
        "y = np.array([1,3,5,7,9])\n",
        "\n",
        "cov_matrix = np.cov(x,y, bias =False) #bias=False tells NumPy to use sample covariance\n",
        "cov_xy = cov_matrix[0, 1]  # Covariance between x and y\n",
        "\n",
        "print(f\"Covariance using NumPy: {cov_xy}\")"
      ],
      "metadata": {
        "colab": {
          "base_uri": "https://localhost:8080/"
        },
        "id": "MdnkulQjF7-x",
        "outputId": "19189800-c403-472a-f02c-06464880c433"
      },
      "execution_count": null,
      "outputs": [
        {
          "output_type": "stream",
          "name": "stdout",
          "text": [
            "Covariance using NumPy: 10.0\n"
          ]
        }
      ]
    },
    {
      "cell_type": "markdown",
      "source": [
        "#### Ques10.Write a Python script to calculate the correlation coefficient between two datasets\n"
      ],
      "metadata": {
        "id": "yBy4NBuKH8PT"
      }
    },
    {
      "cell_type": "code",
      "source": [
        "x = [2, 4, 6, 8, 10]\n",
        "y = [1, 3, 5, 7, 9]\n",
        "\n",
        "corr_matrix = np.corrcoef(x, y)\n",
        "correlation_numpy = corr_matrix[0, 1]\n",
        "print(\"Correlation using NumPy:\", correlation_numpy)"
      ],
      "metadata": {
        "colab": {
          "base_uri": "https://localhost:8080/"
        },
        "id": "Uu-M4qkqIBeO",
        "outputId": "f8799744-0c57-4925-b302-780ee12c84ee"
      },
      "execution_count": null,
      "outputs": [
        {
          "output_type": "stream",
          "name": "stdout",
          "text": [
            "Correlation using NumPy: 0.9999999999999999\n"
          ]
        }
      ]
    },
    {
      "cell_type": "markdown",
      "source": [
        "output will be a 2*2 symmetric matrix   \n",
        " [[corr(x, x), corr(x, y)],  \n",
        " [corr(y, x), corr(y, y)]]\n"
      ],
      "metadata": {
        "id": "1FP-i5eQI0QP"
      }
    },
    {
      "cell_type": "markdown",
      "source": [
        "#### Ques11. Create a scatter plot to visualize the relationship between two variables\n"
      ],
      "metadata": {
        "id": "EWbrX5PbJEHb"
      }
    },
    {
      "cell_type": "code",
      "source": [
        "x = [2, 4, 6, 8, 10]\n",
        "y = [1, 3, 5, 7, 9]\n",
        "\n",
        "sns.scatterplot(x= x, y=y, color = 'blue', s=100)\n",
        "\n",
        "plt.title('Scatter Plot of x vs y')\n",
        "plt.xlabel('x values')\n",
        "plt.ylabel('y values')\n",
        "plt.grid(True)\n",
        "\n",
        "plt.show()"
      ],
      "metadata": {
        "colab": {
          "base_uri": "https://localhost:8080/",
          "height": 472
        },
        "id": "m3srE4QeHov9",
        "outputId": "3b193843-5bb2-43a9-c552-b77cdad32f47"
      },
      "execution_count": null,
      "outputs": [
        {
          "output_type": "display_data",
          "data": {
            "text/plain": [
              "<Figure size 640x480 with 1 Axes>"
            ],
            "image/png": "[encoded data removed]"
          },
          "metadata": {}
        }
      ]
    },
    {
      "cell_type": "markdown",
      "source": [
        "Scatterplot shows how one variable changes with another.Straight line trend means strong correlation.If points are randomly spread, correlation is weak or zero.\n"
      ],
      "metadata": {
        "id": "TKCXFrP4JxR-"
      }
    },
    {
      "cell_type": "markdown",
      "source": [
        "#### Ques12.Implement and compare simple random sampling and systematic sampling.\n"
      ],
      "metadata": {
        "id": "0rSCd-b6J4LH"
      }
    },
    {
      "cell_type": "code",
      "source": [
        "tips = sns.load_dataset('tips')\n",
        "print('Total rows in dataset:', len(tips))"
      ],
      "metadata": {
        "colab": {
          "base_uri": "https://localhost:8080/"
        },
        "id": "t-NTBCpFJ32s",
        "outputId": "800a5268-dcd0-46e9-eb61-97d3f543c729"
      },
      "execution_count": null,
      "outputs": [
        {
          "output_type": "stream",
          "name": "stdout",
          "text": [
            "Total rows in dataset: 244\n"
          ]
        }
      ]
    },
    {
      "cell_type": "code",
      "source": [
        "#Simple Random Sampling\n",
        "#Randomly pick 10 rows, no pattern\n",
        "random_sample = tips.sample(n=10, random_state = 42)\n",
        "\n",
        "print(\"Simple Random Sample:\", random_sample)\n"
      ],
      "metadata": {
        "colab": {
          "base_uri": "https://localhost:8080/"
        },
        "id": "fGYRGKmcJn1k",
        "outputId": "f84fe072-fa47-4673-b729-e29f8221b934"
      },
      "execution_count": null,
      "outputs": [
        {
          "output_type": "stream",
          "name": "stdout",
          "text": [
            "Simple Random Sample:      total_bill   tip     sex smoker   day    time  size\n",
            "24        19.82  3.18    Male     No   Sat  Dinner     2\n",
            "6          8.77  2.00    Male     No   Sun  Dinner     2\n",
            "153       24.55  2.00    Male     No   Sun  Dinner     4\n",
            "211       25.89  5.16    Male    Yes   Sat  Dinner     4\n",
            "198       13.00  2.00  Female    Yes  Thur   Lunch     2\n",
            "176       17.89  2.00    Male    Yes   Sun  Dinner     2\n",
            "192       28.44  2.56    Male    Yes  Thur   Lunch     2\n",
            "124       12.48  2.52  Female     No  Thur   Lunch     2\n",
            "9         14.78  3.23    Male     No   Sun  Dinner     2\n",
            "101       15.38  3.00  Female    Yes   Fri  Dinner     2\n"
          ]
        }
      ]
    },
    {
      "cell_type": "code",
      "source": [
        "#Systematic Sampling\n",
        "#pick every k-th row\n",
        "\n",
        "k = len(tips) // 10   #244//10 =24\n",
        "systematic_sample = tips.iloc[::k] #start from index 0 and pick every k-th row from the dataframe\n",
        "\n",
        "#[0, 24, 48, 72, 96, 120, 144, 168, 192, 216, 240], ye select honge\n",
        "\n",
        "print('Systematic Sample', systematic_sample)\n"
      ],
      "metadata": {
        "colab": {
          "base_uri": "https://localhost:8080/"
        },
        "id": "rcYZdOJGKx86",
        "outputId": "c1c04684-92e8-409d-be3c-caad24e7a145"
      },
      "execution_count": null,
      "outputs": [
        {
          "output_type": "stream",
          "name": "stdout",
          "text": [
            "Systematic Sample      total_bill   tip     sex smoker   day    time  size\n",
            "0         16.99  1.01  Female     No   Sun  Dinner     2\n",
            "24        19.82  3.18    Male     No   Sat  Dinner     2\n",
            "48        28.55  2.05    Male     No   Sun  Dinner     3\n",
            "72        26.86  3.14  Female    Yes   Sat  Dinner     2\n",
            "96        27.28  4.00    Male    Yes   Fri  Dinner     2\n",
            "120       11.69  2.31    Male     No  Thur   Lunch     2\n",
            "144       16.43  2.30  Female     No  Thur   Lunch     2\n",
            "168       10.59  1.61  Female    Yes   Sat  Dinner     2\n",
            "192       28.44  2.56    Male    Yes  Thur   Lunch     2\n",
            "216       28.15  3.00    Male    Yes   Sat  Dinner     5\n",
            "240       27.18  2.00  Female    Yes   Sat  Dinner     2\n"
          ]
        }
      ]
    },
    {
      "cell_type": "markdown",
      "source": [
        "#### Ques13.Calculate the mean, median, and mode of grouped data."
      ],
      "metadata": {
        "id": "9hY9KxUuMV0G"
      }
    },
    {
      "cell_type": "code",
      "source": [
        "from scipy import stats\n",
        "data= {\n",
        "    'class': [(0,10),(10,20), (20,30), (30,40), (40,50)],\n",
        "    'Frequency': [5,8,12,10,7]\n",
        "}\n",
        "\n",
        "df =pd.DataFrame(data)\n",
        "\n",
        "#Midpoints for each class interavl\n",
        "df['Midpoint']= [(interval[0]+ interval[1]) / 2 for interval in df['class'] ]\n",
        "flatten_data= np.array([midpoint for midpoint, Frequency in zip(df['Midpoint'], df['Frequency']) for _ in range(Frequency)])\n",
        "\n",
        "#[5.0, 5.0, 5.0, 5.0, 5.0, 15.0, 15.0, 15.0, 15.0, 15.0, 15.0, 15.0, 25.0, 25.0, 25.0, ..., 45.0, 45.0]\n",
        "\n",
        "#Mean\n",
        "mean = np.mean(flatten_data)\n",
        "\n",
        "#mode\n",
        "mode = stats.mode(flatten_data)\n",
        "\n",
        "#median\n",
        "median = np.median(flatten_data)\n",
        "\n",
        "print(f\"Mean: {mean:.2f}\")\n",
        "print(f\"Median: {median:.2f}\")\n",
        "print(f\"Mode: {mode}\")\n",
        "print(f\"Mode: {mode.mode} (Frequency: {mode.count})\")\n",
        "\n"
      ],
      "metadata": {
        "colab": {
          "base_uri": "https://localhost:8080/"
        },
        "id": "YCnCjW7IL72V",
        "outputId": "6cbf6ed5-16a6-4d9a-b363-3b26ecb8be8d"
      },
      "execution_count": null,
      "outputs": [
        {
          "output_type": "stream",
          "name": "stdout",
          "text": [
            "Mean: 26.43\n",
            "Median: 25.00\n",
            "Mode: ModeResult(mode=np.float64(25.0), count=np.int64(12))\n",
            "Mode: 25.0 (Frequency: 12)\n"
          ]
        }
      ]
    },
    {
      "cell_type": "markdown",
      "source": [
        "#### Ques14.Simulate data using Python and calculate its central tendency and dispersion.\n"
      ],
      "metadata": {
        "id": "1ydQJ1I3WZZl"
      }
    },
    {
      "cell_type": "markdown",
      "source": [
        "simulating exam scores of 100 students where:\n",
        "Average score is around 70,\n",
        "\n",
        "Most students score within ±10 of 70 (i.e., 60–80),\n",
        "\n",
        "A few may score higher or lower due to randomness.\n",
        "\n",
        "around 68% of the values will fall in the range:[60,80]\n",
        "\n",
        "About 95% will fall within:[50,90]\n"
      ],
      "metadata": {
        "id": "geyU6SmzaEGz"
      }
    },
    {
      "cell_type": "code",
      "source": [
        "np.random.seed(42)#same random numbers are generated every time the code is run.\n",
        "data14 = np.random.normal(loc= 70, scale= 10, size =100)\n",
        "\n",
        "mean = np.mean(data14)\n",
        "median = np.median(data14)\n",
        "mode_result = stats.mode(data14)\n",
        "\n",
        "variance = np.var(data14, ddof =1 )\n",
        "std_dev = np.std(data14, ddof = 1)\n",
        "data_range = np.max(data14) - np.min(data14)\n",
        "\n",
        "print(f\"Mean: {mean:.2f}\")\n",
        "print(f\"Median: {median:.2f}\")\n",
        "print(f\"Mode: {mode_result.mode}(count: {mode_result.count})\")\n",
        "print(f\"Variance: {variance:.2f}\")\n",
        "print(f\"Standard Deviation: {std_dev:.2f}\")\n",
        "print(f\"Range: {data_range:.2f}\")\n",
        "\n",
        "\n"
      ],
      "metadata": {
        "colab": {
          "base_uri": "https://localhost:8080/"
        },
        "id": "8UtNJ3hkZHYE",
        "outputId": "8cd0c66d-ece3-4964-e5cb-cefea2df7577"
      },
      "execution_count": null,
      "outputs": [
        {
          "output_type": "stream",
          "name": "stdout",
          "text": [
            "Mean: 68.96\n",
            "Median: 68.73\n",
            "Mode: 43.80254895910255(count: 1)\n",
            "Variance: 82.48\n",
            "Standard Deviation: 9.08\n",
            "Range: 44.72\n"
          ]
        }
      ]
    },
    {
      "cell_type": "markdown",
      "source": [
        "#### Ques15. Use NumPy or pandas to summarize a dataset’s descriptive statistics."
      ],
      "metadata": {
        "id": "naUgCVV1cpJY"
      }
    },
    {
      "cell_type": "code",
      "source": [
        "import pandas as pd\n",
        "import numpy as np\n",
        "\n",
        "# Simulated dataset\n",
        "np.random.seed(42)\n",
        "data = np.random.normal(loc=70, scale=10, size=100)\n",
        "df = pd.DataFrame(data, columns=['Scores'])\n",
        "\n",
        "# Get descriptive statistics\n",
        "summary = df.describe()\n",
        "print(summary)"
      ],
      "metadata": {
        "colab": {
          "base_uri": "https://localhost:8080/"
        },
        "id": "8r7IGGMgcowR",
        "outputId": "a244d485-6f97-4ef5-c74d-a9590db27269"
      },
      "execution_count": null,
      "outputs": [
        {
          "output_type": "stream",
          "name": "stdout",
          "text": [
            "           Scores\n",
            "count  100.000000\n",
            "mean    68.961535\n",
            "std      9.081684\n",
            "min     43.802549\n",
            "25%     63.990943\n",
            "50%     68.730437\n",
            "75%     74.059521\n",
            "max     88.522782\n"
          ]
        }
      ]
    },
    {
      "cell_type": "markdown",
      "source": [
        "#### Ques16. Plot a boxplot to understand the spread and identify outliers."
      ],
      "metadata": {
        "id": "Y9ZzFH9ldE1I"
      }
    },
    {
      "cell_type": "code",
      "source": [
        "np.random.seed(42)\n",
        "data = np.random.normal(loc= 70, scale=10, size= 100)\n",
        "df = pd.DataFrame(data, columns= ['Scores'])\n",
        "\n",
        "sns.boxplot(x = 'Scores', data =df, color = 'skyblue')\n",
        "plt.title('Boxplot of scores')\n",
        "plt.xlabel('Scores')\n",
        "plt.grid(True)\n",
        "plt.show()"
      ],
      "metadata": {
        "colab": {
          "base_uri": "https://localhost:8080/",
          "height": 472
        },
        "id": "ssZ_1z_NZt_a",
        "outputId": "d6c46dbe-e584-4864-943a-a839476fc7d6"
      },
      "execution_count": null,
      "outputs": [
        {
          "output_type": "display_data",
          "data": {
            "text/plain": [
              "<Figure size 640x480 with 1 Axes>"
            ],
            "image/png": "[encoded data removed]"
          },
          "metadata": {}
        }
      ]
    },
    {
      "cell_type": "markdown",
      "source": [
        "#### Ques17. Calculate the interquartile range (IQR) of a dataset.\n"
      ],
      "metadata": {
        "id": "-9A1gh6eesiq"
      }
    },
    {
      "cell_type": "markdown",
      "source": [
        "IQR = Q3 - Q1  \n",
        "Q1 (25th percentile): Lower quartile\n",
        "\n",
        "Q3 (75th percentile): Upper quartile\n",
        "It shows the spread of the middle 50% of the data.\n"
      ],
      "metadata": {
        "id": "Rj4ASBr-e31J"
      }
    },
    {
      "cell_type": "code",
      "source": [
        "data = np.array([55,61,67,68,69,70,72,75,78,85])\n",
        "\n",
        "q1 = np.percentile(data, 25)\n",
        "q3 = np.percentile(data, 75)\n",
        "\n",
        "iqr = q3- q1\n",
        "print(f\"Q1: {q1}\")\n",
        "print(f\"Q3: {q3}\")\n",
        "print(f\"IQR: {iqr}\")"
      ],
      "metadata": {
        "colab": {
          "base_uri": "https://localhost:8080/"
        },
        "id": "7MaAvGo9UoSn",
        "outputId": "a9eeb664-4ac1-481b-87bd-1d656a1b8b19"
      },
      "execution_count": null,
      "outputs": [
        {
          "output_type": "stream",
          "name": "stdout",
          "text": [
            "Q1: 67.25\n",
            "Q3: 74.25\n",
            "IQR: 7.0\n"
          ]
        }
      ]
    },
    {
      "cell_type": "markdown",
      "source": [
        "#### Ques 18.Implement Z-score normalization and explain its significance.\n"
      ],
      "metadata": {
        "id": "RgJ2DIFYg38p"
      }
    },
    {
      "cell_type": "markdown",
      "source": [
        "Z-score normalization (also called standardization) is a method of rescaling data so that it has a mean of 0 and a standard deviation of 1.\n",
        "Z = X-mean of the datset/ std dev of dataset"
      ],
      "metadata": {
        "id": "zH3j_XkYhKoL"
      }
    },
    {
      "cell_type": "code",
      "source": [
        "data = np.array([55,61,67,68,69,70,72,75,78,85])\n",
        "\n",
        "mean= np.mean(data)\n",
        "\n",
        "std_dev = np.std(data)\n",
        "\n",
        "z_scores = (data- mean)/ std_dev\n",
        "\n",
        "print(\"Z-scores of the data:\", z_scores)\n"
      ],
      "metadata": {
        "colab": {
          "base_uri": "https://localhost:8080/"
        },
        "id": "MfSMgH4dfhWI",
        "outputId": "6e68c5e8-26ca-4778-d89a-536b965551bc"
      },
      "execution_count": null,
      "outputs": [
        {
          "output_type": "stream",
          "name": "stdout",
          "text": [
            "Z-scores of the data: [-1.87793657 -1.12676194 -0.37558731 -0.25039154 -0.12519577  0.\n",
            "  0.25039154  0.62597886  1.00156617  1.87793657]\n"
          ]
        }
      ]
    },
    {
      "cell_type": "markdown",
      "source": [
        "When to Use Z-score Normalization:\n",
        "1. Feature Scaling: When the features in the dataset have different units or scales (e.g., age in years and income in dollars), Z-score normalization brings all features to the same scale.\n",
        "2. Outlier Detection: Z-scores help detect outliers. A Z-score greater than 3 or less than -3 indicates an extreme value that is far from the mean."
      ],
      "metadata": {
        "id": "XB1QIhR4iypl"
      }
    },
    {
      "cell_type": "markdown",
      "source": [
        "#### Ques 19. Compare two datasets using their standard deviations."
      ],
      "metadata": {
        "id": "9nNolDxIjBEj"
      }
    },
    {
      "cell_type": "code",
      "source": [
        "data_a = np.array([48,49,50,51,52])\n",
        "data_b = ([30,40,50,60,70])\n",
        "\n",
        "std_a = np.std(data_a)\n",
        "std_b = np.std(data_b)\n",
        "\n",
        "print(f\"Standard Deviation of Dataset A: {std_a:.2f}\")\n",
        "print(f\"Standard Deviation of Dataset B: {std_b:.2f}\")"
      ],
      "metadata": {
        "colab": {
          "base_uri": "https://localhost:8080/"
        },
        "id": "HPrY_ElHjIXS",
        "outputId": "0f32f04b-39e8-49d0-8232-6295040b6eba"
      },
      "execution_count": null,
      "outputs": [
        {
          "output_type": "stream",
          "name": "stdout",
          "text": [
            "Standard Deviation of Dataset A: 1.41\n",
            "Standard Deviation of Dataset B: 14.14\n"
          ]
        }
      ]
    },
    {
      "cell_type": "markdown",
      "source": [
        "Dataset A (1.41): Very small spread — most values are clustered around the mean. This suggests more consistency.\n",
        "Dataset B (14.14): Large spread — values are spread far from the mean. This shows greater variability.\n",
        "\n"
      ],
      "metadata": {
        "id": "26Zq2jWbu5BU"
      }
    },
    {
      "cell_type": "markdown",
      "source": [
        "#### Ques20.Write a Python program to visualize covariance using a heatmap\n"
      ],
      "metadata": {
        "id": "UK28Z7RVvAr2"
      }
    },
    {
      "cell_type": "code",
      "source": [
        "np.random.seed(0)\n",
        "data = {\n",
        "    'X': np.random.normal(10, 2, 100),\n",
        "    'Y': np.random.normal(20, 5, 100),\n",
        "    'Z': np.random.normal(30, 10, 100)\n",
        "}\n",
        "\n",
        "df = pd.DataFrame(data)\n",
        "\n",
        "# Compute covariance matrix\n",
        "cov_matrix = df.cov()\n",
        "\n",
        "# Plot heatmap\n",
        "plt.figure(figsize=(8, 6))\n",
        "sns.heatmap(cov_matrix, annot=True, fmt=\".2f\", cmap=\"coolwarm\", square=True)\n",
        "plt.title(\"Covariance Matrix Heatmap\")\n",
        "plt.show()\n"
      ],
      "metadata": {
        "colab": {
          "base_uri": "https://localhost:8080/",
          "height": 545
        },
        "id": "Vv3Ogd2rvEwm",
        "outputId": "9c763e68-366b-4fd7-9fa6-77275f5c5cde"
      },
      "execution_count": null,
      "outputs": [
        {
          "output_type": "display_data",
          "data": {
            "text/plain": [
              "<Figure size 800x600 with 2 Axes>"
            ],
            "image/png": "[encoded data removed]"
          },
          "metadata": {}
        }
      ]
    },
    {
      "cell_type": "markdown",
      "source": [
        "#### Ques21. Use seaborn to create a correlation matrix for a dataset."
      ],
      "metadata": {
        "id": "THmhkxbGvSye"
      }
    },
    {
      "cell_type": "code",
      "source": [
        "import seaborn as sns\n",
        "df = sns.load_dataset('iris')\n",
        "correlation_matrix = df.corr(numeric_only = True)\n",
        "\n",
        "plt.figure(figsize = (8,6))\n",
        "sns.heatmap(correlation_matrix, annot = True, cmap ='coolwarm', square = True)\n",
        "plt.title('Correlation Matrix Heatmap')\n",
        "plt.show()"
      ],
      "metadata": {
        "colab": {
          "base_uri": "https://localhost:8080/",
          "height": 545
        },
        "id": "PuYKsABwhAFm",
        "outputId": "751b6e43-e218-41ee-f64b-dbfab1b981c4"
      },
      "execution_count": null,
      "outputs": [
        {
          "output_type": "display_data",
          "data": {
            "text/plain": [
              "<Figure size 800x600 with 2 Axes>"
            ],
            "image/png": "[encoded data removed]"
          },
          "metadata": {}
        }
      ]
    },
    {
      "cell_type": "markdown",
      "source": [
        "tell us how strongly two variables are related, and in what direction (positive or negative). These values range from -1 to +1.\n",
        "   1. -0.12 → Weak negative correlation (as one variable increases, the other slightly decreases)\n",
        "   2. 0.87 → Strong positive correlation.\n",
        "   3. 0.82 → Strong positive correlation.\n",
        "   4. -0.43 → Moderate negative correlatio"
      ],
      "metadata": {
        "id": "3obxoaAoZl0j"
      }
    },
    {
      "cell_type": "markdown",
      "source": [
        "#### Ques22.Generate a dataset and implement both variance and standard deviation computations."
      ],
      "metadata": {
        "id": "Xwdae6ULaLSz"
      }
    },
    {
      "cell_type": "code",
      "source": [
        "np.random.seed(0)\n",
        "data= np.random.randint(50, 100, size = 10)\n",
        "print(\"Dataset:\", data)\n",
        "\n",
        "variance_np = np.var(data, ddof =1) # ddof = 1 for sample variance\n",
        "std_dev_np = np.std(data, ddof =1)  # ddof =1 for sample standard deviation\n",
        "\n",
        "print(f'Variance: {variance_np:.2f}')\n",
        "print(f'Satndard Deviation: {std_dev_np:.2f}')"
      ],
      "metadata": {
        "colab": {
          "base_uri": "https://localhost:8080/"
        },
        "id": "yhcWDGeNhACK",
        "outputId": "7c007807-6161-4b29-c078-4cbd85212371"
      },
      "execution_count": null,
      "outputs": [
        {
          "output_type": "stream",
          "name": "stdout",
          "text": [
            "Dataset: [94 97 50 53 53 89 59 69 71 86]\n",
            "Variance: 330.99\n",
            "Satndard Deviation: 18.19\n"
          ]
        }
      ]
    },
    {
      "cell_type": "markdown",
      "source": [
        "#### Ques23.Visualize skewness and kurtosis using Python libraries like matplotlib or seaborn.\n"
      ],
      "metadata": {
        "id": "qzPkxeW7cBIu"
      }
    },
    {
      "cell_type": "code",
      "source": [
        "import numpy as np\n",
        "import seaborn as sns\n",
        "import matplotlib.pyplot as plt\n",
        "from scipy.stats import skew, kurtosis\n",
        "\n",
        "# positively skewed data (Exponential Distribution)\n",
        "data = np.random.exponential(scale=2, size=1000)\n",
        "\n",
        "# Calculate skewness and kurtosis\n",
        "skewness = skew(data)\n",
        "kurt = kurtosis(data)\n",
        "\n",
        "# Plot histogram with KDE\n",
        "plt.figure(figsize=(10, 6))\n",
        "sns.histplot(data, kde=True, color='skyblue', bins=30)\n",
        "plt.title(f\"Skewness = {skewness:.2f}, Kurtosis = {kurt:.2f}\")\n",
        "plt.xlabel(\"Values\")\n",
        "plt.ylabel(\"Frequency\")\n",
        "plt.grid(True)\n",
        "plt.show()\n"
      ],
      "metadata": {
        "colab": {
          "base_uri": "https://localhost:8080/",
          "height": 432
        },
        "id": "r6I7c8tocF5f",
        "outputId": "6101ad06-0f8b-4dfe-8d82-09f81151d70d"
      },
      "execution_count": null,
      "outputs": [
        {
          "output_type": "display_data",
          "data": {
            "text/plain": [
              "<Figure size 1000x600 with 1 Axes>"
            ],
            "image/png": "[encoded data removed]"
          },
          "metadata": {}
        }
      ]
    },
    {
      "cell_type": "markdown",
      "source": [
        "#### Ques24.Implement the Pearson and Spearman correlation coefficients for a dataset."
      ],
      "metadata": {
        "id": "tggKDmF4cZq4"
      }
    },
    {
      "cell_type": "code",
      "source": [
        "from scipy.stats import pearsonr, spearmanr\n",
        "\n",
        "# Create a sample dataset\n",
        "data = {\n",
        "    'X': [10, 20, 30, 40, 50],\n",
        "    'Y': [12, 24, 33, 45, 58]\n",
        "}\n",
        "\n",
        "df = pd.DataFrame(data)\n",
        "\n",
        "# Pearson correlation\n",
        "pearson_corr, pearson_p = pearsonr(df['X'], df['Y'])\n",
        "\n",
        "# Spearman correlation\n",
        "spearman_corr, spearman_p = spearmanr(df['X'], df['Y'])\n",
        "\n",
        "# Print the results\n",
        "print(f\"Pearson Correlation Coefficient: {pearson_corr:.2f}, p-value: {pearson_p:.4f}\")\n",
        "print(f\"Spearman Correlation Coefficient: {spearman_corr:.2f}, p-value: {spearman_p:.4f}\")\n"
      ],
      "metadata": {
        "colab": {
          "base_uri": "https://localhost:8080/"
        },
        "id": "B-awQft2g_-r",
        "outputId": "d57bd057-47f9-4e6c-fbbe-2cd6504091f1"
      },
      "execution_count": null,
      "outputs": [
        {
          "output_type": "stream",
          "name": "stdout",
          "text": [
            "Pearson Correlation Coefficient: 1.00, p-value: 0.0001\n",
            "Spearman Correlation Coefficient: 1.00, p-value: 0.0000\n"
          ]
        }
      ]
    },
    {
      "cell_type": "code",
      "source": [],
      "metadata": {
        "id": "CoQ25fARhz3W"
      },
      "execution_count": null,
      "outputs": []
    }
  ]
}