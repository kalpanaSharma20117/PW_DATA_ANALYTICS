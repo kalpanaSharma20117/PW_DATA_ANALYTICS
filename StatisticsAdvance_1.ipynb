{
  "nbformat": 4,
  "nbformat_minor": 0,
  "metadata": {
    "colab": {
      "provenance": [],
      "authorship_tag": "ABX9TyO2IVyr4Oe5DmvAF61eh4S5",
      "include_colab_link": true
    },
    "kernelspec": {
      "name": "python3",
      "display_name": "Python 3"
    },
    "language_info": {
      "name": "python"
    }
  },
  "cells": [
    {
      "cell_type": "markdown",
      "metadata": {
        "id": "view-in-github",
        "colab_type": "text"
      },
      "source": [
        "<a href=\"https://colab.research.google.com/github/kalpanaSharma20117/Python_PW/blob/main/StatisticsAdvance_1.ipynb\" target=\"_parent\"><img src=\"https://colab.research.google.com/assets/colab-badge.svg\" alt=\"Open In Colab\"/></a>"
      ]
    },
    {
      "cell_type": "markdown",
      "source": [
        "## Statistics- Advance Assignment"
      ],
      "metadata": {
        "id": "TyFVkc4idIZX"
      }
    },
    {
      "cell_type": "markdown",
      "source": [
        "#### Ques1. What is a random variable in probability theory?"
      ],
      "metadata": {
        "id": "XKg42we5dPpJ"
      }
    },
    {
      "cell_type": "markdown",
      "source": [
        "Ans. Random variable is a way to assign numbers to the outcomes of a random process.\n",
        "Suppose we toss a fair coin:\n",
        "\n",
        "Outcomes: Heads or Tails\n",
        "\n",
        "Random Variable X:\n",
        "\n",
        "Let X = 1 if it's Heads\n",
        "\n",
        "Let X = 0 if it's Tails\n",
        "\n",
        "Here, X is a random variable that assigns numerical values to each outcome.\n"
      ],
      "metadata": {
        "id": "AuZN57dddabA"
      }
    },
    {
      "cell_type": "markdown",
      "source": [
        "### Ques2. What are the types of random variables?"
      ],
      "metadata": {
        "id": "McNsWZRUeG_z"
      }
    },
    {
      "cell_type": "markdown",
      "source": [
        "Ans. Types of Random Variables:\n",
        "1. Discrete:- Takes countable values\n",
        "example- No of heads in 3 coin tosses(0,1,2,3)\n",
        "2. Continous:- Takes any values in a range\n",
        "example- Height of students(eg. 160.5 cm)"
      ],
      "metadata": {
        "id": "UoBaXRHfeLXP"
      }
    },
    {
      "cell_type": "markdown",
      "source": [
        "### Ques3. What is the difference between discrete and continuous distributions?\n"
      ],
      "metadata": {
        "id": "1yyZEY5-erR7"
      }
    },
    {
      "cell_type": "markdown",
      "source": [
        "Ans. The difference between discrete and continuous distributions lies in the type of values the random variable can take.\n",
        " 1. Discrete Distribution:- Deals with countable outcomes.The variable takes distinct, separate values (often whole numbers).\n",
        " example: Number of heads in 10 coin tosses- {1,2,3,4..10}\n",
        " Number of student in the class.\n",
        " Rolling a die -{1,2,3,4,5,6}  \n",
        " common distribution:-  \n",
        " binomial, poisson\n",
        " 2. Continuous Distribution:-\n",
        " Deals with uncountable, infinite outcomes. Variable can take any value within a range, including decimals.You can't list all values because they are infinite and dense.\n",
        "  Examples: Height of people (like 165.7 cm), Temperature (e.g., 36.6°C).  \n",
        "  Common Distributions:  \n",
        "  Normal distribution, Uniform (continuous)"
      ],
      "metadata": {
        "id": "v5w3oFYGe11g"
      }
    },
    {
      "cell_type": "markdown",
      "source": [
        "### Ques 4. What are probability distribution functions (PDF)?"
      ],
      "metadata": {
        "id": "Cs17aQgigRtl"
      }
    },
    {
      "cell_type": "markdown",
      "source": [
        "Ans. A Probability Distribution Function (PDF) describes how the probabilities are distributed over the values of a continuous random variable.\n",
        " PDF gives the relative likelihood of a continuous random variable taking on a particular value.\n",
        "\n",
        "Since the probability of an exact value in a continuous distribution is 0, we calculate probabilities over an interval, like:  \n",
        "Probability that X is between a and b = Area under the PDF curve from a to b.\n",
        "Key Properties of a PDF:\n",
        "PDF is non-negative:\n",
        "1. PDF is non negative\n",
        "2. Total area under the curve is 1 (represents 100% probability).\n",
        "3. Used with continous variables only(unlike pmf, which is for discrete variables)"
      ],
      "metadata": {
        "id": "T_RWJhPYgX-m"
      }
    },
    {
      "cell_type": "markdown",
      "source": [
        "### Ques5.How do cumulative distribution functions (CDF) differ from probability distribution functions (PDF)?\n",
        "\n"
      ],
      "metadata": {
        "id": "IA_ervwkivZw"
      }
    },
    {
      "cell_type": "markdown",
      "source": [
        "Ans.\n",
        "1. PDF (Probability Density Function):-\n",
        "How likely a value is around a point.\n",
        "shape- often a curve.\n",
        "Type Of variable:- Continuous (PDF only for continuous vars)\n",
        "Total area / final value- Area under PDF = 1\n",
        "2. CDF (Cumulative Distribution Function):\n",
        "The total probability up to a point (cumulative).Always an increasing curve (goes from 0 to 1).\tArea under the curve from the left to that point. Both continuous and discrete\n",
        "Let’s say you have a normal distribution centered at 50.\n",
        "\n",
        "PDF at x=50 tells you how densely packed values are around 50.\n",
        "\n",
        "CDF at x=50 tells you the total probability that a value is less than or equal to 50.\n"
      ],
      "metadata": {
        "id": "PYtx768Iizrw"
      }
    },
    {
      "cell_type": "markdown",
      "source": [
        "### Ques6. What is a discrete uniform distribution?"
      ],
      "metadata": {
        "id": "uj8vutWekNQI"
      }
    },
    {
      "cell_type": "markdown",
      "source": [
        "Ans. A discrete uniform distribution is a type of probability distribution in which all possible outcomes are equally likely. It applies to finite and countable outcomes (i.e., discrete values).\n",
        "There will be Equal probability for each outcome.\n",
        "Real-Life Examples:\n",
        "Tossing a fair coin (Heads or Tails).\n",
        "\n",
        "Drawing a card from a well-shuffled deck.\n",
        "\n",
        "Picking a random student from a group where all are equally likely to be picked."
      ],
      "metadata": {
        "id": "wRLiue51kNMw"
      }
    },
    {
      "cell_type": "markdown",
      "source": [
        "### Ques 7.What are the key properties of a Bernoulli distribution?\n"
      ],
      "metadata": {
        "id": "gH_Iv9RCkM4v"
      }
    },
    {
      "cell_type": "markdown",
      "source": [
        "Ans.  It models a random experiment with only two possible outcomes: success (1) and failure (0).\n",
        "1. Only Two Outcomes:\n",
        "\n",
        "1 (Success) with probability p\n",
        "\n",
        "0 (Failure) with probability 1 - p\n",
        "\n",
        "2. Parameter:\n",
        "\n",
        "p = probability of success\n",
        "\n",
        "The only parameter is p, where 0 ≤ p ≤ 1\n",
        "Suppose a coin is flipped once:\n",
        "\n",
        "If heads = 1 (success), tails = 0 (failure)\n",
        "\n",
        "If the coin is fair P(X=1) = 0.5, P(x= 0)= 0.5"
      ],
      "metadata": {
        "id": "-QMZag48lilP"
      }
    },
    {
      "cell_type": "markdown",
      "source": [
        "### Ques8What is the binomial distribution, and how is it used in probability\n",
        "\n",
        ""
      ],
      "metadata": {
        "id": "QLLWngOBlih3"
      }
    },
    {
      "cell_type": "markdown",
      "source": [
        "Ans. Binomial Distribution is a discrete probability distribution that describes the number of successes in a fixed number of independent trials, each with the same probability of success.  \n",
        "Key Features:\n",
        "Fixed Number of Trials (n)\n",
        "\n",
        "You repeat the experiment n times.\n",
        "\n",
        "Two Outcomes per Trial\n",
        "\n",
        "Each trial results in Success (1) or Failure (0).\n",
        "\n",
        "Constant Probability (p)\n",
        "\n",
        "The probability of success p remains the same for all trials.\n",
        "\n",
        "Independence\n",
        "\n",
        "Each trial is independent of the others."
      ],
      "metadata": {
        "id": "GmEMJnRFmSL_"
      }
    },
    {
      "cell_type": "markdown",
      "source": [
        "### Ques9. What is the Poisson distribution and where is it applied?\n",
        "\n"
      ],
      "metadata": {
        "id": "Tht-11xklied"
      }
    },
    {
      "cell_type": "markdown",
      "source": [
        "Ans. The Poisson Distribution is a discrete probability distribution used to model the number of times an event occurs in a fixed interval of time or space, when the events occur independently and at a constant average rate.  \n",
        "Key Features:\n",
        "Models rare or random events.\n",
        "\n",
        "Defined by λ (lambda) = average rate of occurrence.\n",
        "\n",
        "Events are independent of each other.\n",
        "\n",
        "It applies when the number of trials is large, and probability of success is small.\n",
        "\n",
        "Examples of Poisson Distribution Applications:\n",
        "Number of emails received per hour\n",
        "\n",
        "Calls at a call center in a day\n",
        "\n",
        "Number of accidents at a junction per week\n",
        "\n",
        "Website hits per minute"
      ],
      "metadata": {
        "id": "rTmAjrd9m5Ut"
      }
    },
    {
      "cell_type": "markdown",
      "source": [
        "### Ques. What is a continuous uniform distribution.\n"
      ],
      "metadata": {
        "id": "mNY3kTyMliah"
      }
    },
    {
      "cell_type": "markdown",
      "source": [
        "Ans. A Continuous Uniform Distribution is a probability distribution where all outcomes in a certain range are equally likely. It is the simplest form of continuous probability distribution.  \n",
        "Key Characteristics:\n",
        "Every value between a minimum (a) and maximum (b) is equally likely.\n",
        "\n",
        "The probability density function (PDF) is constant between a and b.\n",
        "\n",
        "Outside the interval\n",
        "[\n",
        "𝑎\n",
        ",\n",
        "𝑏\n",
        "]\n",
        "[a,b], the probability is zero\n",
        "\n"
      ],
      "metadata": {
        "id": "CdcAAuuoliXJ"
      }
    },
    {
      "cell_type": "markdown",
      "source": [
        "### Ques 11. What are the characteristics of a normal distribution"
      ],
      "metadata": {
        "id": "TeUvZDoRoLoG"
      }
    },
    {
      "cell_type": "markdown",
      "source": [
        "Ans. Key Characteristics of Normal Distribution:\n",
        "1. Characteristics of Normal Distribution:The graph is symmetric and has a peak at the mean.\n",
        "\n",
        "It tapers off equally on both sides of the mean.\n",
        "2. Mean = Median = Mode\n",
        "All three measures of central tendency are equal and lie at the center of the distribution.\n",
        "3. Symmetry\n",
        "The curve is perfectly symmetric around the mean.\n",
        "\n",
        "Left and right halves are mirror images.\n",
        "\n",
        "4. Spread is Defined by Standard Deviation:\n",
        "68% of data lies within ±1 standard deviation (σ)\n",
        "\n",
        "95% lies within ±2σ\n",
        "\n",
        "99.7% lies within ±3σ\n",
        "→ This is known as the Empirical Rule or 68-95-99.7 Rule\n",
        "\n",
        "5. Area under the Curve = 1\n",
        "The total probability across the distribution is 1 (or 100%).\n",
        "\n",
        "\n",
        "Real-life Examples:\n",
        "Heights of people\n",
        "\n",
        "IQ scores\n",
        "\n",
        "Blood pressure\n",
        "\n",
        "Errors in measurements\n"
      ],
      "metadata": {
        "id": "4vGhmQIOoSZ9"
      }
    },
    {
      "cell_type": "markdown",
      "source": [
        "### Ques12. What is the standard normal distribution, and why is it important"
      ],
      "metadata": {
        "id": "GHuj34AEliTH"
      }
    },
    {
      "cell_type": "markdown",
      "source": [
        "Ans. A Standard Normal Distribution is a special case of the normal distribution where:\n",
        "\n",
        "The mean (μ) is 0.\n",
        "\n",
        "The standard deviation (σ) is 1.\n",
        "\n",
        "In other words, it's a normal distribution that has been standardized so that its mean is at the center (0) and the spread (dispersion) is measured in terms of standard deviations."
      ],
      "metadata": {
        "id": "ifxoTHOTliM2"
      }
    },
    {
      "cell_type": "markdown",
      "source": [
        "### Ques13.What is the Central Limit Theorem (CLT), and why is it critical in statistics"
      ],
      "metadata": {
        "id": "HTRGfbv0liJg"
      }
    },
    {
      "cell_type": "markdown",
      "source": [
        "Ans.  It explains why the normal distribution (bell curve) is so prevalent in many real-world situations, even if the data itself is not normally distributed.\n",
        "The CLT states that:\n",
        "\n",
        "If you take a large number of random samples from any population with any shape of distribution (whether normal, skewed, etc.),\n",
        "\n",
        "The sampling distribution of the sample mean (or any other statistic, such as sum, proportion) will be approximately normal (bell-shaped), no matter what the shape of the original population distribution is.\n",
        "\n",
        "The larger the sample size, the more the sample means will approximate a normal distribution.\n",
        "\n",
        "The mean of the sampling distribution will be the same as the population mean.\n",
        "\n",
        "The standard deviation of the sampling distribution (called the standard error) will be the population standard deviation divided by the square root of the sample size.\n",
        "\n",
        "Why is the Central Limit Theorem Important?\n",
        "1. Makes Statistical Inference Possible:\n",
        "It helps us calculate confidence intervals, hypothesis tests, and p-values in statistics, assuming normality of the sampling distribution.\n",
        "2. Normal Approximation:\n",
        "Thanks to the CLT, we can approximate the distribution of sample means as normal for sufficiently large samples, even when the population distribution is unknown or skewed."
      ],
      "metadata": {
        "id": "xJPisHoIppG6"
      }
    },
    {
      "cell_type": "markdown",
      "source": [
        "### Ques How does the Central Limit Theorem relate to the normal distribution?\n"
      ],
      "metadata": {
        "id": "bJb2QATcqQs_"
      }
    },
    {
      "cell_type": "markdown",
      "source": [
        "Ans. The Central Limit Theorem (CLT) is deeply related to the normal distribution, as it explains why the normal distribution is so commonly observed in practice, even when the underlying data is not normally distributed.\n",
        "Key Points of the Relationship:\n",
        "1. The CLT states that when you take the mean of many random samples from any population (no matter the distribution of that population), the distribution of those sample means will approach a normal distribution as the sample size becomes large enough.\n",
        "2. The CLT tells us that the sampling distribution of the mean will approximate a normal distribution, regardless of whether the original data is normal or not, provided that:\n",
        "\n",
        "The sample size is sufficiently large (usually, 𝑛 ≥ 30 is considered large enough).\n",
        "The samples are independent."
      ],
      "metadata": {
        "id": "0lIWPuYwqbA_"
      }
    },
    {
      "cell_type": "markdown",
      "source": [
        "### Ques15. What is the application of Z statistics in hypothesis testing."
      ],
      "metadata": {
        "id": "Swfqy8Haq8He"
      }
    },
    {
      "cell_type": "markdown",
      "source": [
        "Ans. The Z statistic (or Z-score) plays a crucial role in hypothesis testing, especially when dealing with large samples or when the population standard deviation is known. It helps determine how many standard deviations a data point (or sample statistic) is away from the population mean.\n",
        " Applications in Hypothesis Testing\n",
        " 1. One-sample Z Test\n",
        "Used when: You want to test whether the sample mean is significantly different from the population mean.  \n",
        "You claim that the average height of students is 170 cm. A sample of 100 students has a mean height of 172 cm with known population SD = 10. You can use a Z-test to check if 172 is significantly different from 170.  \n",
        "2.Two-sample Z Test\n",
        "Used when: Comparing two independent sample means to test if there is a significant difference between them.\n",
        "\n",
        "Example: Testing if average salaries of two departments are significantly different using their known population standard deviations."
      ],
      "metadata": {
        "id": "clM2Fb0JrDzn"
      }
    },
    {
      "cell_type": "markdown",
      "source": [
        "### Ques16. How do you calculate a Z-score, and what does it represent?"
      ],
      "metadata": {
        "id": "VPPi3_ItvcUv"
      }
    },
    {
      "cell_type": "markdown",
      "source": [
        "Ans. A Z-score (also called a standard score) tells you how many standard deviations a data point is from the mean of a dataset.\n",
        "so if:\n",
        "Z = 0 → the data point is exactly at the mean\n",
        "\n",
        "Z > 0 → the data point is above the mean\n",
        "\n",
        "Z < 0 → the data point is below the mean\n",
        "\n",
        "Z = +2 → the data point is 2 standard deviations above the mean\n",
        "\n",
        "Z = -1.5 → the data point is 1.5 standard deviations below the mean\n",
        "\n",
        "Why is Z-score Useful?\n",
        "It allows for comparison between values from different distributions\n",
        "\n",
        "Helps detect outliers (e.g., Z > 3 or Z < -3)\n",
        "\n",
        "Used in Z-tests and standard normal distribution\n",
        "\n",
        "Helps in probability calculations using the Z-table"
      ],
      "metadata": {
        "id": "iZKZfGacliGG"
      }
    },
    {
      "cell_type": "markdown",
      "source": [
        "### Ques17.What are point estimates and interval estimates in statistics?\n"
      ],
      "metadata": {
        "id": "37lT_EyEliC_"
      }
    },
    {
      "cell_type": "markdown",
      "source": [
        "Ans. A point estimate is a single value used to estimate an unknown population parameter (like mean or proportion).It's a \"best guess\" based on sample data.Sample mean (𝑥̄) is a point estimate of population mean (μ).\n",
        "\n",
        "2. Interval Estimate (Confidence Interval): An interval estimate gives a range of values (interval) that is likely to contain the population parameter, with a certain level of confidence.A 95% confidence interval for the mean: (68, 72)→ This means we are 95% confident that the true population mean lies between 68 and 72."
      ],
      "metadata": {
        "id": "A-YswKzplh_-"
      }
    },
    {
      "cell_type": "markdown",
      "source": [
        "### Ques18. What is the significance of confidence intervals in statistical analysis?\n"
      ],
      "metadata": {
        "id": "G1EnqVYhlh9f"
      }
    },
    {
      "cell_type": "markdown",
      "source": [
        "Ans. A confidence interval (CI) is a range of values, derived from sample data, that is likely to contain the true population parameter (like mean or proportion) with a specified level of confidence (e.g., 95%).\n",
        "Why Are Confidence Intervals Important?\n",
        "1.  Estimates the Population Parameter\n",
        "2.  Accounts for Uncertainty: onfidence intervals express the uncertainty in estimates due to sampling variability.\n",
        "3. Helps in Decision-Making:E.g., If the CI for average exam scores lies entirely above the passing score, we might conclude most students passed.\n",
        "\n",
        "Confidence intervals add context to point estimates.\n",
        "\n",
        "They are essential for understanding reliability, guiding research, and interpreting real-world results with caution."
      ],
      "metadata": {
        "id": "fU-Qb4r6lh6o"
      }
    },
    {
      "cell_type": "markdown",
      "source": [
        "### Ques 19. What is the relationship between a Z-score and a confidence interval?\n"
      ],
      "metadata": {
        "id": "QizgHUlNlh3H"
      }
    },
    {
      "cell_type": "markdown",
      "source": [
        "Ans. A Z-score tells us how many standard deviations a data point is from the mean. A confidence interval provides a range around a sample mean that is likely to contain the population mean with a specified confidence level (e.g., 90%, 95%, 99%).\n",
        "\n",
        "The Z-score sets the width of the confidence interval.\n",
        "\n",
        "Higher confidence levels → larger Z-scores → wider intervals (more uncertainty).\n",
        "\n",
        "Z and CI are mathematically tied through sampling distribution theory."
      ],
      "metadata": {
        "id": "MxjtxdL2lhz3"
      }
    },
    {
      "cell_type": "markdown",
      "source": [
        "### Ques20.  How are Z-scores used to compare different distributions?"
      ],
      "metadata": {
        "id": "Rs1Jafo8lhv_"
      }
    },
    {
      "cell_type": "markdown",
      "source": [
        "Ans. A Z-score (or standard score) tells us how far a data point is from the mean, measured in units of standard deviation.\n",
        "Different datasets might have different units, scales, or variability, making direct comparison unfair or meaningless.\n",
        " Z-scores standardize values across distributions by transforming them to the same scale.\n",
        " Test A: Mean = 50, SD = 10, your score = 65  \n",
        " Test B: Mean = 80, SD = 5, your score = 88  \n",
        " Z score for Test A::   \n",
        " Z = (65-50)/ 10 = 1.5\n",
        "\n",
        " Z-score for Test B::\n",
        " Z = (88-80)/ 5 = 1.6\n",
        "\n",
        " Even though 88 looks better than 65, the Z-score tells you that you did relatively better on Test B.\n",
        "\n",
        " Z-scores allow comparison of values from different distributions.A higher Z-score means the value is further above the mean.  \n",
        " Negative Z-score = below the mean, Positive Z-score = above the mean."
      ],
      "metadata": {
        "id": "8G0xeB9Flhsq"
      }
    },
    {
      "cell_type": "markdown",
      "source": [
        "### Ques 21.What are the assumptions for applying the Central Limit Theorem?"
      ],
      "metadata": {
        "id": "j04pAUvVlhpB"
      }
    },
    {
      "cell_type": "markdown",
      "source": [
        "Ans.\n",
        "1. Independence of Observations:\n",
        "Each data point in the sample must be independent of others.\n",
        "No one value should influence another.\n",
        "2.Random Sampling :The data should be collected using random sampling or random assignment to ensure fairness and reduce bias.\n",
        "3. Sample Size:\n",
        "Should br large, n >=30 is considered enough.If the population is highly skewed or non-normal, you might need a larger sample.\n",
        "If the population is normally distributed, even a small sample can suffice.  \n",
        "Without these, the resulting sampling distribution may not converge to a normal distribution, and statistical tests based on the normality assumption (like z-tests or t-tests) may not be valid."
      ],
      "metadata": {
        "id": "qtkFu91olhl5"
      }
    },
    {
      "cell_type": "markdown",
      "source": [
        "### Ques22. What is the concept of expected value in a probability distribution?"
      ],
      "metadata": {
        "id": "ltkKy6-SlhiV"
      }
    },
    {
      "cell_type": "markdown",
      "source": [
        "Ans. The expected value (often denoted as E[X]) is the average or mean value you would expect over a long number of trials of a random experiment.\n",
        "\n",
        "It represents the center of a probability distribution — a weighted average of all possible values that a random variable can take.\n",
        "Suppose a die is rolled. The expected value is:E[X]= 1/6 .(1+2+3+4+5+6)=3.5\n",
        "This doesn't mean you'll roll a 3.5 — but if you roll the die many times, your average result will tend toward 3.5.\n",
        "\n",
        "The expected value tells you what to expect \"on average\" if the experiment is repeated many times."
      ],
      "metadata": {
        "id": "ia4dhqXolheH"
      }
    },
    {
      "cell_type": "markdown",
      "source": [
        "### Ques23.How does a probability distribution relate to the expected outcome of a random variable?\n"
      ],
      "metadata": {
        "id": "UcwRYBc4lhZh"
      }
    },
    {
      "cell_type": "markdown",
      "source": [
        "Ans. A probability distribution tells us how likely each outcome of a random variable is. The distribution defines the behavior of a random variable\n",
        "The expected outcome (or expected value) is the average result we would get if we repeated the experiment many times — and it's calculated using the probabilities from that distribution.\n",
        "\n",
        "The random variable takes on different possible values (like 0, 1, 2, …).\n",
        "\n",
        "The probability distribution assigns a probability to each of these values.\n",
        "\n",
        "The expected value is the weighted average of these values, using their probabilities."
      ],
      "metadata": {
        "id": "8e3TykOklhE9"
      }
    }
  ]
}