{
  "nbformat": 4,
  "nbformat_minor": 0,
  "metadata": {
    "colab": {
      "provenance": [],
      "mount_file_id": "19GDsqoue5LlX0XSCWNsGpetZAwwSvch4",
      "authorship_tag": "ABX9TyPS3T6OsBXZljQ8fXmNNifC",
      "include_colab_link": true
    },
    "kernelspec": {
      "name": "python3",
      "display_name": "Python 3"
    },
    "language_info": {
      "name": "python"
    }
  },
  "cells": [
    {
      "cell_type": "markdown",
      "metadata": {
        "id": "view-in-github",
        "colab_type": "text"
      },
      "source": [
        "<a href=\"https://colab.research.google.com/github/kalpanaSharma20117/Python_PW/blob/main/Files%2C_Exception_handling_%2Cmemory_management.ipynb\" target=\"_parent\"><img src=\"https://colab.research.google.com/assets/colab-badge.svg\" alt=\"Open In Colab\"/></a>"
      ]
    },
    {
      "cell_type": "markdown",
      "source": [
        "#Assignment - Files, exceptional handling, logging and memory management  \n"
      ],
      "metadata": {
        "id": "smAf2b5D1y6w"
      }
    },
    {
      "cell_type": "markdown",
      "source": [
        "#### Ques1.What is the difference between interpreted and compiled languages?\n",
        "Ans.The difference between interpreted and compiled languages lies in how the code is executed by the computer.\n",
        "#####  Interpreted Language:\n",
        "The code is read and executed line by line by an interpreter.Slower execution since it's interpreted at runtime.It is easier to debug and test small pieces of code.Examples: Python, JavaScript, PHP, Ruby.\n",
        "\n",
        "##### Compiled Language:\n",
        "The entire code is translated into machine code (binary) by a compiler before execution.Faster execution since it's already compiled.Harder to debug if there are many compile-time errors.C, C++, Java, Python\n",
        "\n",
        "When you run a Python program:\n",
        "##### Compilation Step (Hidden from the user):\n",
        "Python first compiles your .py file into bytecode (not machine code).\n",
        "This bytecode is stored as .pyc files (often in a __pycache__ folder).\n",
        "##### Interpretation Step:\n",
        "The Python interpreter (Python Virtual Machine - PVM) then executes the bytecode line by line.\n",
        "\n"
      ],
      "metadata": {
        "id": "L2l_f185Ovhp"
      }
    },
    {
      "cell_type": "markdown",
      "source": [
        "#### Q2.What is the purpose of the finally block in exception handling.\n",
        "Ans.\n",
        "The finally block in Python's exception handling is used to define cleanup actions that must be executed no matter what happens — whether an exception is raised or not.\n",
        "\n"
      ],
      "metadata": {
        "id": "HHXDCLt-Rygo"
      }
    },
    {
      "cell_type": "code",
      "source": [
        "try:\n",
        "    file = open(\"data.txt\", \"r\")\n",
        "    # Some code that might raise an exception\n",
        "    data = file.read()\n",
        "except FileNotFoundError:\n",
        "    print(\"File not found.\")\n",
        "finally:\n",
        "    file.close()\n",
        "    print(\"File closed successfully.\")"
      ],
      "metadata": {
        "colab": {
          "base_uri": "https://localhost:8080/"
        },
        "id": "wBPo1mwYRxu6",
        "outputId": "ea3df56c-d7e2-4226-fef5-7eac755dbbe6"
      },
      "execution_count": 29,
      "outputs": [
        {
          "output_type": "stream",
          "name": "stdout",
          "text": [
            "File not found.\n",
            "File closed successfully.\n"
          ]
        }
      ]
    },
    {
      "cell_type": "markdown",
      "source": [
        "#### Ques3.What is logging in Python?\n",
        "Ans. Logging in Python is the process of recording events that happen while your program runs. These events can be things like errors, warnings, or just information that helps you understand what's going on inside your code.\n",
        "We use logging to:\n",
        "1. To track bugs or errors\n",
        "2. To record important events\n",
        "3. To debug programs more efficiently than using print()\n",
        "4. To keep logs even when the app crashes\n",
        "\n"
      ],
      "metadata": {
        "id": "vdH_B5q9SgB0"
      }
    },
    {
      "cell_type": "markdown",
      "source": [
        "#### Ques4.What is the significance of the __del__ method in Python?\n",
        "Ans. Used to clean up resources (like closing files, releasing memory, disconnecting from a server, etc.) when an object is no longer in use."
      ],
      "metadata": {
        "id": "hKQ8LBC5TEt5"
      }
    },
    {
      "cell_type": "code",
      "source": [
        "class Person:\n",
        "  def __init__(self, name):\n",
        "    self.name = name\n",
        "    print(name)\n",
        "  def __del__(self):\n",
        "    print(f\"Destructor called for {self.name}\")\n",
        "\n",
        "p = Person(\"Kalpana\")\n",
        "del p"
      ],
      "metadata": {
        "colab": {
          "base_uri": "https://localhost:8080/"
        },
        "id": "GJ4lRQEOTXJD",
        "outputId": "43cc59e7-955c-4359-a23b-71b9b6854b19"
      },
      "execution_count": 30,
      "outputs": [
        {
          "output_type": "stream",
          "name": "stdout",
          "text": [
            "Kalpana\n",
            "Destructor called for Kalpana\n"
          ]
        }
      ]
    },
    {
      "cell_type": "markdown",
      "source": [
        "#### Ques5.What is the difference between import and from ... import in Python.\n",
        "Ans.\n",
        "Import Module>> Imports the entire module, for ex. import math , then acces it like math.sqrt(16)\n",
        "from module import name>> Imports specific function , class , or variable from a module. For example, from math import sqrt , access it like sqrt(16)\n"
      ],
      "metadata": {
        "id": "C1uOxuZBTtXI"
      }
    },
    {
      "cell_type": "markdown",
      "source": [
        "#### Ques6. How can you handle multiple exceptions in Python.\n",
        "Ans. we can catch exceptions from try-catch block,\n",
        "1. Catch all Exception as e>>This catches any error but should be used only when you need general handling.\n",
        "2. Multiple except block>>You handle different exception seperately.\n",
        "\n"
      ],
      "metadata": {
        "id": "aCy-dd_RTtyH"
      }
    },
    {
      "cell_type": "code",
      "source": [
        "try:\n",
        "  x =int(\"abc\")\n",
        "except ValueError:\n",
        "  print(\"Caught a ValueError\")\n",
        "\n",
        "try:\n",
        "   y = 10/0\n",
        "except ZeroDivisionError:\n",
        "  print(\"Caught a ZeroDivisionError !\")"
      ],
      "metadata": {
        "colab": {
          "base_uri": "https://localhost:8080/"
        },
        "id": "UJHiOuQEVMWs",
        "outputId": "cdfcb899-b5c2-413f-a54a-0127ae6952eb"
      },
      "execution_count": 34,
      "outputs": [
        {
          "output_type": "stream",
          "name": "stdout",
          "text": [
            "Caught a ValueError\n",
            "Caught a ZeroDivisionError !\n"
          ]
        }
      ]
    },
    {
      "cell_type": "markdown",
      "source": [
        "#### Ques7. What is exception handling in Python.\n",
        "Ans. An exception is an error that occurs when your code runs into something unexpected like: Dividing by zero, accessing a missing file, using an undefined variable.\n",
        "Exception handling in Python is a way to gracefully manage errors that occur during the execution of your code, so your program doesn’t crash unexpectedly.\n",
        "We use Exception handling to Avoid Program crashes.\n",
        "To display meaningful error messages.\n",
        "Take alternative actions when things go wrong.\n",
        "Basic Syntax is :"
      ],
      "metadata": {
        "id": "lI22AE-RVrT-"
      }
    },
    {
      "cell_type": "code",
      "source": [
        "try:\n",
        "    # Code that might raise an error\n",
        "    x = 10 / 0\n",
        "except ZeroDivisionError:\n",
        "    # Code to run if there’s an error\n",
        "    print(\"Can't divide by zero!\")\n"
      ],
      "metadata": {
        "colab": {
          "base_uri": "https://localhost:8080/"
        },
        "id": "OZFvFPDaWrrV",
        "outputId": "4bd9fc8e-c776-468e-be81-349aaaa3679b"
      },
      "execution_count": 35,
      "outputs": [
        {
          "output_type": "stream",
          "name": "stdout",
          "text": [
            "Can't divide by zero!\n"
          ]
        }
      ]
    },
    {
      "cell_type": "markdown",
      "source": [
        "#### Ques8. What is the purpose of the with statement when handling files in Python?\n",
        "Ans. The \"with\" statement in python is used to handle file operations safely and efficiently. It automatically takes care of opening an closing the file, even if an exception occurs during the file operations.\n",
        "\n"
      ],
      "metadata": {
        "id": "1cVi7w8VWt8-"
      }
    },
    {
      "cell_type": "code",
      "source": [
        "with open(\"example.txt\", \"r\") as file:\n",
        "    content = file.read()\n",
        "    print(content)"
      ],
      "metadata": {
        "id": "Ne8B5dThYWX-"
      },
      "execution_count": 36,
      "outputs": []
    },
    {
      "cell_type": "markdown",
      "source": [
        "#### Ques9. What is the difference between multithreading and multiprocessing?\n",
        "Ans. The Difference is how they handle tasks comcurrently.\n",
        "1. Multithreading:\n",
        "Uses Multiple threads in single process.\n",
        "Threads share the same memory space.\n",
        "Good for I/O-bound tasks (eg. file I/O, web requests)\n",
        "Not effective for CPU-bound tasks due to Global Interpreter Lock (GUI) in CPython.\n",
        "Example use-case: Downloading multiple web pages at once\n",
        "\n",
        "2. Multiprocessing:\n",
        "Uses multiple processes, each with its own memory space.\n",
        "Processes run independently, better for CPU-bound tasks (like calculations).\n",
        "Bypasses the GIL, so it can fully utilize multiple CPU cores.\n",
        "Example use-case: Performing heavy data processing in parallel\n"
      ],
      "metadata": {
        "id": "gSQiZu4YYcfv"
      }
    },
    {
      "cell_type": "markdown",
      "source": [
        "#### Ques10. What are the advantages of using logging in a program.\n",
        "Ans.\n",
        "There are amny advantages:\n",
        "1. Can Categorize message by importance:\n",
        "for ex. DEBUG, INFO, WARNING, ERROR, CRITICAL.\n",
        "2.Output to Files\n",
        "We can sends logs to a file, not just the screen.\n",
        "logging.basicConfig(filename = \"app.log\", level = logging.INFO)\n",
        "3.We can get important Timestamps:\n",
        "we can get Timestamps, filename, line number, error level\n",
        "4. Rotate or Archieve Logs\n",
        "using logging and handlers like RotatingFileHandler, you can rotate logs automatically when they get too big."
      ],
      "metadata": {
        "id": "mhxLp7U-cFnY"
      }
    },
    {
      "cell_type": "markdown",
      "source": [
        "#### Ques11.What is memory management in Python.\n",
        "Ans. Memory Management in Python refers to how Python handles the allocation, use and release of memory during program execution- Automatically and efficiently.Python uses garbage collection to free memory no longer used.It finds objects with no references and deletes them.\n",
        "Python calls this destructor method when an object is about to be destroyed .--del--\n",
        "Allows Efficient memory allocation with PyMalloc\n",
        "\n"
      ],
      "metadata": {
        "id": "YiZ4u8UedWGu"
      }
    },
    {
      "cell_type": "markdown",
      "source": [
        "#### Ques 12.What are the basic steps involved in exception handling in Python?\n",
        "Ans.\n",
        "1. try Block>> yu write the code that might cause an exception inside a try block.\n",
        "2. except Block>>If an exception occurs in the try block, Python will jump to the matching except block.\n",
        "3. else Block(optional)>>Code inside else runs only if no exception occurred in the try block.\n",
        "4. Finally Block(optional)>>Code inside finally always runs, whether an exception occurred or not. Useful for cleanup tasks like closing files.\n",
        "\n",
        "\n"
      ],
      "metadata": {
        "id": "3VFfhZMgoLAA"
      }
    },
    {
      "cell_type": "code",
      "source": [
        "try:\n",
        "  num = int(input(\"Enter a Number: \"))\n",
        "  result = 10/num\n",
        "except ZeroDivisionError:\n",
        "  print(\"Cannot divide by Zero!\")\n",
        "else:\n",
        "  print(\"Result:\", result)\n",
        "finally:\n",
        "  print(\"Done with exceution\")"
      ],
      "metadata": {
        "colab": {
          "base_uri": "https://localhost:8080/"
        },
        "id": "mlXNGqNUwPyJ",
        "outputId": "283f33c2-f6b8-4229-9ae5-5b14d0a36245"
      },
      "execution_count": 41,
      "outputs": [
        {
          "output_type": "stream",
          "name": "stdout",
          "text": [
            "Enter a Number: 0\n",
            "Cannot divide by Zero!\n",
            "Done with exceution\n"
          ]
        }
      ]
    },
    {
      "cell_type": "markdown",
      "source": [
        "#### Ques 13.Why is memory management important in Python.\n",
        "Ans.\n",
        "1. Python manages memory automatically, but poor memory usage can still lead to slowdowns or crashes (especially with large data or long-running processes).\n",
        "2. Avoid Memory Leaks\n",
        "If memory isn’t released after it's used, your program may keep using more and more memory, leading to a memory leak.\n",
        "Python uses a Garbage Collector to free unused memory.\n",
        "3. Handle Large Applications Smoothly\n",
        "Web apps, data science programs, and games often deal with lots of data.\n",
        "Good memory management helps these apps stay fast and stable\n",
        "4. Improve Performance\n",
        "Keeping memory usage minimal = better speed, less lag, and fewer crashes.\n"
      ],
      "metadata": {
        "id": "TeicGZ6Dw2ly"
      }
    },
    {
      "cell_type": "markdown",
      "source": [
        "#### Ques14. What is the role of try and except in exception handling.\n",
        "Ans.1. try Block>> yu write the code that might cause an exception inside a try block.\n",
        "2. except Block>>If an exception occurs in the try block, Python will jump to the matching except block.\n",
        "\n"
      ],
      "metadata": {
        "id": "jRUJAoqDxq5m"
      }
    },
    {
      "cell_type": "code",
      "source": [
        "try:\n",
        "    num = int(input(\"Enter a number: \"))\n",
        "    result = 10 / num\n",
        "    print(\"Result:\", result)\n",
        "except ZeroDivisionError:\n",
        "    print(\"Cannot divide by zero!\")\n",
        "except ValueError:\n",
        "    print(\"Please enter a valid number!\")\n"
      ],
      "metadata": {
        "colab": {
          "base_uri": "https://localhost:8080/"
        },
        "id": "AdxkwBQJx6zF",
        "outputId": "92d28bfb-4e57-4b4d-dfe7-f48409fa35e0"
      },
      "execution_count": 42,
      "outputs": [
        {
          "output_type": "stream",
          "name": "stdout",
          "text": [
            "Enter a number: \"6\"\n",
            "Please enter a valid number!\n"
          ]
        }
      ]
    },
    {
      "cell_type": "markdown",
      "source": [
        "#### Ques15. How does Python's garbage collection system works?\n",
        "Ans.Python’s garbage collection system is responsible for automatically managing memory by freeing up memory that’s no longer being used—so you don’t have to manually delete unused variables or objects.\n",
        "1. reference counting>>\n",
        "Every object in python has a reference count- the number of times it is being used.\n",
        "When this counts drop to zero, Python knows it acn safely delete the object from memory.\n",
        "2. Garbage Collector>>Circular-references>>\n",
        "Sometimes two or more objects reference each other, creating a circular reference.Reference counting alone can't clean this up.Python’s garbage collector (in the gc module) periodically detects and clears these circular references.\n"
      ],
      "metadata": {
        "id": "tkBgISKUyAKC"
      }
    },
    {
      "cell_type": "code",
      "source": [
        "import gc\n",
        "\n",
        "class Node:\n",
        "    def __init__(self):\n",
        "        self.next = None\n",
        "\n",
        "a = Node()\n",
        "b = Node()\n",
        "a.next = b\n",
        "b.next = a  # Circular reference\n",
        "\n",
        "del a\n",
        "del b       # Reference count doesn't drop to 0 due to circular reference\n",
        "\n",
        "gc.collect()  # Now the garbage collector clears the memory\n"
      ],
      "metadata": {
        "colab": {
          "base_uri": "https://localhost:8080/"
        },
        "id": "k2lZhCbey6kC",
        "outputId": "7bbf93ad-5c7f-4e45-8fd4-2b4d80458c54"
      },
      "execution_count": 43,
      "outputs": [
        {
          "output_type": "execute_result",
          "data": {
            "text/plain": [
              "227"
            ]
          },
          "metadata": {},
          "execution_count": 43
        }
      ]
    },
    {
      "cell_type": "markdown",
      "source": [
        "#### Ques16.What is the purpose of the else block in exception handling.\n",
        "Ans. In Python, the else block in exception handling is used to define a block of code that should run only if no exception occurs in the try block.\n",
        "It keeps code clean and readable by separating the “what to do when things go right” from “what to do when things go wrong.”It runs only if the try block does not raise an exception.\n",
        "\n"
      ],
      "metadata": {
        "id": "qOEfTsSdy-Wr"
      }
    },
    {
      "cell_type": "markdown",
      "source": [
        "#### Ques17.What are the common logging levels in Python.\n",
        "Ans.In Python, the logging module provides five standard logging levels, each representing the severity of events you want to log.\n",
        "for ex.\n",
        "1. DEBUG>> Detailed information, typically for diagnosing problems during development.\n",
        "2. INFO>> \tConfirmation that things are working as expected.\n",
        "3. WARNING>> An indication that something unexpected happened, but the program is still running.\n",
        "4. ERROR>> A more serious problem that has caused part of the program to fail.\n",
        "5. CRITICAL>> A very serious error—indicating the program itself may not be able to continue running."
      ],
      "metadata": {
        "id": "4avM8AK61M2u"
      }
    },
    {
      "cell_type": "code",
      "source": [
        "import logging\n",
        "\n",
        "logging.basicConfig(level=logging.DEBUG)\n",
        "\n",
        "logging.debug(\"This is a DEBUG message\")\n",
        "logging.info(\"This is an INFO message\")\n",
        "logging.warning(\"This is a WARNING message\")\n",
        "logging.error(\"This is an ERROR message\")\n",
        "logging.critical(\"This is a CRITICAL message\")\n"
      ],
      "metadata": {
        "id": "5d3Nqghl2DgF"
      },
      "execution_count": 44,
      "outputs": []
    },
    {
      "cell_type": "markdown",
      "source": [
        "#### Ques18.What is the difference between os.fork() and multiprocessing in Python.\n",
        "Ans. Multiprocessing[module] >> High-level interface for creating and managing processes. Cross-platform (works on both Windows and Unix)."
      ],
      "metadata": {
        "id": "WzumsgL82IBI"
      }
    },
    {
      "cell_type": "code",
      "source": [
        "from multiprocessing import Process\n",
        "\n",
        "def task():\n",
        "    print(\"Child process\")\n",
        "\n",
        "p = Process(target=task)\n",
        "p.start()\n",
        "p.join()\n",
        "print(\"Parent process\")\n"
      ],
      "metadata": {
        "id": "Y6l8xXpc3KkW"
      },
      "execution_count": null,
      "outputs": []
    },
    {
      "cell_type": "markdown",
      "source": [
        "2. os.fork()>> Creates a child process by duplicating the current process (only on Unix/Linux).not available on Windows.Lower-level and more manual. You have to handle process management yourself.\n"
      ],
      "metadata": {
        "id": "3nc0sEBp3Leq"
      }
    },
    {
      "cell_type": "markdown",
      "source": [
        "#### Ques19. What is the importance of closing a file in Python?\n",
        "Ans.\n",
        "1. When you write to a file, Python might temporarily store (buffer) the data before actually writing it.\n",
        "Closing the file ensures that all data is written (flushed) from the buffer to the file.\n",
        "2. If a program crashes or ends before a file is closed, the file might be left in a corrupted or incomplete state.\n",
        "3. Some operating systems lock files when they are open.\n",
        "Closing the file lets other programs or parts of your code access it without conflict.\n",
        "\n",
        "\n"
      ],
      "metadata": {
        "id": "sExAMQ3Q3g79"
      }
    },
    {
      "cell_type": "markdown",
      "source": [
        "#### Ques20. What is the difference between file.read() and file.readline() in Python.\n",
        "Ans.\n",
        "1.  file.read()\n",
        "Reads the entire file content at once as a single string.\n",
        "You can optionally pass a number to read only that many characters.\n",
        "Best for small files.\n",
        "2. file.readline()\n",
        "Reads one line at a time from the file.Each call to .readline() gives the next line.\n",
        "Useful when processing large files line-by-line.\n"
      ],
      "metadata": {
        "id": "GUFVDK8-4QIG"
      }
    },
    {
      "cell_type": "markdown",
      "source": [
        "#### Ques21.What is the logging module in Python used for?\n",
        "Ans. The logging module in Python is used to record messages that describe events happening in a program. It's especially helpful for debugging , error tracking and auditing what code is doing at different stages.\n",
        "* Purpose of the logging module:\n",
        "1. Track events (info, warning, errors, etc.)\n",
        "2. Record errors instead of crashing the program.\n",
        "3. Help debug problems by keeping a record.\n"
      ],
      "metadata": {
        "id": "MSePSvR55Hjb"
      }
    },
    {
      "cell_type": "markdown",
      "source": [
        "#### Ques22. What is the os module in Python used for in file handling.\n",
        "Ans.\n",
        "The os module in Python is used for interacting with the operating system. In file handling, it provides a set of functions to work with files and directories — things like checking if a file exists, renaming or deleting files, creating folders, etc.\n",
        "* Common uses of os module in file handling:\n",
        "1. os.path.exists(path)\n",
        "2. os.remove(path)\n",
        "3. os.rename(old, new)\n",
        "4. os.mkdir(path)>>Creates a new directory\n",
        "\n"
      ],
      "metadata": {
        "id": "fDb5ZMI_6Fqc"
      }
    },
    {
      "cell_type": "markdown",
      "source": [
        "#### Ques23.What are the challenges associated with memory management in Python.\n",
        "Ans. Python handles memory automatically using garbage collection and reference counting, but there are still a few challenges developers face:\n",
        "1. Reference Cycles\n",
        "2. Memory Leaks\n",
        "3. Large Objects Stay in Memory\n",
        "4. Global Interpreter Lock (GIL)\n",
        "* Tips to Handle These Challenges:\n",
        "1. Use del to delete large objects when no longer needed.\n",
        "2. Use tools like gc module.\n",
        "3. Avoid circular reference when possible."
      ],
      "metadata": {
        "id": "Ll9x78wC6082"
      }
    },
    {
      "cell_type": "markdown",
      "source": [
        "#### Ques 24.How do you raise an exception manually in Python?\n",
        "Ans. In Python, you can manually raise an exception using the raise statement.\n",
        "This is helpful when you want to signal that something unexpected happened, even if Python doesn’t detect it as an error automatically.\n",
        "raise Exception(\"Something went wrong!\")\n",
        "\n",
        "\n",
        "\n"
      ],
      "metadata": {
        "id": "73Duw0DC8IBM"
      }
    },
    {
      "cell_type": "code",
      "source": [
        "age = -5\n",
        "\n",
        "if age < 0:\n",
        "    raise ValueError(\"Age cannot be negative\")\n"
      ],
      "metadata": {
        "colab": {
          "base_uri": "https://localhost:8080/",
          "height": 176
        },
        "id": "XWESa1CT8n-m",
        "outputId": "1bf69f6b-3352-41e3-d5f3-2a2675391b5b"
      },
      "execution_count": 45,
      "outputs": [
        {
          "output_type": "error",
          "ename": "ValueError",
          "evalue": "Age cannot be negative",
          "traceback": [
            "\u001b[0;31m---------------------------------------------------------------------------\u001b[0m",
            "\u001b[0;31mValueError\u001b[0m                                Traceback (most recent call last)",
            "\u001b[0;32m<ipython-input-45-562e8159480b>\u001b[0m in \u001b[0;36m<cell line: 0>\u001b[0;34m()\u001b[0m\n\u001b[1;32m      2\u001b[0m \u001b[0;34m\u001b[0m\u001b[0m\n\u001b[1;32m      3\u001b[0m \u001b[0;32mif\u001b[0m \u001b[0mage\u001b[0m \u001b[0;34m<\u001b[0m \u001b[0;36m0\u001b[0m\u001b[0;34m:\u001b[0m\u001b[0;34m\u001b[0m\u001b[0;34m\u001b[0m\u001b[0m\n\u001b[0;32m----> 4\u001b[0;31m     \u001b[0;32mraise\u001b[0m \u001b[0mValueError\u001b[0m\u001b[0;34m(\u001b[0m\u001b[0;34m\"Age cannot be negative\"\u001b[0m\u001b[0;34m)\u001b[0m\u001b[0;34m\u001b[0m\u001b[0;34m\u001b[0m\u001b[0m\n\u001b[0m",
            "\u001b[0;31mValueError\u001b[0m: Age cannot be negative"
          ]
        }
      ]
    },
    {
      "cell_type": "markdown",
      "source": [
        "#### Ques25. Why is it important to use multithreading in certain applications?\n",
        "Ans. Multithreading allows a program to perform multiple operations at the same time, which can significantly improve performance and responsiveness in certain scenarios.\n",
        "1. Improves Application Responsiveness\n",
        "Example: A text editor that saves your file while you keep typing.\n",
        "\n",
        "2. Efficient Resource Utilization\n",
        "Threads share the same memory space, making it lightweight and faster to switch between.Ideal for I/O-bound tasks (like file operations, network calls).\n",
        "\n",
        "3. Concurrency\n",
        "Enables concurrent execution of code, improving the flow of complex tasks.\n",
        "Useful in apps like web servers, where many users are served at once.\n",
        "\n",
        "Example use cases:\n",
        " 1. Downloading files in the background\n",
        " 2. Real-time messaging/chat apps\n",
        " 3. Handling multiple user requests on a server"
      ],
      "metadata": {
        "id": "eE8aF2288shx"
      }
    },
    {
      "cell_type": "markdown",
      "source": [
        "#Practical Questions"
      ],
      "metadata": {
        "id": "bcNKyVtF123f"
      }
    },
    {
      "cell_type": "markdown",
      "source": [
        "#### Q1.How can you open a file for writing in Python and write a string to it.\n"
      ],
      "metadata": {
        "id": "dFgQzF6X17-P"
      }
    },
    {
      "cell_type": "code",
      "source": [
        "file = open(\"files.txt\", \"w\")\n",
        "file.write(\"Hello Teachers, I'm Loving this course till now...\")\n",
        "file.close()"
      ],
      "metadata": {
        "id": "XurjaNEF2FDN"
      },
      "execution_count": 1,
      "outputs": []
    },
    {
      "cell_type": "markdown",
      "source": [
        "#### Q2.Write a Python program to read the contents of a file and print each line.\n"
      ],
      "metadata": {
        "id": "SsYGLPjP2o6A"
      }
    },
    {
      "cell_type": "code",
      "execution_count": 2,
      "metadata": {
        "colab": {
          "base_uri": "https://localhost:8080/"
        },
        "id": "LBtm_y2-1hFD",
        "outputId": "e8db03c5-ae9d-4912-c56e-cf47972dc63d"
      },
      "outputs": [
        {
          "output_type": "stream",
          "name": "stdout",
          "text": [
            "[\"Hello Teachers, I'm Loving this course till now...\"]\n"
          ]
        }
      ],
      "source": [
        "with open(\"files.txt\", \"r\") as file:\n",
        "  line = file.readlines()\n",
        "  print(line)\n"
      ]
    },
    {
      "cell_type": "markdown",
      "source": [
        "#### Q3.How would you handle a case where the file doesn't exist while trying to open it for reading.\n"
      ],
      "metadata": {
        "id": "PL4pXA6q3VtX"
      }
    },
    {
      "cell_type": "code",
      "source": [
        "try:\n",
        "  with open(\"kalpana.txt\", \"r\") as file:\n",
        "    line =file.read()\n",
        "    print(line)\n",
        "except Exception as e :\n",
        "  print(\"There're some issue opening file\", e)"
      ],
      "metadata": {
        "colab": {
          "base_uri": "https://localhost:8080/"
        },
        "id": "ql6duD0o3cbc",
        "outputId": "a1650c4a-3998-4aa4-f723-feaa5b5ec268"
      },
      "execution_count": 3,
      "outputs": [
        {
          "output_type": "stream",
          "name": "stdout",
          "text": [
            "Hello Teachers, I'm Loving this course till now...\n"
          ]
        }
      ]
    },
    {
      "cell_type": "code",
      "source": [
        "try:\n",
        "  with open(\"kalpana1.txt\", \"r\") as file:\n",
        "    line =file.read()\n",
        "    print(line)\n",
        "except FileNotFoundError:\n",
        "  print(\"The file does not exist, Please recheck the filename or file path\")"
      ],
      "metadata": {
        "colab": {
          "base_uri": "https://localhost:8080/"
        },
        "id": "mkUFxT5R3Kuw",
        "outputId": "4c42eeb3-aed7-4076-acad-56303919a555"
      },
      "execution_count": 4,
      "outputs": [
        {
          "output_type": "stream",
          "name": "stdout",
          "text": [
            "The file does not exist, Please recheck the filename or file path\n"
          ]
        }
      ]
    },
    {
      "cell_type": "markdown",
      "source": [
        "#### Q4.Write a Python script that reads from one file and writes its content to another file.\n"
      ],
      "metadata": {
        "id": "GIIhy5tJ43b4"
      }
    },
    {
      "cell_type": "code",
      "source": [
        "with open(\"files.txt\", \"r\") as files:\n",
        "  content = files.read()\n",
        "\n",
        "with open(\"kalpana.txt\", \"w\")as dest_file:\n",
        "  dest_file.write(content)"
      ],
      "metadata": {
        "id": "LNZ1C_5v4_OE"
      },
      "execution_count": 5,
      "outputs": []
    },
    {
      "cell_type": "markdown",
      "source": [
        "#### Q5.How would you catch and handle division by zero error in Python.\n",
        "\n"
      ],
      "metadata": {
        "id": "grQx3gje65wB"
      }
    },
    {
      "cell_type": "code",
      "source": [
        "try:\n",
        "  10/0\n",
        "\n",
        "except ZeroDivisionError as e:\n",
        "  print(\"Your denominator is 0, dividing by 0 is not possible\")\n",
        "  print(\"Taking 1 as default denominator, Answer will be: \", 10/1)"
      ],
      "metadata": {
        "colab": {
          "base_uri": "https://localhost:8080/"
        },
        "id": "mGzU0un96_8l",
        "outputId": "585859b3-9f6d-47a6-9e4d-6e21e90143a2"
      },
      "execution_count": 6,
      "outputs": [
        {
          "output_type": "stream",
          "name": "stdout",
          "text": [
            "Your denominator is 0, dividing by 0 is not possible\n",
            "Taking 1 as default denominator, Answer will be:  10.0\n"
          ]
        }
      ]
    },
    {
      "cell_type": "markdown",
      "source": [
        "#### Q6.Write a Python program that logs an error message to a log file when a division by zero exception occurs\n"
      ],
      "metadata": {
        "id": "Rf9Kr5557kDf"
      }
    },
    {
      "cell_type": "code",
      "source": [
        "from google.colab import drive\n",
        "drive.mount('/content/drive')\n"
      ],
      "metadata": {
        "colab": {
          "base_uri": "https://localhost:8080/"
        },
        "id": "mKTIoaVsuRoH",
        "outputId": "5b74269c-f083-428c-9812-74c948b92376"
      },
      "execution_count": 7,
      "outputs": [
        {
          "output_type": "stream",
          "name": "stdout",
          "text": [
            "Drive already mounted at /content/drive; to attempt to forcibly remount, call drive.mount(\"/content/drive\", force_remount=True).\n"
          ]
        }
      ]
    },
    {
      "cell_type": "code",
      "source": [
        "import logging\n",
        "\n",
        "log_path = '/content/drive/MyDrive/MyLogs/my_log_file.log'\n",
        "\n",
        "logging.basicConfig(\n",
        "    filename=log_path,\n",
        "    level=logging.INFO,\n",
        "    format='%(asctime)s - %(levelname)s - %(message)s'\n",
        ")\n",
        "\n",
        "# Log something\n",
        "logging.info(\"This is an info log saved to Google Drive!\")\n"
      ],
      "metadata": {
        "id": "yCD-T0uhupHZ"
      },
      "execution_count": 8,
      "outputs": []
    },
    {
      "cell_type": "code",
      "source": [
        "filename = \"/content/error_log2.log\"\n",
        "import logging\n",
        "import os\n",
        "\n",
        "logging.basicConfig(\n",
        "    filename='error_log.log',\n",
        "    level=logging.ERROR,\n",
        "    format='%(asctime)s - %(levelname)s - %(message)s',\n",
        "    filemode='w'\n",
        ")\n",
        "\n",
        "try:\n",
        "    10 / 0\n",
        "except Exception as e:\n",
        "    logging.error(\"There was an error: %s\", e)\n",
        "    print(\"Error caught. Log should be written.\")\n"
      ],
      "metadata": {
        "colab": {
          "base_uri": "https://localhost:8080/"
        },
        "id": "ev7a4H_QBCJh",
        "outputId": "bd777237-da68-48c1-9dc7-d32d760b9918"
      },
      "execution_count": 9,
      "outputs": [
        {
          "output_type": "stream",
          "name": "stderr",
          "text": [
            "ERROR:root:There was an error: division by zero\n"
          ]
        },
        {
          "output_type": "stream",
          "name": "stdout",
          "text": [
            "Error caught. Log should be written.\n"
          ]
        }
      ]
    },
    {
      "cell_type": "markdown",
      "source": [
        "#### Q7.How do you log information at different levels (INFO, ERROR, WARNING) in Python using the logging module.\n",
        "\n"
      ],
      "metadata": {
        "id": "kPTqWmDCB3g9"
      }
    },
    {
      "cell_type": "code",
      "source": [
        "import logging\n",
        "\n",
        "#configure logging with filename, level and format\n",
        "logging.basicConfig(\n",
        "    filename= \"/content/error_log.log\",\n",
        "    level = logging.DEBUG,\n",
        "    format = '%(asctime)s - %(levelname)s - %(message)s'\n",
        ")\n",
        "\n",
        "#levels of logging\n",
        "logging.debug(\"This is a DEBUG message\")\n",
        "logging.info(\"This is an INFO message\")\n",
        "logging.warning(\"This is a WARNING message\")\n",
        "logging.error(\"This is an ERROR message\")\n",
        "logging.critical(\"This is a CRITICAL message\")"
      ],
      "metadata": {
        "id": "Akkb76R5CBMl",
        "colab": {
          "base_uri": "https://localhost:8080/"
        },
        "outputId": "e9c94ac3-2ddf-4d03-f91f-cabb65fefe51"
      },
      "execution_count": 10,
      "outputs": [
        {
          "output_type": "stream",
          "name": "stderr",
          "text": [
            "WARNING:root:This is a WARNING message\n",
            "ERROR:root:This is an ERROR message\n",
            "CRITICAL:root:This is a CRITICAL message\n"
          ]
        }
      ]
    },
    {
      "cell_type": "markdown",
      "source": [
        "#### Q8.Write a program to handle a file opening error using exception handling.\n"
      ],
      "metadata": {
        "id": "D0567TIwEIqx"
      }
    },
    {
      "cell_type": "code",
      "source": [
        "with open(\"PWskills.txt\", \"r\") as p:\n",
        "  content = p.read()\n"
      ],
      "metadata": {
        "colab": {
          "base_uri": "https://localhost:8080/",
          "height": 158
        },
        "id": "7c61_euaEPRX",
        "outputId": "55ccd5d3-c88a-4187-8e86-91902972daed"
      },
      "execution_count": 11,
      "outputs": [
        {
          "output_type": "error",
          "ename": "FileNotFoundError",
          "evalue": "[Errno 2] No such file or directory: 'PWskills.txt'",
          "traceback": [
            "\u001b[0;31m---------------------------------------------------------------------------\u001b[0m",
            "\u001b[0;31mFileNotFoundError\u001b[0m                         Traceback (most recent call last)",
            "\u001b[0;32m<ipython-input-11-bbc9b5694e7e>\u001b[0m in \u001b[0;36m<cell line: 0>\u001b[0;34m()\u001b[0m\n\u001b[0;32m----> 1\u001b[0;31m \u001b[0;32mwith\u001b[0m \u001b[0mopen\u001b[0m\u001b[0;34m(\u001b[0m\u001b[0;34m\"PWskills.txt\"\u001b[0m\u001b[0;34m,\u001b[0m \u001b[0;34m\"r\"\u001b[0m\u001b[0;34m)\u001b[0m \u001b[0;32mas\u001b[0m \u001b[0mp\u001b[0m\u001b[0;34m:\u001b[0m\u001b[0;34m\u001b[0m\u001b[0;34m\u001b[0m\u001b[0m\n\u001b[0m\u001b[1;32m      2\u001b[0m   \u001b[0mcontent\u001b[0m \u001b[0;34m=\u001b[0m \u001b[0mp\u001b[0m\u001b[0;34m.\u001b[0m\u001b[0mread\u001b[0m\u001b[0;34m(\u001b[0m\u001b[0;34m)\u001b[0m\u001b[0;34m\u001b[0m\u001b[0;34m\u001b[0m\u001b[0m\n",
            "\u001b[0;31mFileNotFoundError\u001b[0m: [Errno 2] No such file or directory: 'PWskills.txt'"
          ]
        }
      ]
    },
    {
      "cell_type": "code",
      "source": [
        "#from abpve code, we can see that file is not there, it doesn't exist, so let's handle this\n",
        "try:\n",
        "  with open(\"PWskills.txt\", \"r\") as p:\n",
        "   content = p.read()\n",
        "except FileNotFoundError :\n",
        "  print(\"File not Found. Please check file name or path\")\n"
      ],
      "metadata": {
        "colab": {
          "base_uri": "https://localhost:8080/"
        },
        "id": "2cJlbyUbEjM-",
        "outputId": "806f1168-9bc0-4fa9-be22-2f7de7f93371"
      },
      "execution_count": 12,
      "outputs": [
        {
          "output_type": "stream",
          "name": "stdout",
          "text": [
            "File not Found. Please check file name or path\n"
          ]
        }
      ]
    },
    {
      "cell_type": "markdown",
      "source": [
        "#### Q9.How can you read a file line by line and store its content in a list in Python.\n"
      ],
      "metadata": {
        "id": "AS-NSJ6SFIE-"
      }
    },
    {
      "cell_type": "code",
      "source": [
        "with open(\"Question9.txt\",\"w\") as file:\n",
        "  file.write(\"Hello Everyone...\\n\")\n",
        "  file.write(\"Good Evening...\\n\")\n",
        "  file.write(\"Have a Nice Day !\\n\")\n",
        "  file.close()\n",
        "\n"
      ],
      "metadata": {
        "id": "MgsorEMWFOXt"
      },
      "execution_count": 13,
      "outputs": []
    },
    {
      "cell_type": "code",
      "source": [
        "lines_example= []\n",
        "\n",
        "with open(\"Question9.txt\", \"r\") as file:\n",
        "    lines = file.readlines()\n",
        "\n",
        "print(lines)\n",
        "lines_example.append(lines)\n"
      ],
      "metadata": {
        "colab": {
          "base_uri": "https://localhost:8080/"
        },
        "id": "sfR24QrzEcrn",
        "outputId": "730e0fea-0797-484c-db9b-c8cd4f2e49fc"
      },
      "execution_count": 14,
      "outputs": [
        {
          "output_type": "stream",
          "name": "stdout",
          "text": [
            "['Hello Everyone...\\n', 'Good Evening...\\n', 'Have a Nice Day !\\n']\n"
          ]
        }
      ]
    },
    {
      "cell_type": "markdown",
      "source": [
        "#### Q10.How can you append data to an existing file in Python"
      ],
      "metadata": {
        "id": "uTsQ5o80HPqN"
      }
    },
    {
      "cell_type": "code",
      "source": [
        "with open(\"Question9.txt\", \"a\") as file:\n",
        "    file.write(\"This is a new line.\\n\")\n"
      ],
      "metadata": {
        "id": "6UxR-yPvHatl"
      },
      "execution_count": 15,
      "outputs": []
    },
    {
      "cell_type": "markdown",
      "source": [
        "#### Q11.Write a Python program that uses a try-except block to handle an error when attempting to access a dictionary key that doesn't exist"
      ],
      "metadata": {
        "id": "m7U79oDPhd5b"
      }
    },
    {
      "cell_type": "code",
      "source": [
        "dictionary = {\"name\" : \"Kalpana\", \"Age\": \"23\"}\n",
        "try:\n",
        "  print(dictionary[\"course\"])\n",
        "except KeyError as e:\n",
        "  print(f\"KeyError : The key {e} does not exist in the dictionary\")\n"
      ],
      "metadata": {
        "colab": {
          "base_uri": "https://localhost:8080/"
        },
        "id": "SQyuy0a_hrG9",
        "outputId": "60326639-a64f-42c7-9b1d-5efeac24304a"
      },
      "execution_count": 16,
      "outputs": [
        {
          "output_type": "stream",
          "name": "stdout",
          "text": [
            "KeyError : The key 'course' does not exist in the dictionary\n"
          ]
        }
      ]
    },
    {
      "cell_type": "markdown",
      "source": [
        "#### Q12. Write a program that demonstrates using multiple except blocks to handle different types of exceptions.\n"
      ],
      "metadata": {
        "id": "ERz23TPcjG9L"
      }
    },
    {
      "cell_type": "code",
      "source": [
        "try:\n",
        "  num = int(input(\"Enter a number: \"))\n",
        "  result = 10/num\n",
        "  print(\"Result is :\", result)\n",
        "except ZeroDivisionError:\n",
        "  print(\"ZeroDivision Error: You can't divide by zero\")\n",
        "except ValueError:\n",
        "  print(\"Please Enter a Valid Integer\")"
      ],
      "metadata": {
        "colab": {
          "base_uri": "https://localhost:8080/"
        },
        "id": "vnXFK4TxhdYF",
        "outputId": "5f8b34cd-48d8-4409-c961-6a26d184014b"
      },
      "execution_count": 17,
      "outputs": [
        {
          "output_type": "stream",
          "name": "stdout",
          "text": [
            "Enter a number: 0\n",
            "ZeroDivision Error: You can't divide by zero\n"
          ]
        }
      ]
    },
    {
      "cell_type": "markdown",
      "source": [
        "#### Q13.How would you check if a file exists before attempting to read it in Python.\n"
      ],
      "metadata": {
        "id": "jtU1UUu_kRjc"
      }
    },
    {
      "cell_type": "code",
      "source": [
        "import os\n"
      ],
      "metadata": {
        "id": "Ne9jSi9jkV90"
      },
      "execution_count": 18,
      "outputs": []
    },
    {
      "cell_type": "code",
      "source": [
        "file_path = \"Example.txt\"\n",
        "\n",
        "if os.path.exists(file_path):\n",
        "  with open(file_path, \"r\") as file:\n",
        "    content = file.read()\n",
        "    print(\"File content :\", content)\n",
        "else:\n",
        "  print(\"File path doesn't exists\")"
      ],
      "metadata": {
        "id": "XDXByD1wGdlt",
        "colab": {
          "base_uri": "https://localhost:8080/"
        },
        "outputId": "3d5a9985-4e60-46c3-8757-f7a60f77ff54"
      },
      "execution_count": 19,
      "outputs": [
        {
          "output_type": "stream",
          "name": "stdout",
          "text": [
            "File path doesn't exists\n"
          ]
        }
      ]
    },
    {
      "cell_type": "markdown",
      "source": [
        "#### Q14.Write a program that uses the logging module to log both informational and error messages.\n"
      ],
      "metadata": {
        "id": "fsfP-8-DlO4V"
      }
    },
    {
      "cell_type": "code",
      "source": [
        "import logging\n",
        "\n",
        "#basicConfig.\n",
        "logging.basicConfig(\n",
        "    filename = \"/content/error_log3.log\",\n",
        "    level = logging.DEBUG,\n",
        "    format = '%(asctime)s - %(levelname)s - %(message)s'\n",
        ")\n",
        "def divide(a, b):\n",
        "  logging.info(f\"Trying to divide {a} by {b}\")\n",
        "  try:\n",
        "    result = a/b\n",
        "    logging.info(f\"Division successful\")\n",
        "    return result\n",
        "  except ZeroDivisionError as e:\n",
        "    logging.error(\"This is error message, solve error according to it\")\n",
        "    return\n",
        "\n",
        "divide(10, 5)\n",
        "divide(15, 0)"
      ],
      "metadata": {
        "colab": {
          "base_uri": "https://localhost:8080/"
        },
        "id": "om4t51AtlV73",
        "outputId": "518b8f66-2499-4f8e-9a8f-0fc39648d902"
      },
      "execution_count": 21,
      "outputs": [
        {
          "output_type": "stream",
          "name": "stderr",
          "text": [
            "ERROR:root:This is error message, solve error according to it\n"
          ]
        }
      ]
    },
    {
      "cell_type": "markdown",
      "source": [
        "#### Q15.Write a Python program that prints the content of a file and handles the case when the file is empty.\n"
      ],
      "metadata": {
        "id": "ogQY8XNHlOyL"
      }
    },
    {
      "cell_type": "code",
      "source": [
        "with open(\"Question15.txt\", \"w\") as file:\n",
        "  file.close()\n"
      ],
      "metadata": {
        "id": "5hdbRhzLk-x2"
      },
      "execution_count": 23,
      "outputs": []
    },
    {
      "cell_type": "code",
      "source": [
        "try:\n",
        "  with open(\"Question15.txt\", \"r\") as file:\n",
        "    content = file.read()\n",
        "    if content.strip() == \"\":\n",
        "      print(\"File is Empty\")\n",
        "    else:\n",
        "      print(\"File content: \", content)\n",
        "except FileNotFoundError as e:\n",
        "  print(f\"Error : The file doesn't exist\")\n",
        "except Exception as e:\n",
        "  print(\"Error Occured: \", e)\n",
        "\n"
      ],
      "metadata": {
        "colab": {
          "base_uri": "https://localhost:8080/"
        },
        "id": "EB2iG5TMxwxi",
        "outputId": "fc2bf241-2c2c-4c18-c928-7db659f68f1c"
      },
      "execution_count": 24,
      "outputs": [
        {
          "output_type": "stream",
          "name": "stdout",
          "text": [
            "File is Empty\n"
          ]
        }
      ]
    },
    {
      "cell_type": "markdown",
      "source": [
        "#### Q16.Demonstrate how to use memory profiling to check the memory usage of a small program.\n"
      ],
      "metadata": {
        "id": "h8KcF6_OzS1K"
      }
    },
    {
      "cell_type": "code",
      "source": [
        "!pip install memory-profiler\n"
      ],
      "metadata": {
        "colab": {
          "base_uri": "https://localhost:8080/"
        },
        "id": "oCrgBtgSzA6-",
        "outputId": "fad00094-738d-4ad2-904a-c28ecde76c47"
      },
      "execution_count": 25,
      "outputs": [
        {
          "output_type": "stream",
          "name": "stdout",
          "text": [
            "Collecting memory-profiler\n",
            "  Downloading memory_profiler-0.61.0-py3-none-any.whl.metadata (20 kB)\n",
            "Requirement already satisfied: psutil in /usr/local/lib/python3.11/dist-packages (from memory-profiler) (5.9.5)\n",
            "Downloading memory_profiler-0.61.0-py3-none-any.whl (31 kB)\n",
            "Installing collected packages: memory-profiler\n",
            "Successfully installed memory-profiler-0.61.0\n"
          ]
        }
      ]
    },
    {
      "cell_type": "code",
      "source": [
        "from memory_profiler import memory_usage\n",
        "\n",
        "def Square():\n",
        "  a = [i for i in range(1000)]\n",
        "  b = [i**2 for i in a ]\n",
        "\n",
        "mem_usage = memory_usage(Square)\n",
        "print(f\"Memory usage: {mem_usage} MB\")"
      ],
      "metadata": {
        "colab": {
          "base_uri": "https://localhost:8080/"
        },
        "id": "Yuy4Hn_-zxG6",
        "outputId": "3233b129-beb7-406d-9c77-e7cbb29515b0"
      },
      "execution_count": 26,
      "outputs": [
        {
          "output_type": "stream",
          "name": "stdout",
          "text": [
            "Memory usage: [278.19921875, 278.19921875, 278.19921875] MB\n"
          ]
        }
      ]
    },
    {
      "cell_type": "markdown",
      "source": [
        "#### Q17. Write a Python program to create and write a list of numbers to a file, one number per line.\n"
      ],
      "metadata": {
        "id": "O3GfKR5M0Wnw"
      }
    },
    {
      "cell_type": "code",
      "source": [
        "num = [3,4,5,6,77,8]\n",
        "with open(\"Question17.txt\", \"w\") as file:\n",
        "  for i in num:\n",
        "    file.write(str(i) + \"\\n\")#argument must be string when using file.write>> convert it to string\n",
        "\n",
        "print(\"Numbers written to file successfully\")"
      ],
      "metadata": {
        "colab": {
          "base_uri": "https://localhost:8080/"
        },
        "id": "nwHdAtpL0SOj",
        "outputId": "c239eb0f-3b3b-4093-a2fa-cd432f92680a"
      },
      "execution_count": 27,
      "outputs": [
        {
          "output_type": "stream",
          "name": "stdout",
          "text": [
            "Numbers written to file successfully\n"
          ]
        }
      ]
    },
    {
      "cell_type": "markdown",
      "source": [
        "#### Q18. How would you implement a basic logging setup that logs to a file with rotation after 1Mb.\n",
        "\n"
      ],
      "metadata": {
        "id": "lYVy1tKS1d4I"
      }
    },
    {
      "cell_type": "code",
      "source": [
        "import logging\n",
        "from logging.handlers import RotatingFileHandler\n",
        "\n",
        "logger = logging.getLogger(\"MyLogger\")\n",
        "logger.setLevel(logging.DEBUG)\n",
        "\n",
        "\n",
        "# Creating a rotating file handler (1MB = 1 * 1024 * 1024 bytes)\n",
        "handler = RotatingFileHandler(\"rotated_log.log\" , maxBytes =1 * 1024 *1024, backupCount = 3 )\n",
        "\n",
        "# Creating a formatter and attach to handler\n",
        "formatter = logging.Formatter('%(asctime)s - %(levelname)s - %(message)s')\n",
        "handler.setFormatter(formatter)\n",
        "\n",
        "logger.addHandler(handler)\n",
        "\n",
        "for i in range(10):\n",
        "    logger.debug(f\"This is log message number {i}\")\n",
        "\n"
      ],
      "metadata": {
        "colab": {
          "base_uri": "https://localhost:8080/"
        },
        "id": "iI_tRjns1maG",
        "outputId": "b3081deb-1e15-42ae-d47f-d27c8af411c9"
      },
      "execution_count": 4,
      "outputs": [
        {
          "output_type": "stream",
          "name": "stderr",
          "text": [
            "DEBUG:MyLogger:This is log message number 0\n",
            "DEBUG:MyLogger:This is log message number 1\n",
            "DEBUG:MyLogger:This is log message number 2\n",
            "DEBUG:MyLogger:This is log message number 3\n",
            "DEBUG:MyLogger:This is log message number 4\n",
            "DEBUG:MyLogger:This is log message number 5\n",
            "DEBUG:MyLogger:This is log message number 6\n",
            "DEBUG:MyLogger:This is log message number 7\n",
            "DEBUG:MyLogger:This is log message number 8\n",
            "DEBUG:MyLogger:This is log message number 9\n"
          ]
        }
      ]
    },
    {
      "cell_type": "markdown",
      "source": [
        "#### Q19. Write a program that handles both IndexError and KeyError using a try-except block.\n"
      ],
      "metadata": {
        "id": "0c9SXtPH9-4S"
      }
    },
    {
      "cell_type": "code",
      "source": [
        "l = [1,2,3]\n",
        "dictionary = {\"Name\": \"Kalpana\"}\n",
        "\n",
        "try:\n",
        "  print(l[4])\n",
        "except IndexError as e:\n",
        "  print(\"There's no such index in your list\")\n",
        "except Exception as e:\n",
        "  print(\"There's some exception\", e)\n",
        "\n",
        "try:\n",
        "  print(dictionary[\"Age\"])\n",
        "except KeyError:\n",
        "  print(\"Thre's no such key in your dictionary\")\n",
        "except Exception as e:\n",
        "  print(\"There's some exception\", e)"
      ],
      "metadata": {
        "colab": {
          "base_uri": "https://localhost:8080/"
        },
        "id": "Jcb3_9A6-JM_",
        "outputId": "1491ec52-b559-43c3-f34b-41851f9118c3"
      },
      "execution_count": 7,
      "outputs": [
        {
          "output_type": "stream",
          "name": "stdout",
          "text": [
            "There's no such index in your list\n",
            "Thre's no such key in your dictionary\n"
          ]
        }
      ]
    },
    {
      "cell_type": "markdown",
      "source": [
        "#### Q20.How would you open a file and read its contents using a context manager in Python\n"
      ],
      "metadata": {
        "id": "P1gEz00wAMr_"
      }
    },
    {
      "cell_type": "code",
      "source": [
        "file_name = 'Kalpana.txt'\n",
        "\n",
        "with open(\"kalpana.txt\", \"r\") as file:\n",
        "  content = file.read()\n",
        "  print(\"File Content: \\n\", content)"
      ],
      "metadata": {
        "colab": {
          "base_uri": "https://localhost:8080/"
        },
        "id": "Yu6aMsH--apN",
        "outputId": "1e4a3333-dad5-4b93-b26a-1d906c2c4b6e"
      },
      "execution_count": 8,
      "outputs": [
        {
          "output_type": "stream",
          "name": "stdout",
          "text": [
            "File Content: \n",
            " Hello Teachers, I'm Loving this course till now...\n"
          ]
        }
      ]
    },
    {
      "cell_type": "markdown",
      "source": [
        "#### Q21.Write a Python program that reads a file and prints the number of occurrences of a specific word.\n"
      ],
      "metadata": {
        "id": "-imDIjPHCS4D"
      }
    },
    {
      "cell_type": "code",
      "source": [
        "with open(\"Question21.txt\", \"w\") as file:\n",
        "  file.write('''My name is Kalpana. Kalpana means Imagination. Imagination is something that's not reality but you can definetely turn it into one.Therefore, name kalpana have a deep meaning.''')\n",
        "search_word = \"kalpana\""
      ],
      "metadata": {
        "id": "b_7HnPchCWoF"
      },
      "execution_count": 12,
      "outputs": []
    },
    {
      "cell_type": "code",
      "source": [
        "try:\n",
        "  with open(\"Question21.txt\", \"r\") as file:\n",
        "    content = file.read()\n",
        "    word_count = content.lower().count(search_word)\n",
        "    print(f\"The word {search_word} occured {word_count} times in the file.\")\n",
        "except FileNotFoundError:\n",
        "    print(f\"The file '{file_name}' was not found.\")"
      ],
      "metadata": {
        "colab": {
          "base_uri": "https://localhost:8080/"
        },
        "id": "mHbleOu9795B",
        "outputId": "d23bc666-e198-4cad-ca51-7cb5c094a72f"
      },
      "execution_count": 14,
      "outputs": [
        {
          "output_type": "stream",
          "name": "stdout",
          "text": [
            "The word kalpana occured 3 times in the file.\n"
          ]
        }
      ]
    },
    {
      "cell_type": "markdown",
      "source": [
        "#### Q22. How can you check if a file is empty before attempting to read its contents.\n",
        ""
      ],
      "metadata": {
        "id": "RgJWDC8xFL5R"
      }
    },
    {
      "cell_type": "code",
      "source": [
        "import os\n",
        "file_name = \"Question15.txt\"\n",
        "#file ya directory ka status/metadata return karta hai — jaise uski size, creation time, last modified time\n",
        "\n",
        "if os.stat(file_name).st_size == 0:\n",
        "  print(\"The File is Empty.\")\n",
        "else:\n",
        "  with open(file_name, \"r\") as file:\n",
        "    content = file.read()\n",
        "    print(\"File Content: \\n \", content)"
      ],
      "metadata": {
        "colab": {
          "base_uri": "https://localhost:8080/"
        },
        "id": "IqvqECAtFTGk",
        "outputId": "4326ba92-15cf-42b5-e496-68d20865cba9"
      },
      "execution_count": 15,
      "outputs": [
        {
          "output_type": "stream",
          "name": "stdout",
          "text": [
            "The File is Empty.\n"
          ]
        }
      ]
    },
    {
      "cell_type": "markdown",
      "source": [
        "#### Q23.Write a Python program that writes to a log file when an error occurs during file handling.\n"
      ],
      "metadata": {
        "id": "m_L8aPutIoQi"
      }
    },
    {
      "cell_type": "code",
      "source": [
        "import logging\n",
        "\n",
        "if logging.getLogger().hasHandlers():\n",
        "    logging.getLogger().handlers.clear()\n",
        "\n",
        "\n",
        "log_path = '/content/drive/MyDrive/q23_log.log'\n",
        "\n",
        "logging.basicConfig(\n",
        "    filename = log_path,\n",
        "    level = logging.DEBUG,\n",
        "    format = '%(asctime)s - %(levelname)s - %(message)s'\n",
        ")\n",
        "\n",
        "file_name = 'non_existent_file.txt'\n",
        "\n",
        "try:\n",
        "    with open(file_name, \"r\") as file:\n",
        "        content = file.read()\n",
        "        print(content)\n",
        "except FileNotFoundError:\n",
        "    logging.error(f\"File not found: {file_name}\")\n",
        "    print(\"Error Occurred, Check log file for details\")\n",
        "except Exception as e:\n",
        "    logging.error(f\"An error occurred: {str(e)}\")\n",
        "    print(\"Some other error occurred\")\n"
      ],
      "metadata": {
        "colab": {
          "base_uri": "https://localhost:8080/"
        },
        "id": "4NliCWpQI6-v",
        "outputId": "471163eb-bc84-4831-f4c4-0b526f15b995"
      },
      "execution_count": 38,
      "outputs": [
        {
          "output_type": "stream",
          "name": "stdout",
          "text": [
            "Error Occurred, Check log file for details\n"
          ]
        }
      ]
    }
  ]
}