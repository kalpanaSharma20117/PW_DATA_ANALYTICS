{
  "nbformat": 4,
  "nbformat_minor": 0,
  "metadata": {
    "colab": {
      "provenance": [],
      "authorship_tag": "ABX9TyNf2n9N6IupaksZXzjy/2/N",
      "include_colab_link": true
    },
    "kernelspec": {
      "name": "python3",
      "display_name": "Python 3"
    },
    "language_info": {
      "name": "python"
    }
  },
  "cells": [
    {
      "cell_type": "markdown",
      "metadata": {
        "id": "view-in-github",
        "colab_type": "text"
      },
      "source": [
        "<a href=\"https://colab.research.google.com/github/kalpanaSharma20117/Python_Basics/blob/main/Python_Basics.ipynb\" target=\"_parent\"><img src=\"https://colab.research.google.com/assets/colab-badge.svg\" alt=\"Open In Colab\"/></a>"
      ]
    },
    {
      "cell_type": "markdown",
      "source": [
        "# Assignment- Python Basics\n",
        "\n",
        "## Ques1.What is Python, and why is it popular?\n",
        "Ans.Python is a high-level, interpreted programming language known for its simplicity and readability. It is popular because:\n",
        "1.Easy to learn\n",
        "2.Versatile\n",
        "3.Huge library support\n",
        "4.Cross Platform- works on multiple operating system like OS and Mac.\n",
        "\n",
        "## Ques2.What is an interpreter in Python?\n",
        "Ans.An interpreter in Python is a program that exectues code line by line instead of compiling it all at once.\n",
        "Python uses the interpreter to translate and run the code.\n",
        "\n",
        "## Ques3.What are pre-defined keywords in Python?\n",
        "Ans.Pre-defined keywords are reserved words that have special meanings and can't be used as variable names.\n",
        "examples are:\n",
        "1.control flow: if, else, elif, for, continue, break, while\n",
        "2.Data types: str, tuple, dict, set, float\n",
        "3. Function-related: def, return, yield, lambda\n",
        "4.and, or, not, is, in\n",
        "\n",
        "## Ques4. Can keywords be used as variable name?\n",
        "Ans.No, keywords can't be used as variable name as they have special meanings in python.\n",
        "\n",
        "## Ques5.What is Mutability in Python?\n",
        "Ans.Mutability refers to whether an object's value can be changed after it is created.\n",
        "Mutable objects are those which can be modified after creation.\n",
        "for example: list, dict, set\n",
        "Immutable objects are those which can't be modified after creation.\n",
        "for example: tuple, str, int\n",
        "\n",
        "## Ques6.Why are lists mutable, but tuples are immutable?\n",
        "Ans.Lists are mutable because they are designed to store dynamic data, and their elements can be changed.\n",
        "Tuples are immutable because they are often used for fixed data and prevent accidental modifications, making them more memory-efficient.\n",
        "\n",
        "## Ques7.What is the difference between “==” and “is” operators in Python?\n",
        "Ans. \" == \"(Equality Operator): Checks if values of two objects are the same.\n",
        "\"is\" (Identity Operator): Checks if two objects refer to the same memory location\n",
        "a = [1, 2, 3]\n",
        "b = [1, 2, 3]\n",
        "c = a\n",
        "\n",
        "print(a == b)  #True (Values are the same)\n",
        "print(a is b)  #False (Different memory locations)\n",
        "print(a is c)  #True (Same memory location)\n",
        "\n",
        "## Ques8.What are logical operators in Python?\n",
        "Ans.Logical operators are used to perform Boolean logic operations.\n",
        "\"and\": Returns \"True\" if both conditions are True\n",
        "\"or\" :Returns \"True\" if at least one condition is true.\n",
        "\"not\" : Returns \"True\" if the condition is \"False\".\n",
        "\n",
        "## Ques9.What is Type Casting in Python?\n",
        "Ans. Type casting is converting one data type into another.\n",
        "Types of Type Casting:\n",
        "1.Implicit Casting:(Automatic Conversion\n",
        "by Python)\n",
        "2.Explicit Casting(Manual Conversion by the programmer)\n",
        "Type casting is useful when handling user input, which is always a string by deault.\n",
        "\n",
        "## Ques10.What is the purpose of conditional statements in Python.\n",
        "Ans. Conditional statements allow Python to make decisions and execute different code based on conditions.\n",
        "Conditional Statement:\n",
        "if, else, elif\n",
        "\n",
        "## Ques11.What is the difference between implicit and explicit type casting.\n",
        "Ans.Type casting refers to converting one data type into another.\n",
        "There are two types of type casting.\n",
        "Implicit Casting: Python automatically converts a smaller data type to a larger one(eg. int to float)\n",
        "Explicit Casting: The programmer manually converts data from one type to another using functions like int(), float(), str().\n",
        "\n",
        "## Ques12.What is the differnce between for and while loops.\n",
        "Ans.There are two loops offered by Python, that are for and while loop.\n",
        "for loop: used when we know how many times to iterate.\n",
        "Iterating over a list, range, dictionary.\n",
        "while loop: Used when we do not know how many times to iterate (runs until a condition becomes False).\n",
        "for ex.\n",
        "for i in range(5):\n",
        "    print(i)\n",
        "\n",
        "x = 0\n",
        "while x < 5:  # Runs until x reaches 5\n",
        "    print(x)\n",
        "    x += 1\n",
        "\n",
        "## Ques13.Describe a scenario where a while loop is more suitable than a for loop.\n",
        "Ans. A while loop is better when the number of iterations is unknown in advance.\n",
        "for example:\n",
        "correct_password = \"Kalpana@123\"\n",
        "attempt = 0\n",
        "max_attempts = 3\n",
        "\n",
        "while attemps < max_attempts:\n",
        "     password = input(\"Enter Your Password\")\n",
        "     if password == correct_password:\n",
        "         print(\"Access Granted, You're welcome\")\n",
        "         break\n",
        "     else:\n",
        "         print(\"Incorrect password, try again\")\n",
        "         attempts += 1\n",
        "if attempts == max_attempts:\n",
        "    print(\"Too many failed attempts, Access denied!!\")\n",
        "\n",
        "## Ques14.How does the elif statement work?\n",
        "Ans. The \"elif\" statement is used when multiple conditions need to be checked sequentially.\n",
        "It is a combination of \"if\" and \"else\", meaning:\n",
        "If the \"if\" condition is False, Python checks the \"elif\" condition(s).\n",
        "If an elif condition is True, the corresponding block is executed.\n",
        "If none are true, the else block runs.\n",
        "\n",
        "\n"
      ],
      "metadata": {
        "id": "0dQLA7znvTl5"
      }
    },
    {
      "cell_type": "markdown",
      "source": [
        "# Practical Questions"
      ],
      "metadata": {
        "id": "kRgv1cOm_KdQ"
      }
    },
    {
      "cell_type": "markdown",
      "source": [
        "Q1.Write a Python program to print \"Hello, World!\n"
      ],
      "metadata": {
        "id": "YH1NhYdw_W2g"
      }
    },
    {
      "cell_type": "code",
      "source": [
        "print(\"Hello, World!\")"
      ],
      "metadata": {
        "colab": {
          "base_uri": "https://localhost:8080/"
        },
        "id": "Di8I2gOy_Uqc",
        "outputId": "ca6fbc15-fe9e-47db-8617-05bfc3357801"
      },
      "execution_count": 2,
      "outputs": [
        {
          "output_type": "stream",
          "name": "stdout",
          "text": [
            "Hello, World!\n"
          ]
        }
      ]
    },
    {
      "cell_type": "markdown",
      "source": [
        "Q2. Write a Python program that displays your name and age\n"
      ],
      "metadata": {
        "id": "7X6roRNN_VrV"
      }
    },
    {
      "cell_type": "code",
      "source": [
        "Name = \"Kalpana\"\n",
        "Age = 23\n",
        "print(\"My name is\", Name, \"and I am\", Age, \"years old.\")"
      ],
      "metadata": {
        "colab": {
          "base_uri": "https://localhost:8080/"
        },
        "id": "a0_V64dV_4gs",
        "outputId": "5cabfa9b-de04-4693-8945-4ee2a5a491ac"
      },
      "execution_count": 3,
      "outputs": [
        {
          "output_type": "stream",
          "name": "stdout",
          "text": [
            "My name is Kalpana and I am 23 years old.\n"
          ]
        }
      ]
    },
    {
      "cell_type": "markdown",
      "source": [
        "Q3.Write code to print all the pre-defined keywords in Python using the keyword library\n"
      ],
      "metadata": {
        "id": "4zKSlDn-_6Mq"
      }
    },
    {
      "cell_type": "code",
      "source": [
        "import keyword\n",
        "word = keyword.kwlist\n",
        "print(word)"
      ],
      "metadata": {
        "colab": {
          "base_uri": "https://localhost:8080/"
        },
        "id": "ry3WE1zS_5mD",
        "outputId": "37a5d193-6527-4b0e-c0ba-2ae5f7ffe959"
      },
      "execution_count": 4,
      "outputs": [
        {
          "output_type": "stream",
          "name": "stdout",
          "text": [
            "['False', 'None', 'True', 'and', 'as', 'assert', 'async', 'await', 'break', 'class', 'continue', 'def', 'del', 'elif', 'else', 'except', 'finally', 'for', 'from', 'global', 'if', 'import', 'in', 'is', 'lambda', 'nonlocal', 'not', 'or', 'pass', 'raise', 'return', 'try', 'while', 'with', 'yield']\n"
          ]
        }
      ]
    },
    {
      "cell_type": "markdown",
      "source": [
        "Q4.Check if a Given Word is a Python Keyword\n",
        "\n",
        "\n"
      ],
      "metadata": {
        "id": "xlA45eWm_5Of"
      }
    },
    {
      "cell_type": "code",
      "source": [
        "import keyword\n",
        "\n",
        "word = input(\"Enter a word:\")\n",
        "\n",
        "if keyword.iskeyword(word):\n",
        "    print(f\"{word} is a Python keyword.\")\n",
        "else:\n",
        "    print(f\"{word} is not a Python keyword.\")\n",
        ""
      ],
      "metadata": {
        "id": "5dnFUdEVAwpi"
      },
      "execution_count": null,
      "outputs": []
    },
    {
      "cell_type": "markdown",
      "source": [
        "Q5.Create a list and tuple in Python, and demonstrate how attempting to change an element works differently.\n",
        "\n"
      ],
      "metadata": {
        "id": "RduE2kHkBAYH"
      }
    },
    {
      "cell_type": "code",
      "source": [
        "my_list = [1,2,3]\n",
        "print(\"Original List:\", my_list)\n",
        "my_list[0] = 4\n",
        "print(\"Modified List:\", my_list)\n",
        "\n",
        "my_tuple = (1,2,3)\n",
        "print(\"Original tuple:\", my_tuple)\n",
        "my_tuple[0] = 4\n",
        "print(\"Modified tuple:\", my_tuple)\n"
      ],
      "metadata": {
        "colab": {
          "base_uri": "https://localhost:8080/",
          "height": 245
        },
        "id": "bYS1SnTZBJIB",
        "outputId": "8c8040f8-26ba-4b12-8c5e-2cd2c621f842"
      },
      "execution_count": 5,
      "outputs": [
        {
          "output_type": "stream",
          "name": "stdout",
          "text": [
            "Original List: [1, 2, 3]\n",
            "Modified List: [4, 2, 3]\n",
            "Original tuple: (1, 2, 3)\n"
          ]
        },
        {
          "output_type": "error",
          "ename": "TypeError",
          "evalue": "'tuple' object does not support item assignment",
          "traceback": [
            "\u001b[0;31m---------------------------------------------------------------------------\u001b[0m",
            "\u001b[0;31mTypeError\u001b[0m                                 Traceback (most recent call last)",
            "\u001b[0;32m<ipython-input-5-61ac4487cde9>\u001b[0m in \u001b[0;36m<cell line: 0>\u001b[0;34m()\u001b[0m\n\u001b[1;32m      6\u001b[0m \u001b[0mmy_tuple\u001b[0m \u001b[0;34m=\u001b[0m \u001b[0;34m(\u001b[0m\u001b[0;36m1\u001b[0m\u001b[0;34m,\u001b[0m\u001b[0;36m2\u001b[0m\u001b[0;34m,\u001b[0m\u001b[0;36m3\u001b[0m\u001b[0;34m)\u001b[0m\u001b[0;34m\u001b[0m\u001b[0;34m\u001b[0m\u001b[0m\n\u001b[1;32m      7\u001b[0m \u001b[0mprint\u001b[0m\u001b[0;34m(\u001b[0m\u001b[0;34m\"Original tuple:\"\u001b[0m\u001b[0;34m,\u001b[0m \u001b[0mmy_tuple\u001b[0m\u001b[0;34m)\u001b[0m\u001b[0;34m\u001b[0m\u001b[0;34m\u001b[0m\u001b[0m\n\u001b[0;32m----> 8\u001b[0;31m \u001b[0mmy_tuple\u001b[0m\u001b[0;34m[\u001b[0m\u001b[0;36m0\u001b[0m\u001b[0;34m]\u001b[0m \u001b[0;34m=\u001b[0m \u001b[0;36m4\u001b[0m\u001b[0;34m\u001b[0m\u001b[0;34m\u001b[0m\u001b[0m\n\u001b[0m\u001b[1;32m      9\u001b[0m \u001b[0mprint\u001b[0m\u001b[0;34m(\u001b[0m\u001b[0;34m\"Modified tuple:\"\u001b[0m\u001b[0;34m,\u001b[0m \u001b[0mmy_tuple\u001b[0m\u001b[0;34m)\u001b[0m\u001b[0;34m\u001b[0m\u001b[0;34m\u001b[0m\u001b[0m\n",
            "\u001b[0;31mTypeError\u001b[0m: 'tuple' object does not support item assignment"
          ]
        }
      ]
    },
    {
      "cell_type": "markdown",
      "source": [
        "Lists are mutable, so we can change elements.\n",
        "Tuples are immutable, so trying to modify them results in an error."
      ],
      "metadata": {
        "id": "p0WwPpVjCGKK"
      }
    },
    {
      "cell_type": "markdown",
      "source": [
        "Q6. Write a function to demonstrate the behavior of mutable and immutable argument.\n"
      ],
      "metadata": {
        "id": "AH3_2958CJ1w"
      }
    },
    {
      "cell_type": "code",
      "source": [
        "def modify_values(num, my_list):\n",
        "      num +=10\n",
        "      print(\"Inside Function (num):\" , num)\n",
        "      my_list.append(4)\n",
        "      print(\"Inside Function (my_list):\", my_list)\n",
        "\n",
        "\n",
        "num = 5\n",
        "my_list = [1,2,3]\n",
        "\n",
        "print(\"Before finction call:\")\n",
        "print(\"num:\", num)\n",
        "print(\"my_list:\", my_list)\n",
        "\n",
        "modify_values(num, my_list)\n",
        "\n",
        "print(\"After function call:\")\n",
        "print(\"num:\", num)\n",
        "print(\"my_list:\", my_list)"
      ],
      "metadata": {
        "colab": {
          "base_uri": "https://localhost:8080/"
        },
        "id": "rFLCMVTQCCgg",
        "outputId": "4a5b87a0-c27b-455e-ed67-bd3eb481c92c"
      },
      "execution_count": 6,
      "outputs": [
        {
          "output_type": "stream",
          "name": "stdout",
          "text": [
            "Before finction call:\n",
            "num: 5\n",
            "my_list: [1, 2, 3]\n",
            "Inside Function (num): 15\n",
            "Inside Function (my_list): [1, 2, 3, 4]\n",
            "After function call:\n",
            "num: 5\n",
            "my_list: [1, 2, 3, 4]\n"
          ]
        }
      ]
    },
    {
      "cell_type": "markdown",
      "source": [
        "When we pass an integer , num = 5 to a function, Python does not modify the orginal number. Instead, it creates a new copy of the integer inside the function.When num+= 10 is executed inside the function, Python creates a new variable instead of modifying the original num.\n",
        "whereas Lists are mutable, so changes inside the function (my_list.append(4)) directly affect the original object.\n"
      ],
      "metadata": {
        "id": "bgWg0wkqIzId"
      }
    },
    {
      "cell_type": "markdown",
      "source": [
        "Q7.Write a program to demonstrate the use of logical operators.\n",
        "\n"
      ],
      "metadata": {
        "id": "-t0IMzCnJYNb"
      }
    },
    {
      "cell_type": "code",
      "source": [
        "a = 10\n",
        "b = 20\n",
        "\n",
        "print(a>5 and b<30)\n",
        "print(a>5 or b<30)\n",
        "print(not a>5)\n",
        "\n"
      ],
      "metadata": {
        "colab": {
          "base_uri": "https://localhost:8080/"
        },
        "id": "oLRPEz-bJu1S",
        "outputId": "0b29d3b7-ad39-4959-e140-83b958b06609"
      },
      "execution_count": 7,
      "outputs": [
        {
          "output_type": "stream",
          "name": "stdout",
          "text": [
            "True\n",
            "True\n",
            "False\n"
          ]
        }
      ]
    },
    {
      "cell_type": "markdown",
      "source": [
        "Q8.Write a Python program to convert user input from string to integer, float, and boolean types.\n"
      ],
      "metadata": {
        "id": "9t90H8QILCMX"
      }
    },
    {
      "cell_type": "code",
      "source": [
        "def convert_values():\n",
        "  user_input = input(\"Enter a value:\")\n",
        "\n",
        "  int_value = int(user_input)\n",
        "  print(\"Integer Value:\", int_value)\n",
        "\n",
        "  float_value = float(user_input)\n",
        "  print(\"Float Value:\", float_value)\n",
        "\n",
        "  bool_value = bool(user_input)\n",
        "  print(\"Boolean Value:\", bool_value)\n",
        "\n",
        "convert_values()"
      ],
      "metadata": {
        "colab": {
          "base_uri": "https://localhost:8080/"
        },
        "id": "owcFTtVHIhln",
        "outputId": "473159c6-34db-4699-ef27-b86885afacaf"
      },
      "execution_count": 9,
      "outputs": [
        {
          "output_type": "stream",
          "name": "stdout",
          "text": [
            "Enter a value:34\n",
            "Integer Value: 34\n",
            "Float Value: 34.0\n",
            "Boolean Value: True\n"
          ]
        }
      ]
    },
    {
      "cell_type": "markdown",
      "source": [
        "Q9.Write code to demonstrate type casting with list elements\n"
      ],
      "metadata": {
        "id": "Jow6AIcWMhQ3"
      }
    },
    {
      "cell_type": "code",
      "source": [
        "my_list = [10, 20.5, 30,True]\n",
        "\n",
        "int_value = int(my_list[1])\n",
        "float_value = float(my_list[0])\n",
        "bool_value = bool(my_list[2])\n",
        "str_value = str(my_list[3])\n",
        "\n",
        "print(\"Integer Value:\", int_value)\n",
        "print(\"Float Value:\", float_value)\n",
        "print(\"Boolean Value:\", bool_value)\n",
        "print(\"String Value:\", str_value)\n",
        "\n"
      ],
      "metadata": {
        "colab": {
          "base_uri": "https://localhost:8080/"
        },
        "id": "HgBBA6eUMqQX",
        "outputId": "37be3654-8b65-43b0-c758-4de898fcafa9"
      },
      "execution_count": 14,
      "outputs": [
        {
          "output_type": "stream",
          "name": "stdout",
          "text": [
            "Integer Value: 20\n",
            "Float Value: 10.0\n",
            "Boolean Value: True\n",
            "String Value: True\n"
          ]
        }
      ]
    },
    {
      "cell_type": "markdown",
      "source": [
        "Q10.Write a program that checks if a number is positive, negative, or zero"
      ],
      "metadata": {
        "id": "77ZJZuk_PuG3"
      }
    },
    {
      "cell_type": "code",
      "source": [
        "number = int(input(\"Enter a Number: \"))\n",
        "\n",
        "def check_number(number):\n",
        "  if number > 0:\n",
        "    print(\"The number is positive\")\n",
        "  elif number < 0:\n",
        "    print(\"The number is negative\")\n",
        "  else:\n",
        "    print(\"The number is zero.\")\n",
        "check_number()"
      ],
      "metadata": {
        "colab": {
          "base_uri": "https://localhost:8080/"
        },
        "id": "OvPOaNO9Pxeq",
        "outputId": "14f7c8c5-382b-451a-e187-aac7f8210a5d"
      },
      "execution_count": 15,
      "outputs": [
        {
          "output_type": "stream",
          "name": "stdout",
          "text": [
            "Enter a Number: 34\n",
            "The number is positive\n"
          ]
        }
      ]
    },
    {
      "cell_type": "markdown",
      "source": [
        "Q11. Write a for loop to print numbers from 1 to 100\n"
      ],
      "metadata": {
        "id": "6EN1tssfQlRZ"
      }
    },
    {
      "cell_type": "code",
      "source": [
        "for i in range(100):\n",
        "  print(i, end = ' ')"
      ],
      "metadata": {
        "colab": {
          "base_uri": "https://localhost:8080/"
        },
        "id": "e87idBhSQXLB",
        "outputId": "a580f182-cea5-4c51-f8a7-55fa55d6ed13"
      },
      "execution_count": 18,
      "outputs": [
        {
          "output_type": "stream",
          "name": "stdout",
          "text": [
            "0 1 2 3 4 5 6 7 8 9 10 11 12 13 14 15 16 17 18 19 20 21 22 23 24 25 26 27 28 29 30 31 32 33 34 35 36 37 38 39 40 41 42 43 44 45 46 47 48 49 50 51 52 53 54 55 56 57 58 59 60 61 62 63 64 65 66 67 68 69 70 71 72 73 74 75 76 77 78 79 80 81 82 83 84 85 86 87 88 89 90 91 92 93 94 95 96 97 98 99 "
          ]
        }
      ]
    },
    {
      "cell_type": "markdown",
      "source": [
        "Q12.Write a Python program to find the sum of all even numbers between 1 and 500\n"
      ],
      "metadata": {
        "id": "nZnV0iorR1ZL"
      }
    },
    {
      "cell_type": "code",
      "source": [
        "sum_even = 0\n",
        "for i in range(1,501):\n",
        "  if i % 2 == 0:\n",
        "    sum_even += i\n",
        "print(\"The sum of all even numbers between 1 and 500 is:\", sum_even)"
      ],
      "metadata": {
        "colab": {
          "base_uri": "https://localhost:8080/"
        },
        "id": "Mbdj0yTuRvhm",
        "outputId": "75112dfe-4b84-423e-faf4-808b9b972d62"
      },
      "execution_count": 20,
      "outputs": [
        {
          "output_type": "stream",
          "name": "stdout",
          "text": [
            "The sum of all even numbers between 1 and 500 is: 62750\n"
          ]
        }
      ]
    },
    {
      "cell_type": "code",
      "source": [
        "sum_even = sum(i for i in range(2,501,2))\n",
        "print(\"The sum of all even numbers between 1 and 500 is:\", sum_even)"
      ],
      "metadata": {
        "colab": {
          "base_uri": "https://localhost:8080/"
        },
        "id": "15R6gWBVSWSV",
        "outputId": "31d2460d-a083-48ce-f183-f0b0d31f8776"
      },
      "execution_count": 21,
      "outputs": [
        {
          "output_type": "stream",
          "name": "stdout",
          "text": [
            "The sum of all even numbers between 1 and 500 is: 62750\n"
          ]
        }
      ]
    },
    {
      "cell_type": "markdown",
      "source": [
        "Q13.Write a program to reverse a string using a while loop\n",
        "\n",
        "\n",
        "\n"
      ],
      "metadata": {
        "id": "jpsbSxFISrtu"
      }
    },
    {
      "cell_type": "code",
      "source": [
        "s = input(\"Enter a string:\")\n",
        "reversed_s = \"\"\n",
        "i =len(s) - 1\n",
        "\n",
        "while(i >= 0):\n",
        "  reversed_s += s[i]\n",
        "  i -= 1\n",
        "\n",
        "print(\"Reversed String:\", reversed_s)\n",
        "\n"
      ],
      "metadata": {
        "colab": {
          "base_uri": "https://localhost:8080/"
        },
        "id": "5V56IAp-Sybq",
        "outputId": "2ee80b56-7ae0-4694-eecd-da25078e03f3"
      },
      "execution_count": 23,
      "outputs": [
        {
          "output_type": "stream",
          "name": "stdout",
          "text": [
            "Enter a string:Himachal\n",
            "Reversed String: lahcamiH\n"
          ]
        }
      ]
    },
    {
      "cell_type": "markdown",
      "source": [
        "Q14.Write a Python program to calculate the factorial of a number provided by the user using a while loop.\n"
      ],
      "metadata": {
        "id": "Zf74vuaPVn-f"
      }
    },
    {
      "cell_type": "code",
      "source": [
        "num = int(input(\"Enter a number: \"))\n",
        "fact =1\n",
        "n = num\n",
        "\n",
        "while n >1:\n",
        "  fact = fact *n\n",
        "  n = n-1\n",
        "\n",
        "print(\"The factorial of\", num, \"is:\", fact)"
      ],
      "metadata": {
        "colab": {
          "base_uri": "https://localhost:8080/"
        },
        "id": "J7w76TsHVtOF",
        "outputId": "19b4d872-386b-4aa2-a60b-1bff24ffbc91"
      },
      "execution_count": 25,
      "outputs": [
        {
          "output_type": "stream",
          "name": "stdout",
          "text": [
            "Enter a number: 6\n",
            "The factorial of 6 is: 720\n"
          ]
        }
      ]
    },
    {
      "cell_type": "code",
      "source": [],
      "metadata": {
        "id": "gQtJjGNuWfsZ"
      },
      "execution_count": null,
      "outputs": []
    }
  ]
}